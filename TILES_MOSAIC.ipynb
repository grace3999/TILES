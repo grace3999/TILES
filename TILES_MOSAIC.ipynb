{
 "cells": [
  {
   "cell_type": "code",
   "execution_count": null,
   "metadata": {},
   "outputs": [],
   "source": [
    "#getting and working with data\n",
    "import pandas as pd\n",
    "import numpy as np\n",
    "import re\n",
    "import os\n",
    "\n",
    "import scipy.stats as stats\n",
    "\n",
    "from sklearn.preprocessing import StandardScaler, Normalizer, LabelEncoder, PolynomialFeatures\n",
    "from sklearn.model_selection import KFold, StratifiedKFold, GroupKFold, train_test_split, cross_val_score, cross_val_predict, GridSearchCV, RandomizedSearchCV\n",
    "\n",
    "from sklearn.cluster import KMeans\n",
    "from sklearn.metrics.cluster import silhouette_score\n",
    "\n",
    "from sklearn.dummy import DummyClassifier\n",
    "from sklearn.linear_model import LogisticRegression\n",
    "from sklearn.ensemble import RandomForestClassifier\n",
    "from sklearn.neighbors import KNeighborsClassifier\n",
    "from sklearn.svm import SVC  \n",
    "from sklearn import metrics\n",
    "from sklearn.metrics import auc, accuracy_score, confusion_matrix, mean_squared_error, roc_auc_score\n",
    "from sklearn.metrics import confusion_matrix\n",
    "from sklearn.metrics import roc_auc_score\n",
    "from sklearn.metrics import mean_squared_error, accuracy_score\n",
    "\n",
    "#visualizing results\n",
    "%matplotlib inline\n",
    "import seaborn as sns\n",
    "import matplotlib.pyplot as plt\n",
    "#import yellowbrick as yb\n",
    "\n",
    "pd.set_option('display.max_rows', 500)\n",
    "pd.set_option('display.max_columns', 500)\n",
    "pd.set_option('display.width', 1000)\n",
    "\n",
    "import warnings; warnings.simplefilter('ignore')\n",
    "np.set_printoptions(suppress=True)"
   ]
  },
  {
   "cell_type": "code",
   "execution_count": null,
   "metadata": {},
   "outputs": [],
   "source": []
  },
  {
   "cell_type": "code",
   "execution_count": null,
   "metadata": {},
   "outputs": [],
   "source": [
    "path = 'C:/Users/Schindler/Documents/Schindler_Lab/ML projects/TILES/Data/EMA surveys -MOSAIC.csv'"
   ]
  },
  {
   "cell_type": "code",
   "execution_count": null,
   "metadata": {
    "scrolled": true
   },
   "outputs": [],
   "source": [
    "data = pd.read_csv(path)\n",
    "data = pd.DataFrame(data = data)\n",
    "print('Original MOSAIC EMA shape:\\n', data.shape, '\\n')\n",
    "print('Original MOSAIC EMA survey type counts:\\n', data['survey_type'].value_counts(), '\\n')\n",
    "print('Original MOSAIC EMA missing value couts:\\n', data.isnull().sum(), '\\n')\n",
    "print('Original MOSAIC EMA data types:\\n', data.info(), '\\n')\n",
    "data.head()"
   ]
  },
  {
   "cell_type": "code",
   "execution_count": null,
   "metadata": {},
   "outputs": [],
   "source": [
    "#select survey type\n",
    "data_health_orig = data[data['survey_type'] == 'health']\n",
    "print('Original MOSAIC health survey shape:\\n', data_health_orig.shape, '\\n')\n",
    "#set index\n",
    "data_health_orig.set_index(['uid', 'timestamp', 'survey_type'], inplace=True)\n",
    "\n",
    "#find how many missing\n",
    "print('Original MOSAIC health survey data missing value counts:\\n', data_health_orig.isnull().sum(), '\\n')\n",
    "#drop columns with high missing\n",
    "data_health = data_health_orig.dropna(axis=1, thresh=300)\n",
    "print('Data shape after dropping columns:\\n', data_health.shape, '\\n')\n",
    "#find out if still missing\n",
    "print('Still missing:\\n', data_health.isnull().sum(), '\\n')\n",
    "#drop anything with a na\n",
    "data_health_nonull = data_health.dropna()\n",
    "#confirm no more missing\n",
    "print('Missing check:\\n', data_health_nonull.isnull().sum(), '\\n')\n",
    "\n",
    "print('No null data_job shape:\\n', data_health_nonull.shape, '\\n')\n",
    "\n",
    "print(\"Fraction of data kept:\\n\",float(data_health_nonull.shape[0])/data_health.shape[0])\n",
    "\n",
    "data_health_nonull.head()"
   ]
  },
  {
   "cell_type": "code",
   "execution_count": null,
   "metadata": {},
   "outputs": [],
   "source": [
    "sns.pairplot(data_health_nonull, kind = 'reg')"
   ]
  },
  {
   "cell_type": "code",
   "execution_count": null,
   "metadata": {},
   "outputs": [],
   "source": []
  },
  {
   "cell_type": "code",
   "execution_count": null,
   "metadata": {},
   "outputs": [],
   "source": []
  },
  {
   "cell_type": "code",
   "execution_count": null,
   "metadata": {},
   "outputs": [],
   "source": []
  },
  {
   "cell_type": "code",
   "execution_count": null,
   "metadata": {},
   "outputs": [],
   "source": []
  },
  {
   "cell_type": "code",
   "execution_count": null,
   "metadata": {},
   "outputs": [],
   "source": []
  }
 ],
 "metadata": {
  "kernelspec": {
   "display_name": "Python 3",
   "language": "python",
   "name": "python3"
  },
  "language_info": {
   "codemirror_mode": {
    "name": "ipython",
    "version": 3
   },
   "file_extension": ".py",
   "mimetype": "text/x-python",
   "name": "python",
   "nbconvert_exporter": "python",
   "pygments_lexer": "ipython3",
   "version": "3.6.7"
  }
 },
 "nbformat": 4,
 "nbformat_minor": 2
}
