{
 "cells": [
  {
   "cell_type": "code",
   "execution_count": null,
   "metadata": {},
   "outputs": [],
   "source": [
    "#getting and working with data\n",
    "import pandas as pd\n",
    "import numpy as np\n",
    "import re\n",
    "import os\n",
    "\n",
    "import scipy.stats as stats\n",
    "\n",
    "from sklearn.preprocessing import StandardScaler, Normalizer, LabelEncoder, PolynomialFeatures\n",
    "from sklearn.model_selection import KFold, StratifiedKFold, GroupKFold, train_test_split, cross_val_score, cross_val_predict, GridSearchCV, RandomizedSearchCV\n",
    "\n",
    "from sklearn.cluster import KMeans\n",
    "from sklearn.metrics.cluster import silhouette_score\n",
    "\n",
    "from sklearn.dummy import DummyClassifier\n",
    "from sklearn.linear_model import LogisticRegression\n",
    "from sklearn.ensemble import RandomForestClassifier\n",
    "from sklearn.neighbors import KNeighborsClassifier\n",
    "from sklearn.svm import SVC  \n",
    "from sklearn import metrics\n",
    "from sklearn.metrics import auc, accuracy_score, confusion_matrix, mean_squared_error, roc_auc_score\n",
    "from sklearn.metrics import confusion_matrix\n",
    "from sklearn.metrics import roc_auc_score\n",
    "from sklearn.metrics import mean_squared_error, accuracy_score\n",
    "\n",
    "#visualizing results\n",
    "%matplotlib inline\n",
    "import seaborn as sns\n",
    "import matplotlib.pyplot as plt\n",
    "#import yellowbrick as yb\n",
    "\n",
    "pd.set_option('display.max_rows', 500)\n",
    "pd.set_option('display.max_columns', 500)\n",
    "pd.set_option('display.width', 1000)\n",
    "\n",
    "import warnings; warnings.simplefilter('ignore')\n",
    "np.set_printoptions(suppress=True)"
   ]
  },
  {
   "cell_type": "code",
   "execution_count": null,
   "metadata": {},
   "outputs": [],
   "source": [
    "path = 'C:/Users/Schindler/Documents/Schindler_Lab/Data/Clinical projects/TILES/Data_googledrive/EMA surveys -MOSAIC.csv'"
   ]
  },
  {
   "cell_type": "code",
   "execution_count": null,
   "metadata": {
    "scrolled": true
   },
   "outputs": [],
   "source": [
    "data = pd.read_csv(path)\n",
    "data = pd.DataFrame(data = data)\n",
    "print('Original MOSAIC EMA shape:\\n', data.shape, '\\n')\n",
    "print('Original MOSAIC EMA survey type counts:\\n', data['survey_type'].value_counts(), '\\n')\n",
    "print('Original MOSAIC EMA missing value couts:\\n', data.isnull().sum(), '\\n')\n",
    "print('Original MOSAIC EMA data types:\\n', data.info(), '\\n')"
   ]
  },
  {
   "cell_type": "code",
   "execution_count": null,
   "metadata": {},
   "outputs": [],
   "source": [
    "#data consists of three different EMA surveys (health, job, personality), each with different set of questions asked\n",
    "data.groupby('survey_type').count()"
   ]
  },
  {
   "cell_type": "code",
   "execution_count": null,
   "metadata": {},
   "outputs": [],
   "source": [
    "#interested in stress as starting variable\n",
    "data.groupby(['survey_type', 'stress_mgt']).mean()"
   ]
  },
  {
   "cell_type": "code",
   "execution_count": null,
   "metadata": {},
   "outputs": [],
   "source": [
    "#lets look at how each parameter changes as a result of reported stress levels for each survey types (eg secondary question of whether survey type affects reponses)\n",
    "\n",
    "#get column names (eg parameters)\n",
    "parameters = data.groupby('stress_mgt').mean().columns.values\n",
    "\n",
    "for param in parameters:\n",
    "    data.groupby(['survey_type', 'stress_mgt'])[param].mean().plot(kind='bar', yerr=data.groupby(['survey_type', 'stress_mgt'])[param].sem())\n",
    "    plt.ylabel([param])\n",
    "    plt.show()"
   ]
  },
  {
   "cell_type": "code",
   "execution_count": null,
   "metadata": {},
   "outputs": [],
   "source": [
    "#create separate data frame for each survey\n",
    "print('Health EMA data', '\\n')\n",
    "print('Missing values per column', '\\n', data[data['survey_type'] == 'health'].isnull().sum(), '\\n')\n",
    "data_health = data[data['survey_type'] == 'health'].dropna(thresh = 100, axis = 1)\n",
    "print(data_health.shape, '\\n', '\\n')\n",
    "\n",
    "print('Job EMA data', '\\n')\n",
    "print('Missing values per column', '\\n', data[data['survey_type'] == 'job'].isnull().sum(), '\\n')\n",
    "data_job = data[data['survey_type'] == 'job'].dropna(thresh = 100, axis = 1)\n",
    "print(data_job.shape, '\\n', '\\n')\n",
    "\n",
    "print('Personality EMA data', '\\n')\n",
    "print('Missing values per column', '\\n', data[data['survey_type'] == 'personality'].isnull().sum(), '\\n')\n",
    "data_personality = data[data['survey_type'] == 'personality'].dropna(thresh = 100, axis = 1)\n",
    "print(data_personality.shape, '\\n', '\\n')"
   ]
  },
  {
   "cell_type": "code",
   "execution_count": null,
   "metadata": {},
   "outputs": [],
   "source": []
  },
  {
   "cell_type": "code",
   "execution_count": null,
   "metadata": {},
   "outputs": [],
   "source": []
  },
  {
   "cell_type": "code",
   "execution_count": null,
   "metadata": {},
   "outputs": [],
   "source": []
  },
  {
   "cell_type": "code",
   "execution_count": null,
   "metadata": {},
   "outputs": [],
   "source": []
  },
  {
   "cell_type": "code",
   "execution_count": null,
   "metadata": {},
   "outputs": [],
   "source": []
  }
 ],
 "metadata": {
  "kernelspec": {
   "display_name": "Python 3",
   "language": "python",
   "name": "python3"
  },
  "language_info": {
   "codemirror_mode": {
    "name": "ipython",
    "version": 3
   },
   "file_extension": ".py",
   "mimetype": "text/x-python",
   "name": "python",
   "nbconvert_exporter": "python",
   "pygments_lexer": "ipython3",
   "version": "3.6.7"
  }
 },
 "nbformat": 4,
 "nbformat_minor": 2
}
