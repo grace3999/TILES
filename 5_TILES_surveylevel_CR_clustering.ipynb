{
 "cells": [
  {
   "cell_type": "markdown",
   "metadata": {},
   "source": [
    "Careless responder survey level clustering"
   ]
  },
  {
   "cell_type": "code",
   "execution_count": null,
   "metadata": {},
   "outputs": [],
   "source": [
    "#getting and working with data\n",
    "import pandas as pd\n",
    "import numpy as np\n",
    "import re\n",
    "import os\n",
    "from itertools import groupby\n",
    "import datetime as dt\n",
    "import scipy as sp\n",
    "import math\n",
    "\n",
    "#visualizing results\n",
    "%matplotlib inline\n",
    "import seaborn as sns\n",
    "import matplotlib.pyplot as plt\n",
    "#import yellowbrick as yb\n",
    "\n",
    "pd.set_option('display.max_rows', 500)\n",
    "pd.set_option('display.max_columns', 500)\n",
    "pd.set_option('display.width', 1000)\n",
    "\n",
    "import warnings; warnings.simplefilter('ignore')\n",
    "np.set_printoptions(suppress=True)\n",
    "\n",
    "from sklearn.preprocessing import StandardScaler\n",
    "from sklearn.cluster import KMeans\n",
    "from sklearn.metrics.cluster import silhouette_score"
   ]
  },
  {
   "cell_type": "code",
   "execution_count": null,
   "metadata": {},
   "outputs": [],
   "source": [
    "data_path = 'C:/Users/Schindler/Documents/Schindler_Lab/Data/Clinical projects/TILES/final_data/surveys_CR.pkl'"
   ]
  },
  {
   "cell_type": "code",
   "execution_count": null,
   "metadata": {},
   "outputs": [],
   "source": [
    "#read in csv containing data from all surveys\n",
    "full_data = pd.read_pickle(data_path)\n",
    "full_data = pd.DataFrame(data = full_data)\n",
    "full_data.reset_index(inplace=True, drop=True)\n",
    "\n",
    "print('Original data shape:\\n', full_data.shape, '\\n')\n",
    "#ensure no replicate ID (212 participants in study)\n",
    "print('Original data unique IDs:\\n', full_data['ParticipantID'].unique().shape, '\\n')\n",
    "#ensure no replicate ID (212 participants in study)\n",
    "print('Original data unique IDs:\\n', full_data['MitreID'].unique().shape, '\\n')\n",
    "#how much missing data is there?\n",
    "print('Original data missing value counts:\\n', full_data.isnull().sum(), '\\n')\n",
    "#what is the data type of each column?\n",
    "print('Original data data types:\\n', full_data.info(), '\\n')"
   ]
  },
  {
   "cell_type": "code",
   "execution_count": null,
   "metadata": {},
   "outputs": [],
   "source": [
    "full_data['survey_type'].value_counts()"
   ]
  },
  {
   "cell_type": "code",
   "execution_count": null,
   "metadata": {},
   "outputs": [],
   "source": [
    "#should be 71\n",
    "len(full_data['wave_study_day'].unique())"
   ]
  },
  {
   "cell_type": "code",
   "execution_count": null,
   "metadata": {},
   "outputs": [],
   "source": [
    "full_data.head(1)"
   ]
  },
  {
   "cell_type": "code",
   "execution_count": null,
   "metadata": {},
   "outputs": [],
   "source": [
    "full_data.set_index(['MitreID', 'survey_type', 'wave_study_day', 'wave_study_date_bin'], inplace=True)\n",
    "full_data.head()"
   ]
  },
  {
   "cell_type": "markdown",
   "metadata": {},
   "source": [
    "### explore CR across survey types"
   ]
  },
  {
   "cell_type": "code",
   "execution_count": null,
   "metadata": {},
   "outputs": [],
   "source": [
    "full_data.index.get_level_values('survey_type').value_counts()"
   ]
  },
  {
   "cell_type": "code",
   "execution_count": null,
   "metadata": {
    "scrolled": true
   },
   "outputs": [],
   "source": [
    "engage_CRs = ['mean_diff_hinderance_vs_support', 'time_to_complete',\n",
    "       'longstring_count_engage', 'longstring_answer_engage',\n",
    "       'longstring_count_norm_engage', 'longstring_mult_engage',\n",
    "       'ls_auc_engage', 'ls_std_engage', 'ls_skew_engage',\n",
    "       'ls_kurt_engage', 'ls_auc_seeded_engage', 'ls_std_seeded_engage',\n",
    "       'ls_skew_seeded_engage', 'ls_kurt_seeded_engage', 'context_homevsworking',\n",
    "       'context_workvsactivities', 'context_workvswork',\n",
    "       'context_drivevsdrive']\n",
    "\n",
    "psych_flex_CRs = ['longstring_count_pf',\n",
    "       'longstring_answer_pf', 'longstring_count_norm_pf',\n",
    "       'longstring_mult_pf', 'ls_auc_pf', 'ls_std_pf', 'ls_skew_pf',\n",
    "       'ls_kurt_pf', 'ls_auc_seeded_pf', 'ls_std_seeded_pf',\n",
    "       'ls_skew_seeded_pf', 'ls_kurt_seeded_pf', 'time_to_complete']\n",
    "\n",
    "jobsatwork_CRs = ['mean_diff_ave',\n",
    "       'mean_diff_affect_posneg', 'mean_diff_nervous_anxiety',\n",
    "       'mean_diff_irb_irb', 'mean_diff_dalal_posneg', \n",
    "                  'longstring_count_norm_ave', 'longstring_count_norm_affect', 'longstring_count_norm_irbd', 'longstring_count_norm_dalal',\n",
    "                  'time_to_complete',\n",
    "       'longstring_count_affect', 'longstring_answer_affect',\n",
    "        'longstring_mult_affect',\n",
    "       'ls_auc_affect', 'ls_std_affect', 'ls_skew_affect',\n",
    "       'ls_kurt_affect', 'ls_auc_seeded_affect', 'ls_std_seeded_affect',\n",
    "       'ls_skew_seeded_affect', 'ls_kurt_seeded_affect',\n",
    "       'longstring_count_irbd', 'longstring_answer_irbd',\n",
    "       'longstring_mult_irbd',\n",
    "       'ls_auc_irbd', 'ls_std_irbd', 'ls_skew_irbd', 'ls_kurt_irbd',\n",
    "       'ls_auc_seeded_irbd', 'ls_std_seeded_irbd', 'ls_skew_seeded_irbd',\n",
    "       'ls_kurt_seeded_irbd', 'longstring_count_dalal',\n",
    "       'longstring_answer_dalal', \n",
    "       'longstring_mult_dalal', 'ls_auc_dalal', 'ls_std_dalal',\n",
    "       'ls_skew_dalal', 'ls_kurt_dalal', 'ls_auc_seeded_dalal',\n",
    "       'ls_std_seeded_dalal', 'ls_skew_seeded_dalal',\n",
    "       'ls_kurt_seeded_dalal', 'context_homevsworking',\n",
    "       'context_workvsactivities', 'context_workvswork',\n",
    "       'context_drivevsdrive']\n",
    "\n",
    "jobsnotatwork_CRs = ['mean_diff_ave',\n",
    "       'mean_diff_affect_posneg', 'mean_diff_nervous_anxiety',\n",
    "       'longstring_count_affect', 'longstring_answer_affect',\n",
    "       'longstring_count_norm_affect', 'longstring_mult_affect',\n",
    "       'ls_auc_affect', 'ls_std_affect', 'ls_skew_affect',\n",
    "       'ls_kurt_affect', 'ls_auc_seeded_affect', 'ls_std_seeded_affect',\n",
    "       'ls_skew_seeded_affect', 'ls_kurt_seeded_affect', 'time_to_complete', 'context_homevsworking',\n",
    "       'context_workvsactivities', 'context_workvswork',\n",
    "       'context_drivevsdrive']\n",
    "\n",
    "health_CRs = ['mean_diff_ave',\n",
    "       'mean_diff_affect_posneg', 'mean_diff_nervous_anxiety', 'intake_check_alc',\n",
    "       'intake_check_nic', 'time_to_complete',\n",
    "       'longstring_count_affect', 'longstring_answer_affect',\n",
    "       'longstring_count_norm_affect', 'longstring_mult_affect',\n",
    "       'ls_auc_affect', 'ls_std_affect', 'ls_skew_affect',\n",
    "       'ls_kurt_affect', 'ls_auc_seeded_affect', 'ls_std_seeded_affect',\n",
    "       'ls_skew_seeded_affect', 'ls_kurt_seeded_affect', 'context_homevsworking',\n",
    "       'context_workvsactivities', 'context_workvswork',\n",
    "       'context_drivevsdrive']\n",
    "\n",
    "personality_CRs = ['mean_diff_ave',\n",
    "       'mean_diff_affect_posneg', 'mean_diff_nervous_anxiety', 'mean_diff_extraversion',\n",
    "       'mean_diff_agreeableness', 'mean_diff_conscientiousness',\n",
    "       'mean_diff_neuroticism', 'mean_diff_openness', \n",
    "                   'longstring_count_norm_ave', 'longstring_count_norm_affect', 'longstring_count_norm_personality',\n",
    "                   'time_to_complete', \n",
    "       'longstring_count_affect', 'longstring_answer_affect',\n",
    "       'longstring_mult_affect',\n",
    "       'ls_auc_affect', 'ls_std_affect', 'ls_skew_affect',\n",
    "       'ls_kurt_affect', 'ls_auc_seeded_affect', 'ls_std_seeded_affect',\n",
    "       'ls_skew_seeded_affect', 'ls_kurt_seeded_affect', \n",
    "       'longstring_count_personality', 'longstring_answer_personality',\n",
    "        'longstring_mult_personality',\n",
    "       'ls_auc_personality', 'ls_std_personality', 'ls_skew_personality',\n",
    "       'ls_kurt_personality', 'ls_auc_seeded_personality',\n",
    "       'ls_std_seeded_personality', 'ls_skew_seeded_personality',\n",
    "       'ls_kurt_seeded_personality', 'context_homevsworking',\n",
    "       'context_workvsactivities', 'context_workvswork',\n",
    "       'context_drivevsdrive']"
   ]
  },
  {
   "cell_type": "markdown",
   "metadata": {},
   "source": [
    "## Clustering"
   ]
  },
  {
   "cell_type": "code",
   "execution_count": null,
   "metadata": {},
   "outputs": [],
   "source": [
    "personality_CRs = ['mean_diff_ave',\n",
    "       'mean_diff_affect_posneg', 'mean_diff_nervous_anxiety', 'mean_diff_extraversion',\n",
    "       'mean_diff_agreeableness', 'mean_diff_conscientiousness',\n",
    "       'mean_diff_neuroticism', 'mean_diff_openness', \n",
    "                   'longstring_count_norm_ave', 'longstring_count_norm_affect', 'longstring_count_norm_personality',\n",
    "                   'time_to_complete', \n",
    "       'longstring_count_affect', 'longstring_answer_affect',\n",
    "       'longstring_mult_affect',\n",
    "       'ls_auc_affect', 'ls_std_affect', 'ls_skew_affect',\n",
    "       'ls_kurt_affect', 'ls_auc_seeded_affect', 'ls_std_seeded_affect',\n",
    "       'ls_skew_seeded_affect', 'ls_kurt_seeded_affect', \n",
    "       'longstring_count_personality', 'longstring_answer_personality',\n",
    "        'longstring_mult_personality',\n",
    "       'ls_auc_personality', 'ls_std_personality', 'ls_skew_personality',\n",
    "       'ls_kurt_personality', 'ls_auc_seeded_personality',\n",
    "       'ls_std_seeded_personality', 'ls_skew_seeded_personality',\n",
    "       'ls_kurt_seeded_personality', 'context_homevsworking',\n",
    "       'context_workvsactivities', 'context_workvswork',\n",
    "       'context_drivevsdrive']\n",
    "\n",
    "personality = full_data[full_data.index.get_level_values('survey_type') == 'personality'][personality_CRs]\n",
    "print(personality.shape)\n",
    "personality['mean_diff_pers'] = personality.loc[:,'mean_diff_extraversion':'mean_diff_neuroticism'].mean(axis=1)\n",
    "personality.dropna(inplace=True, axis=0)\n",
    "print(personality.shape)\n",
    "personality.head(1)"
   ]
  },
  {
   "cell_type": "code",
   "execution_count": null,
   "metadata": {},
   "outputs": [],
   "source": [
    "#select features with highest coef of var\n",
    "personality_var = sp.stats.variation(personality, axis=0)\n",
    "sorted_var = sorted(zip(personality.columns.values, personality_var), key=lambda x: x[1])\n",
    "sorted_var"
   ]
  },
  {
   "cell_type": "code",
   "execution_count": null,
   "metadata": {},
   "outputs": [],
   "source": [
    "personality_CRs_final = ['mean_diff_pers',\n",
    "                         'longstring_count_affect', \n",
    "                         'longstring_mult_affect',\n",
    "                         'longstring_count_personality',\n",
    "                         'longstring_mult_personality']\n",
    "\n",
    "\n",
    "personality_features = personality[personality_CRs_final]\n",
    "\n",
    "# center and scale the data\n",
    "scaler = StandardScaler()\n",
    "\n",
    "#full feature set\n",
    "personality_scaled = scaler.fit_transform(personality_features)\n",
    "\n",
    "#determine optimal k\n",
    "k_range = range(2,10)\n",
    "scores = []\n",
    "for k in k_range:\n",
    "    km_ss = KMeans(n_clusters=k, random_state=1)\n",
    "    km_ss.fit(personality_scaled)\n",
    "    scores.append(silhouette_score(personality_scaled, km_ss.labels_))\n",
    "\n",
    "# plot the results\n",
    "plt.plot(k_range, scores)\n",
    "plt.xlabel('Number of clusters')\n",
    "plt.ylabel('Silhouette Coefficient')\n",
    "plt.title('Personality kmeans at survey level')"
   ]
  },
  {
   "cell_type": "code",
   "execution_count": null,
   "metadata": {},
   "outputs": [],
   "source": [
    "personality_km_survey = KMeans(n_clusters=2,random_state=1234)\n",
    "personality_km_survey.fit(personality_scaled)\n",
    "print(silhouette_score(personality_scaled, personality_km_survey.labels_))\n",
    "\n",
    "personality['clusters'] = [label for label in personality_km_survey.labels_ ]\n",
    "personality_features['clusters'] = [label for label in personality_km_survey.labels_ ]\n",
    "\n",
    "print(personality_features['clusters'].value_counts())\n",
    "\n",
    "sns.pairplot(personality_features, hue='clusters')"
   ]
  },
  {
   "cell_type": "code",
   "execution_count": null,
   "metadata": {},
   "outputs": [],
   "source": [
    "personality['good_bad'] = ['good' if x == 0 else 'bad' for x in personality['clusters']]\n",
    "personality.head()"
   ]
  },
  {
   "cell_type": "code",
   "execution_count": null,
   "metadata": {},
   "outputs": [],
   "source": [
    "health_CRs = ['mean_diff_ave',\n",
    "       'mean_diff_affect_posneg', 'mean_diff_nervous_anxiety', 'intake_check_alc',\n",
    "       'intake_check_nic', 'time_to_complete',\n",
    "       'longstring_count_affect', 'longstring_answer_affect',\n",
    "       'longstring_count_norm_affect', 'longstring_mult_affect',\n",
    "       'ls_auc_affect', 'ls_std_affect', 'ls_skew_affect',\n",
    "       'ls_kurt_affect', 'ls_auc_seeded_affect', 'ls_std_seeded_affect',\n",
    "       'ls_skew_seeded_affect', 'ls_kurt_seeded_affect', 'context_homevsworking',\n",
    "       'context_workvsactivities', 'context_workvswork',\n",
    "       'context_drivevsdrive']\n",
    "\n",
    "health = full_data[full_data.index.get_level_values('survey_type') == 'health'][health_CRs]\n",
    "print(health.shape)\n",
    "health.dropna(inplace=True, axis=0)\n",
    "print(health.shape)\n",
    "\n",
    "health_CRs_final = ['longstring_count_affect', 'longstring_mult_affect',\n",
    "       'ls_auc_affect', 'ls_std_affect']\n",
    "\n",
    "health_features = health[health_CRs_final]\n",
    "\n",
    "# center and scale the data\n",
    "scaler = StandardScaler()\n",
    "\n",
    "#full feature set\n",
    "health_scaled = scaler.fit_transform(health_features)\n",
    "\n",
    "#determine optimal k\n",
    "k_range = range(2,10)\n",
    "scores = []\n",
    "for k in k_range:\n",
    "    km_ss = KMeans(n_clusters=k, random_state=1)\n",
    "    km_ss.fit(health_scaled)\n",
    "    scores.append(silhouette_score(health_scaled, km_ss.labels_))\n",
    "\n",
    "# plot the results\n",
    "plt.plot(k_range, scores)\n",
    "plt.xlabel('Number of clusters')\n",
    "plt.ylabel('Silhouette Coefficient')\n",
    "plt.title('Health kmeans at survey level')"
   ]
  },
  {
   "cell_type": "code",
   "execution_count": null,
   "metadata": {},
   "outputs": [],
   "source": [
    "health_km_survey = KMeans(n_clusters=3,random_state=1234)\n",
    "health_km_survey.fit(health_scaled)\n",
    "print(silhouette_score(health_scaled, health_km_survey.labels_))\n",
    "\n",
    "health['clusters'] = [label for label in health_km_survey.labels_ ]\n",
    "health_features['clusters'] = [label for label in health_km_survey.labels_ ]\n",
    "\n",
    "print(health_features['clusters'].value_counts())\n",
    "\n",
    "sns.pairplot(health_features, hue='clusters')"
   ]
  },
  {
   "cell_type": "code",
   "execution_count": null,
   "metadata": {},
   "outputs": [],
   "source": [
    "health['good_bad'] = ['bad' if x == 0 else 'good' for x in health['clusters']]\n",
    "health.head()"
   ]
  },
  {
   "cell_type": "code",
   "execution_count": null,
   "metadata": {},
   "outputs": [],
   "source": [
    "jobsatwork_CRs = ['mean_diff_ave',\n",
    "       'mean_diff_affect_posneg', 'mean_diff_nervous_anxiety',\n",
    "       'mean_diff_irb_irb', 'mean_diff_dalal_posneg', \n",
    "                  'longstring_count_norm_ave', 'longstring_count_norm_affect', 'longstring_count_norm_irbd', 'longstring_count_norm_dalal',\n",
    "                  'time_to_complete',\n",
    "       'longstring_count_affect', 'longstring_answer_affect',\n",
    "        'longstring_mult_affect',\n",
    "       'ls_auc_affect', 'ls_std_affect', 'ls_skew_affect',\n",
    "       'ls_kurt_affect', 'ls_auc_seeded_affect', 'ls_std_seeded_affect',\n",
    "       'ls_skew_seeded_affect', 'ls_kurt_seeded_affect',\n",
    "       'longstring_count_irbd', 'longstring_answer_irbd',\n",
    "       'longstring_mult_irbd',\n",
    "       'ls_auc_irbd', 'ls_std_irbd', 'ls_skew_irbd', 'ls_kurt_irbd',\n",
    "       'ls_auc_seeded_irbd', 'ls_std_seeded_irbd', 'ls_skew_seeded_irbd',\n",
    "       'ls_kurt_seeded_irbd', 'longstring_count_dalal',\n",
    "       'longstring_answer_dalal', \n",
    "       'longstring_mult_dalal', 'ls_auc_dalal', 'ls_std_dalal',\n",
    "       'ls_skew_dalal', 'ls_kurt_dalal', 'ls_auc_seeded_dalal',\n",
    "       'ls_std_seeded_dalal', 'ls_skew_seeded_dalal',\n",
    "       'ls_kurt_seeded_dalal', 'context_homevsworking',\n",
    "       'context_workvsactivities', 'context_workvswork',\n",
    "       'context_drivevsdrive']\n",
    "\n",
    "jobs = full_data[full_data.index.get_level_values('survey_type') == 'jobs_atwork'][jobsatwork_CRs]\n",
    "print(jobs.shape)\n",
    "jobs.dropna(inplace=True, axis=0)\n",
    "print(jobs.shape)\n",
    "\n",
    "jobsatwork_CRs_final = ['mean_diff_dalal_posneg', 'time_to_complete',\n",
    "       'longstring_count_affect', 'longstring_mult_affect',\n",
    "       'longstring_count_dalal',\n",
    "       'longstring_mult_dalal']\n",
    "\n",
    "jobs_features = jobs[jobsatwork_CRs_final]\n",
    "\n",
    "# center and scale the data\n",
    "scaler = StandardScaler()\n",
    "\n",
    "#full feature set\n",
    "jobs_scaled = scaler.fit_transform(jobs_features)\n",
    "\n",
    "#determine optimal k\n",
    "k_range = range(2,10)\n",
    "scores = []\n",
    "for k in k_range:\n",
    "    km_ss = KMeans(n_clusters=k, random_state=1)\n",
    "    km_ss.fit(jobs_scaled)\n",
    "    scores.append(silhouette_score(jobs_scaled, km_ss.labels_))\n",
    "\n",
    "# plot the results\n",
    "plt.plot(k_range, scores)\n",
    "plt.xlabel('Number of clusters')\n",
    "plt.ylabel('Silhouette Coefficient')\n",
    "plt.title('Jobs at work kmeans at survey level')"
   ]
  },
  {
   "cell_type": "code",
   "execution_count": null,
   "metadata": {},
   "outputs": [],
   "source": [
    "jobs_km_survey = KMeans(n_clusters=7,random_state=1234)\n",
    "jobs_km_survey.fit(jobs_scaled)\n",
    "print(silhouette_score(jobs_scaled, jobs_km_survey.labels_))\n",
    "\n",
    "jobs['clusters'] = [label for label in jobs_km_survey.labels_ ]\n",
    "jobs_features['clusters'] = [label for label in jobs_km_survey.labels_ ]\n",
    "\n",
    "print(jobs_features['clusters'].value_counts())\n",
    "\n",
    "sns.pairplot(jobs_features, hue='clusters')"
   ]
  },
  {
   "cell_type": "code",
   "execution_count": null,
   "metadata": {},
   "outputs": [],
   "source": [
    "engage_CRs = ['mean_diff_hinderance_vs_support', 'time_to_complete',\n",
    "       'longstring_count_engage', 'longstring_answer_engage',\n",
    "       'longstring_count_norm_engage', 'longstring_mult_engage',\n",
    "       'ls_auc_engage', 'ls_std_engage', 'ls_skew_engage',\n",
    "       'ls_kurt_engage', 'ls_auc_seeded_engage', 'ls_std_seeded_engage',\n",
    "       'ls_skew_seeded_engage', 'ls_kurt_seeded_engage', 'context_homevsworking',\n",
    "       'context_workvsactivities', 'context_workvswork',\n",
    "       'context_drivevsdrive']\n",
    "\n",
    "engage = full_data[full_data.index.get_level_values('survey_type') == 'engage_psycap'][engage_CRs]\n",
    "print(engage.shape)\n",
    "engage.dropna(inplace=True, axis=0)\n",
    "print(engage.shape)\n",
    "\n",
    "engage_CRs_final = ['mean_diff_hinderance_vs_support',  'ls_auc_engage', 'ls_std_engage',\n",
    "      'longstring_count_engage', 'longstring_mult_engage']\n",
    "\n",
    "engage_features = engage[engage_CRs_final]\n",
    "\n",
    "# center and scale the data\n",
    "scaler = StandardScaler()\n",
    "\n",
    "#full feature set\n",
    "engage_scaled = scaler.fit_transform(engage_features)\n",
    "\n",
    "#determine optimal k\n",
    "k_range = range(2,10)\n",
    "scores = []\n",
    "for k in k_range:\n",
    "    km_ss = KMeans(n_clusters=k, random_state=1)\n",
    "    km_ss.fit(engage_scaled)\n",
    "    scores.append(silhouette_score(engage_scaled, km_ss.labels_))\n",
    "\n",
    "# plot the results\n",
    "plt.plot(k_range, scores)\n",
    "plt.xlabel('Number of clusters')\n",
    "plt.ylabel('Silhouette Coefficient')\n",
    "plt.title('Engage kmeans at survey level')"
   ]
  },
  {
   "cell_type": "code",
   "execution_count": null,
   "metadata": {},
   "outputs": [],
   "source": [
    "engage_km_survey = KMeans(n_clusters=2,random_state=1234)\n",
    "engage_km_survey.fit(engage_scaled)\n",
    "print(silhouette_score(engage_scaled, engage_km_survey.labels_))\n",
    "\n",
    "engage['clusters'] = [label for label in engage_km_survey.labels_ ]\n",
    "engage_features['clusters'] = [label for label in engage_km_survey.labels_ ]\n",
    "\n",
    "print(engage_features['clusters'].value_counts())\n",
    "\n",
    "sns.pairplot(engage_features, hue='clusters')"
   ]
  },
  {
   "cell_type": "code",
   "execution_count": null,
   "metadata": {},
   "outputs": [],
   "source": [
    "engage['good_bad'] = ['good' if x == 0 else 'bad' for x in engage['clusters']]\n",
    "engage.head()"
   ]
  },
  {
   "cell_type": "code",
   "execution_count": null,
   "metadata": {},
   "outputs": [],
   "source": [
    "clusters_df = pd.concat([engage, personality, health], axis = 0)\n",
    "clusters_df.head()"
   ]
  },
  {
   "cell_type": "code",
   "execution_count": null,
   "metadata": {},
   "outputs": [],
   "source": [
    "count_df = clusters_df[clusters_df['good_bad'] == 'good'].groupby(['MitreID', 'survey_type'])['good_bad'].count() / clusters_df.groupby(['MitreID', 'survey_type'])['good_bad'].count()\n",
    "count_df = count_df.reset_index(name='count')\n",
    "for part in count_df['MitreID'].unique():\n",
    "    sns.catplot('survey_type', 'count', data=count_df[count_df['MitreID'] == part], kind='bar')\n",
    "    plt.show()"
   ]
  },
  {
   "cell_type": "code",
   "execution_count": null,
   "metadata": {},
   "outputs": [],
   "source": []
  },
  {
   "cell_type": "markdown",
   "metadata": {},
   "source": [
    "## TSNE "
   ]
  },
  {
   "cell_type": "code",
   "execution_count": null,
   "metadata": {},
   "outputs": [],
   "source": [
    "%%time\n",
    "\n",
    "# This function can take a long to run\n",
    "from sklearn.manifold import TSNE\n",
    "tsne = TSNE(n_components=2)\n",
    "tsne_features_engage_full = tsne.fit_transform(features_engage_full_scaled)\n",
    "tsne_features_psychflex_full = tsne.fit_transform(features_psychflex_full_scaled)\n",
    "tsne_features_jobs_full = tsne.fit_transform(features_jobs_atwork_full_scaled)"
   ]
  },
  {
   "cell_type": "code",
   "execution_count": null,
   "metadata": {},
   "outputs": [],
   "source": [
    "print(tsne_features_engage.shape)\n",
    "tsne_features_engage_df = pd.DataFrame(data = tsne_features_engage_full, columns = ['tsne_0', 'tsne_1'], index = engage_only_CRs.index)\n",
    "tsne_features_engage_df = pd.concat([engage_only_CRs, tsne_features_engage_df], axis = 1)\n",
    "\n",
    "plt.figure(figsize=(7,7))\n",
    "sns.scatterplot(x = 'tsne_0', y = 'tsne_1', data = tsne_features_engage_df)\n",
    "plt.title(\"Projection of the data on 2 components + ground truth labels\")"
   ]
  },
  {
   "cell_type": "code",
   "execution_count": null,
   "metadata": {},
   "outputs": [],
   "source": [
    "print(tsne_features_psychflex.shape)\n",
    "tsne_features_psychflex_df = pd.DataFrame(data = tsne_features_psychflex_full, columns = ['tsne_0', 'tsne_1'], index = psych_flex_only_CRs.index)\n",
    "tsne_features_psychflex_df = pd.concat([psych_flex_only_CRs, tsne_features_psychflex_df], axis = 1)\n",
    "\n",
    "plt.figure(figsize=(7,7))\n",
    "sns.scatterplot(x = 'tsne_0', y = 'tsne_1', data = tsne_features_psychflex_df)\n",
    "plt.title(\"Projection of the data on 2 components + ground truth labels\")"
   ]
  },
  {
   "cell_type": "code",
   "execution_count": null,
   "metadata": {},
   "outputs": [],
   "source": [
    "print(tsne_features_jobs.shape)\n",
    "tsne_features_jobs_df = pd.DataFrame(data = tsne_features_jobs_full, columns = ['tsne_0', 'tsne_1'], index = jobs_atwork_only_CRs.index)\n",
    "tsne_features_jobs_df = pd.concat([jobs_atwork_only_CRs, tsne_features_jobs_df], axis = 1)\n",
    "\n",
    "plt.figure(figsize=(7,7))\n",
    "sns.scatterplot(x = 'tsne_0', y = 'tsne_1', data = tsne_features_jobs_df)\n",
    "plt.title(\"Projection of the data on 2 components + ground truth labels\")"
   ]
  },
  {
   "cell_type": "code",
   "execution_count": null,
   "metadata": {},
   "outputs": [],
   "source": [
    "%%time\n",
    "\n",
    "# This function can take a long to run\n",
    "from sklearn.manifold import TSNE\n",
    "tsne = TSNE(n_components=2)\n",
    "tsne_features_engage_select = tsne.fit_transform(features_engage_select_scaled)\n",
    "tsne_features_psychflex_select = tsne.fit_transform(features_psychflex_select_scaled)\n",
    "tsne_features_jobs_select = tsne.fit_transform(features_jobs_atwork_select_scaled)"
   ]
  },
  {
   "cell_type": "code",
   "execution_count": null,
   "metadata": {},
   "outputs": [],
   "source": [
    "print(tsne_features_engage.shape)\n",
    "tsne_features_engage_df = pd.DataFrame(data = tsne_features_engage_select, columns = ['tsne_0', 'tsne_1'], index = engage_only_CRs.index)\n",
    "tsne_features_engage_df = pd.concat([engage_only_CRs, tsne_features_engage_df], axis = 1)\n",
    "\n",
    "plt.figure(figsize=(7,7))\n",
    "sns.scatterplot(x = 'tsne_0', y = 'tsne_1', data = tsne_features_engage_df)\n",
    "plt.title(\"Projection of the data on 2 components + ground truth labels\")"
   ]
  },
  {
   "cell_type": "code",
   "execution_count": null,
   "metadata": {},
   "outputs": [],
   "source": [
    "print(tsne_features_psychflex.shape)\n",
    "tsne_features_psychflex_df = pd.DataFrame(data = tsne_features_psychflex_select, columns = ['tsne_0', 'tsne_1'], index = psych_flex_only_CRs.index)\n",
    "tsne_features_psychflex_df = pd.concat([psych_flex_only_CRs, tsne_features_psychflex_df], axis = 1)\n",
    "\n",
    "plt.figure(figsize=(7,7))\n",
    "sns.scatterplot(x = 'tsne_0', y = 'tsne_1', data = tsne_features_psychflex_df)\n",
    "plt.title(\"Projection of the data on 2 components + ground truth labels\")"
   ]
  },
  {
   "cell_type": "code",
   "execution_count": null,
   "metadata": {},
   "outputs": [],
   "source": [
    "print(tsne_features_jobs.shape)\n",
    "tsne_features_jobs_df = pd.DataFrame(data = tsne_features_jobs_select, columns = ['tsne_0', 'tsne_1'], index = jobs_atwork_only_CRs.index)\n",
    "tsne_features_jobs_df = pd.concat([jobs_atwork_only_CRs, tsne_features_jobs_df], axis = 1)\n",
    "\n",
    "plt.figure(figsize=(7,7))\n",
    "sns.scatterplot(x = 'tsne_0', y = 'tsne_1', data = tsne_features_jobs_df)\n",
    "plt.title(\"Projection of the data on 2 components + ground truth labels\")"
   ]
  }
 ],
 "metadata": {
  "kernelspec": {
   "display_name": "Python 3",
   "language": "python",
   "name": "python3"
  },
  "language_info": {
   "codemirror_mode": {
    "name": "ipython",
    "version": 3
   },
   "file_extension": ".py",
   "mimetype": "text/x-python",
   "name": "python",
   "nbconvert_exporter": "python",
   "pygments_lexer": "ipython3",
   "version": "3.6.7"
  }
 },
 "nbformat": 4,
 "nbformat_minor": 2
}
