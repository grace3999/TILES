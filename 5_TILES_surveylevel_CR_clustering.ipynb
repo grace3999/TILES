{
 "cells": [
  {
   "cell_type": "markdown",
   "metadata": {},
   "source": [
    "Careless responder survey level clustering"
   ]
  },
  {
   "cell_type": "code",
   "execution_count": null,
   "metadata": {},
   "outputs": [],
   "source": [
    "#getting and working with data\n",
    "import pandas as pd\n",
    "import numpy as np\n",
    "import re\n",
    "import os\n",
    "from itertools import groupby\n",
    "import datetime as dt\n",
    "import scipy as sp\n",
    "import math\n",
    "\n",
    "#visualizing results\n",
    "%matplotlib inline\n",
    "import seaborn as sns\n",
    "import matplotlib.pyplot as plt\n",
    "#import yellowbrick as yb\n",
    "\n",
    "pd.set_option('display.max_rows', 500)\n",
    "pd.set_option('display.max_columns', 500)\n",
    "pd.set_option('display.width', 1000)\n",
    "\n",
    "import warnings; warnings.simplefilter('ignore')\n",
    "np.set_printoptions(suppress=True)\n",
    "\n",
    "from sklearn.preprocessing import StandardScaler\n",
    "from sklearn.cluster import KMeans\n",
    "from sklearn.metrics.cluster import silhouette_score"
   ]
  },
  {
   "cell_type": "code",
   "execution_count": null,
   "metadata": {},
   "outputs": [],
   "source": [
    "data_path = 'C:/Users/Schindler/Documents/Schindler_Lab/Data/Clinical projects/TILES/final_data/surveys_CR.pkl'"
   ]
  },
  {
   "cell_type": "code",
   "execution_count": null,
   "metadata": {},
   "outputs": [],
   "source": [
    "#read in csv containing data from all surveys\n",
    "full_data = pd.read_pickle(data_path)\n",
    "full_data = pd.DataFrame(data = full_data)\n",
    "full_data.reset_index(inplace=True, drop=True)\n",
    "\n",
    "print('Original data shape:\\n', full_data.shape, '\\n')\n",
    "#ensure no replicate ID (212 participants in study)\n",
    "print('Original data unique IDs:\\n', full_data['ParticipantID'].unique().shape, '\\n')\n",
    "#ensure no replicate ID (212 participants in study)\n",
    "print('Original data unique IDs:\\n', full_data['MitreID'].unique().shape, '\\n')\n",
    "#how much missing data is there?\n",
    "print('Original data missing value counts:\\n', full_data.isnull().sum(), '\\n')\n",
    "#what is the data type of each column?\n",
    "print('Original data data types:\\n', full_data.info(), '\\n')"
   ]
  },
  {
   "cell_type": "code",
   "execution_count": null,
   "metadata": {},
   "outputs": [],
   "source": [
    "full_data['survey_type'].value_counts()"
   ]
  },
  {
   "cell_type": "code",
   "execution_count": null,
   "metadata": {},
   "outputs": [],
   "source": [
    "#should be 71\n",
    "len(full_data['wave_study_day'].unique())"
   ]
  },
  {
   "cell_type": "code",
   "execution_count": null,
   "metadata": {},
   "outputs": [],
   "source": [
    "full_data.head()"
   ]
  },
  {
   "cell_type": "code",
   "execution_count": null,
   "metadata": {},
   "outputs": [],
   "source": [
    "#create new feature that is log transformed of 'time to complete'\n",
    "full_data['time_to_complete_log'] = np.log(full_data['time_to_complete'])"
   ]
  },
  {
   "cell_type": "code",
   "execution_count": null,
   "metadata": {},
   "outputs": [],
   "source": [
    "print(full_data[full_data['time_to_complete_log'] < 0]['survey_type'].value_counts())\n",
    "full_data = full_data[full_data['time_to_complete_log'] > 0]\n",
    "print(full_data[full_data['time_to_complete_log'] < 0]['survey_type'].value_counts())"
   ]
  },
  {
   "cell_type": "code",
   "execution_count": null,
   "metadata": {},
   "outputs": [],
   "source": [
    "full_data.set_index(['MitreID', 'survey_type', 'wave_study_day', 'wave_study_date_bin'], inplace=True)\n",
    "full_data.head()"
   ]
  },
  {
   "cell_type": "code",
   "execution_count": null,
   "metadata": {
    "scrolled": true
   },
   "outputs": [],
   "source": [
    "engage_CRs = ['mean_diff_hinderance_vs_support', 'time_to_complete_log',\n",
    "       'longstring_count_engage', 'longstring_answer_engage',\n",
    "       'longstring_count_norm_engage', 'longstring_mult_engage',\n",
    "       'ls_auc_engage', 'ls_std_engage', 'ls_skew_engage',\n",
    "       'ls_kurt_engage', 'ls_auc_seeded_engage', 'ls_std_seeded_engage',\n",
    "       'ls_skew_seeded_engage', 'ls_kurt_seeded_engage', 'context_homevsworking',\n",
    "       'context_workvsactivities', 'context_workvswork',\n",
    "       'context_drivevsdrive']\n",
    "\n",
    "psych_flex_CRs = ['longstring_count_pf',\n",
    "       'longstring_answer_pf', 'longstring_count_norm_pf',\n",
    "       'longstring_mult_pf', 'ls_auc_pf', 'ls_std_pf', 'ls_skew_pf',\n",
    "       'ls_kurt_pf', 'ls_auc_seeded_pf', 'ls_std_seeded_pf',\n",
    "       'ls_skew_seeded_pf', 'ls_kurt_seeded_pf', 'time_to_complete_log']\n",
    "\n",
    "jobsatwork_CRs = ['mean_diff_ave',\n",
    "       'mean_diff_affect_posneg', 'mean_diff_nervous_anxiety',\n",
    "       'mean_diff_irb_irb', 'mean_diff_dalal_posneg', \n",
    "                  'longstring_count_norm_ave', 'longstring_count_norm_affect', 'longstring_count_norm_irbd', 'longstring_count_norm_dalal',\n",
    "                  'time_to_complete_log',\n",
    "       'longstring_count_affect', 'longstring_answer_affect',\n",
    "        'longstring_mult_affect',\n",
    "       'ls_auc_affect', 'ls_std_affect', 'ls_skew_affect',\n",
    "       'ls_kurt_affect', 'ls_auc_seeded_affect', 'ls_std_seeded_affect',\n",
    "       'ls_skew_seeded_affect', 'ls_kurt_seeded_affect',\n",
    "       'longstring_count_irbd', 'longstring_answer_irbd',\n",
    "       'longstring_mult_irbd',\n",
    "       'ls_auc_irbd', 'ls_std_irbd', 'ls_skew_irbd', 'ls_kurt_irbd',\n",
    "       'ls_auc_seeded_irbd', 'ls_std_seeded_irbd', 'ls_skew_seeded_irbd',\n",
    "       'ls_kurt_seeded_irbd', 'longstring_count_dalal',\n",
    "       'longstring_answer_dalal', \n",
    "       'longstring_mult_dalal', 'ls_auc_dalal', 'ls_std_dalal',\n",
    "       'ls_skew_dalal', 'ls_kurt_dalal', 'ls_auc_seeded_dalal',\n",
    "       'ls_std_seeded_dalal', 'ls_skew_seeded_dalal',\n",
    "       'ls_kurt_seeded_dalal', 'context_homevsworking',\n",
    "       'context_workvsactivities', 'context_workvswork',\n",
    "       'context_drivevsdrive']\n",
    "\n",
    "jobsnotatwork_CRs = ['mean_diff_ave',\n",
    "       'mean_diff_affect_posneg', 'mean_diff_nervous_anxiety',\n",
    "       'longstring_count_affect', 'longstring_answer_affect',\n",
    "       'longstring_count_norm_affect', 'longstring_mult_affect',\n",
    "       'ls_auc_affect', 'ls_std_affect', 'ls_skew_affect',\n",
    "       'ls_kurt_affect', 'ls_auc_seeded_affect', 'ls_std_seeded_affect',\n",
    "       'ls_skew_seeded_affect', 'ls_kurt_seeded_affect', 'time_to_complete_log', 'context_homevsworking',\n",
    "       'context_workvsactivities', 'context_workvswork',\n",
    "       'context_drivevsdrive']\n",
    "\n",
    "health_CRs = ['mean_diff_ave',\n",
    "       'mean_diff_affect_posneg', 'mean_diff_nervous_anxiety', 'intake_check_alc',\n",
    "       'intake_check_nic', 'time_to_complete_log',\n",
    "       'longstring_count_affect', 'longstring_answer_affect',\n",
    "       'longstring_count_norm_affect', 'longstring_mult_affect',\n",
    "       'ls_auc_affect', 'ls_std_affect', 'ls_skew_affect',\n",
    "       'ls_kurt_affect', 'ls_auc_seeded_affect', 'ls_std_seeded_affect',\n",
    "       'ls_skew_seeded_affect', 'ls_kurt_seeded_affect', 'context_homevsworking',\n",
    "       'context_workvsactivities', 'context_workvswork',\n",
    "       'context_drivevsdrive']\n",
    "\n",
    "personality_CRs = ['mean_diff_ave',\n",
    "       'mean_diff_affect_posneg', 'mean_diff_nervous_anxiety', 'mean_diff_extraversion',\n",
    "       'mean_diff_agreeableness', 'mean_diff_conscientiousness',\n",
    "       'mean_diff_neuroticism', 'mean_diff_openness', \n",
    "                   'longstring_count_norm_ave', 'longstring_count_norm_affect', 'longstring_count_norm_personality',\n",
    "                   'time_to_complete_log', \n",
    "       'longstring_count_affect', 'longstring_answer_affect',\n",
    "       'longstring_mult_affect',\n",
    "       'ls_auc_affect', 'ls_std_affect', 'ls_skew_affect',\n",
    "       'ls_kurt_affect', 'ls_auc_seeded_affect', 'ls_std_seeded_affect',\n",
    "       'ls_skew_seeded_affect', 'ls_kurt_seeded_affect', \n",
    "       'longstring_count_personality', 'longstring_answer_personality',\n",
    "        'longstring_mult_personality',\n",
    "       'ls_auc_personality', 'ls_std_personality', 'ls_skew_personality',\n",
    "       'ls_kurt_personality', 'ls_auc_seeded_personality',\n",
    "       'ls_std_seeded_personality', 'ls_skew_seeded_personality',\n",
    "       'ls_kurt_seeded_personality', 'context_homevsworking',\n",
    "       'context_workvsactivities', 'context_workvswork',\n",
    "       'context_drivevsdrive']"
   ]
  },
  {
   "cell_type": "markdown",
   "metadata": {},
   "source": [
    "## Clustering"
   ]
  },
  {
   "cell_type": "markdown",
   "metadata": {},
   "source": [
    "### Personality"
   ]
  },
  {
   "cell_type": "code",
   "execution_count": null,
   "metadata": {},
   "outputs": [],
   "source": [
    "personality = full_data[full_data.index.get_level_values('survey_type') == 'personality'][personality_CRs]\n",
    "personality['mean_diff_pers'] = personality.loc[:,'mean_diff_extraversion':'mean_diff_neuroticism'].mean(axis=1)\n",
    "print(personality.shape)\n",
    "personality.dropna(inplace=True, axis=0)\n",
    "print(personality.shape)\n",
    "personality.head(1)"
   ]
  },
  {
   "cell_type": "code",
   "execution_count": null,
   "metadata": {},
   "outputs": [],
   "source": [
    "#select features with highest coef of var\n",
    "personality_var = sp.stats.variation(personality, axis=0)\n",
    "sorted_var = sorted(zip(personality.columns.values, personality_var), key=lambda x: x[1])\n",
    "sorted_var"
   ]
  },
  {
   "cell_type": "code",
   "execution_count": null,
   "metadata": {},
   "outputs": [],
   "source": [
    "for feature in personality_CRs:\n",
    "    print(feature)\n",
    "    personality[feature].hist(bins=50)\n",
    "    plt.show()"
   ]
  },
  {
   "cell_type": "code",
   "execution_count": null,
   "metadata": {},
   "outputs": [],
   "source": [
    "personality_CRs_final = ['mean_diff_pers', 'time_to_complete_log', \n",
    "                         'longstring_count_affect', 'longstring_mult_affect', \n",
    "                         'longstring_count_personality', 'longstring_mult_personality']\n",
    "\n",
    "personality_features = personality[personality_CRs_final]\n",
    "\n",
    "# center and scale the data\n",
    "scaler = StandardScaler()\n",
    "\n",
    "#full feature set\n",
    "personality_scaled = scaler.fit_transform(personality_features)\n",
    "\n",
    "#determine optimal k\n",
    "k_range = range(2,10)\n",
    "scores = []\n",
    "for k in k_range:\n",
    "    km_ss = KMeans(n_clusters=k, random_state=1)\n",
    "    km_ss.fit(personality_scaled)\n",
    "    scores.append(silhouette_score(personality_scaled, km_ss.labels_))\n",
    "\n",
    "# plot the results\n",
    "plt.plot(k_range, scores)\n",
    "plt.xlabel('Number of clusters')\n",
    "plt.ylabel('Silhouette Coefficient')\n",
    "plt.title('Personality kmeans at survey level')"
   ]
  },
  {
   "cell_type": "code",
   "execution_count": null,
   "metadata": {},
   "outputs": [],
   "source": [
    "personality_km_survey = KMeans(n_clusters=2,random_state=1234)\n",
    "personality_km_survey.fit(personality_scaled)\n",
    "print(silhouette_score(personality_scaled, personality_km_survey.labels_))\n",
    "\n",
    "personality['clusters'] = [label for label in personality_km_survey.labels_ ]\n",
    "personality['clusters_pers'] = [label for label in personality_km_survey.labels_ ]\n",
    "personality_features['clusters'] = [label for label in personality_km_survey.labels_ ]\n",
    "\n",
    "print(personality_features['clusters'].value_counts())\n",
    "\n",
    "sns.pairplot(personality_features, hue='clusters')"
   ]
  },
  {
   "cell_type": "code",
   "execution_count": null,
   "metadata": {},
   "outputs": [],
   "source": [
    "personality['good_bad'] = [1 if x == 1 else 0 for x in personality['clusters']]\n",
    "personality.head()"
   ]
  },
  {
   "cell_type": "code",
   "execution_count": null,
   "metadata": {},
   "outputs": [],
   "source": []
  },
  {
   "cell_type": "code",
   "execution_count": null,
   "metadata": {},
   "outputs": [],
   "source": []
  },
  {
   "cell_type": "code",
   "execution_count": null,
   "metadata": {},
   "outputs": [],
   "source": [
    "personality_CRs_final = ['mean_diff_affect_posneg', 'mean_diff_pers',\n",
    "                   'time_to_complete_log', \n",
    "       'longstring_count_affect', 'longstring_answer_affect',\n",
    "       'longstring_mult_affect',\n",
    "       'ls_auc_affect', 'ls_std_affect', 'ls_skew_affect',\n",
    "       'ls_kurt_affect']\n",
    "\n",
    "\n",
    "personality_features = personality[personality_CRs_final]\n",
    "\n",
    "from sklearn.cluster import AgglomerativeClustering\n",
    "\n",
    "# center and scale the data\n",
    "scaler = StandardScaler()\n",
    "\n",
    "#full feature set\n",
    "personality_scaled = scaler.fit_transform(personality_features)\n",
    "\n",
    "#determine optimal k\n",
    "k_range = range(2,10)\n",
    "scores = []\n",
    "for k in k_range:\n",
    "    clustering = AgglomerativeClustering(n_clusters=k)\n",
    "    clustering.fit(personality_scaled)\n",
    "    scores.append(silhouette_score(personality_scaled, clustering.labels_))\n",
    "\n",
    "# plot the results\n",
    "plt.plot(k_range, scores)\n",
    "plt.xlabel('Number of clusters')\n",
    "plt.ylabel('Silhouette Coefficient')\n",
    "plt.title('Personality kmeans at survey level')"
   ]
  },
  {
   "cell_type": "code",
   "execution_count": null,
   "metadata": {},
   "outputs": [],
   "source": [
    "personality_ag_survey = AgglomerativeClustering(n_clusters=2)\n",
    "personality_ag_survey.fit(personality_scaled)\n",
    "print(silhouette_score(personality_scaled, personality_ag_survey.labels_))\n",
    "\n",
    "personality['clusters'] = [label for label in personality_ag_survey.labels_ ]\n",
    "personality['clusters_pers'] = [label for label in personality_ag_survey.labels_ ]\n",
    "\n",
    "print(personality['clusters'].value_counts())\n",
    "x = [child if child > 784 else 0 for child in personality_ag_survey.children_]\n",
    "\n",
    "#sns.pairplot(personality_features, hue='clusters')"
   ]
  },
  {
   "cell_type": "markdown",
   "metadata": {},
   "source": [
    "### Health"
   ]
  },
  {
   "cell_type": "code",
   "execution_count": null,
   "metadata": {},
   "outputs": [],
   "source": [
    "health = full_data[full_data.index.get_level_values('survey_type') == 'health'][health_CRs]\n",
    "print(health.shape)\n",
    "health.dropna(inplace=True, axis=0)\n",
    "print(health.shape)"
   ]
  },
  {
   "cell_type": "code",
   "execution_count": null,
   "metadata": {},
   "outputs": [],
   "source": [
    "health_CRs_final = ['time_to_complete_log',\n",
    "       'longstring_count_affect', 'longstring_mult_affect']\n",
    "\n",
    "health_features = health[health_CRs_final]\n",
    "\n",
    "# center and scale the data\n",
    "scaler = StandardScaler()\n",
    "\n",
    "#full feature set\n",
    "health_scaled = scaler.fit_transform(health_features)\n",
    "\n",
    "#determine optimal k\n",
    "k_range = range(2,10)\n",
    "scores = []\n",
    "for k in k_range:\n",
    "    km_ss = KMeans(n_clusters=k, random_state=1)\n",
    "    km_ss.fit(health_scaled)\n",
    "    scores.append(silhouette_score(health_scaled, km_ss.labels_))\n",
    "\n",
    "# plot the results\n",
    "plt.plot(k_range, scores)\n",
    "plt.xlabel('Number of clusters')\n",
    "plt.ylabel('Silhouette Coefficient')\n",
    "plt.title('Health kmeans at survey level')"
   ]
  },
  {
   "cell_type": "code",
   "execution_count": null,
   "metadata": {},
   "outputs": [],
   "source": [
    "health_km_survey = KMeans(n_clusters=2,random_state=1234)\n",
    "health_km_survey.fit(health_scaled)\n",
    "print(silhouette_score(health_scaled, health_km_survey.labels_))\n",
    "\n",
    "health['clusters'] = [label for label in health_km_survey.labels_ ]\n",
    "health['clusters_health'] = [label for label in health_km_survey.labels_ ]\n",
    "health_features['clusters'] = [label for label in health_km_survey.labels_ ]\n",
    "\n",
    "print(health_features['clusters'].value_counts())\n",
    "\n",
    "sns.pairplot(health_features, hue='clusters')"
   ]
  },
  {
   "cell_type": "code",
   "execution_count": null,
   "metadata": {},
   "outputs": [],
   "source": [
    "health['good_bad'] = [0 if x == 0 else 1 for x in health['clusters']]\n",
    "health.head()"
   ]
  },
  {
   "cell_type": "markdown",
   "metadata": {},
   "source": [
    "### Jobs at work"
   ]
  },
  {
   "cell_type": "code",
   "execution_count": null,
   "metadata": {},
   "outputs": [],
   "source": [
    "jobs = full_data[full_data.index.get_level_values('survey_type') == 'jobs_atwork'][jobsatwork_CRs]\n",
    "jobs['mean_diff_jobs'] = jobs.loc[:,'mean_diff_irb_irb':'mean_diff_dalal_posneg'].mean(axis=1)\n",
    "print(jobs.shape)\n",
    "jobs.dropna(inplace=True, axis=0)\n",
    "print(jobs.shape)\n",
    "jobs.head(1)"
   ]
  },
  {
   "cell_type": "code",
   "execution_count": null,
   "metadata": {},
   "outputs": [],
   "source": [
    "jobsatwork_CRs_final = ['mean_diff_jobs', 'time_to_complete_log',\n",
    "                  'longstring_count_affect', 'longstring_mult_affect']\n",
    "\n",
    "#'longstring_count_irbd', 'longstring_mult_irbd', 'longstring_count_dalal', 'longstring_mult_dalal'\n",
    "\n",
    "jobs_features = jobs[jobsatwork_CRs_final]\n",
    "\n",
    "# center and scale the data\n",
    "scaler = StandardScaler()\n",
    "\n",
    "#full feature set\n",
    "jobs_scaled = scaler.fit_transform(jobs_features)\n",
    "\n",
    "#determine optimal k\n",
    "k_range = range(2,20)\n",
    "scores = []\n",
    "for k in k_range:\n",
    "    km_ss = KMeans(n_clusters=k, random_state=1)\n",
    "    km_ss.fit(jobs_scaled)\n",
    "    scores.append(silhouette_score(jobs_scaled, km_ss.labels_))\n",
    "\n",
    "# plot the results\n",
    "plt.plot(k_range, scores)\n",
    "plt.xlabel('Number of clusters')\n",
    "plt.ylabel('Silhouette Coefficient')\n",
    "plt.title('Jobs at work kmeans at survey level')"
   ]
  },
  {
   "cell_type": "code",
   "execution_count": null,
   "metadata": {},
   "outputs": [],
   "source": [
    "jobs_km_survey = KMeans(n_clusters=2,random_state=1234)\n",
    "jobs_km_survey.fit(jobs_scaled)\n",
    "print(silhouette_score(jobs_scaled, jobs_km_survey.labels_))\n",
    "\n",
    "jobs['clusters'] = [label for label in jobs_km_survey.labels_ ]\n",
    "jobs['clusters_jobs'] = [label for label in jobs_km_survey.labels_ ]\n",
    "jobs_features['clusters'] = [label for label in jobs_km_survey.labels_ ]\n",
    "\n",
    "print(jobs_features['clusters'].value_counts())\n",
    "\n",
    "sns.pairplot(jobs_features, hue='clusters')"
   ]
  },
  {
   "cell_type": "code",
   "execution_count": null,
   "metadata": {},
   "outputs": [],
   "source": [
    "jobs['good_bad'] = [0 if x == 0 else 1 for x in jobs['clusters']]\n",
    "jobs.head()"
   ]
  },
  {
   "cell_type": "markdown",
   "metadata": {},
   "source": [
    "### Engage"
   ]
  },
  {
   "cell_type": "code",
   "execution_count": null,
   "metadata": {},
   "outputs": [],
   "source": [
    "engage = full_data[full_data.index.get_level_values('survey_type') == 'engage_psycap'][engage_CRs]\n",
    "print(engage.shape)\n",
    "engage.dropna(inplace=True, axis=0)\n",
    "print(engage.shape)\n",
    "engage.head(1)"
   ]
  },
  {
   "cell_type": "code",
   "execution_count": null,
   "metadata": {},
   "outputs": [],
   "source": [
    "engage_CRs_final = ['mean_diff_hinderance_vs_support', 'time_to_complete_log',\n",
    "              'longstring_count_engage', 'longstring_mult_engage']\n",
    "\n",
    "\n",
    "engage_features = engage[engage_CRs_final]\n",
    "\n",
    "# center and scale the data\n",
    "scaler = StandardScaler()\n",
    "\n",
    "#full feature set\n",
    "engage_scaled = scaler.fit_transform(engage_features)\n",
    "\n",
    "#determine optimal k\n",
    "k_range = range(2,10)\n",
    "scores = []\n",
    "for k in k_range:\n",
    "    km_ss = KMeans(n_clusters=k, random_state=1)\n",
    "    km_ss.fit(engage_scaled)\n",
    "    scores.append(silhouette_score(engage_scaled, km_ss.labels_))\n",
    "\n",
    "# plot the results\n",
    "plt.plot(k_range, scores)\n",
    "plt.xlabel('Number of clusters')\n",
    "plt.ylabel('Silhouette Coefficient')\n",
    "plt.title('Engage kmeans at survey level')"
   ]
  },
  {
   "cell_type": "code",
   "execution_count": null,
   "metadata": {},
   "outputs": [],
   "source": [
    "engage_km_survey = KMeans(n_clusters=2,random_state=1234)\n",
    "engage_km_survey.fit(engage_scaled)\n",
    "print(silhouette_score(engage_scaled, engage_km_survey.labels_))\n",
    "\n",
    "engage['clusters'] = [label for label in engage_km_survey.labels_ ]\n",
    "engage['clusters_engage'] = [label for label in engage_km_survey.labels_ ]\n",
    "engage_features['clusters'] = [label for label in engage_km_survey.labels_ ]\n",
    "\n",
    "print(engage_features['clusters'].value_counts())\n",
    "\n",
    "sns.pairplot(engage_features, hue='clusters')"
   ]
  },
  {
   "cell_type": "code",
   "execution_count": null,
   "metadata": {},
   "outputs": [],
   "source": [
    "engage['good_bad'] = [0 if x == 0 else 1 for x in engage['clusters']]\n",
    "engage.head()"
   ]
  },
  {
   "cell_type": "markdown",
   "metadata": {},
   "source": [
    "### Psych Felx"
   ]
  },
  {
   "cell_type": "code",
   "execution_count": null,
   "metadata": {},
   "outputs": [],
   "source": [
    "psych_flex = full_data[full_data.index.get_level_values('survey_type') == 'psych_flex'][psych_flex_CRs]\n",
    "print(psych_flex.shape)\n",
    "psych_flex.dropna(inplace=True, axis=0)\n",
    "print(psych_flex.shape)\n",
    "psych_flex.head(1)"
   ]
  },
  {
   "cell_type": "code",
   "execution_count": null,
   "metadata": {},
   "outputs": [],
   "source": [
    "psych_flex_CRs_final = ['time_to_complete_log',\n",
    "                        'longstring_count_pf', 'longstring_mult_pf']\n",
    "\n",
    "\n",
    "psych_flex_features = psych_flex[psych_flex_CRs_final]\n",
    "\n",
    "# center and scale the data\n",
    "scaler = StandardScaler()\n",
    "\n",
    "#full feature set\n",
    "psych_flex_scaled = scaler.fit_transform(psych_flex_features)\n",
    "\n",
    "#determine optimal k\n",
    "k_range = range(2,10)\n",
    "scores = []\n",
    "for k in k_range:\n",
    "    km_ss = KMeans(n_clusters=k, random_state=1)\n",
    "    km_ss.fit(psych_flex_scaled)\n",
    "    scores.append(silhouette_score(psych_flex_scaled, km_ss.labels_))\n",
    "\n",
    "# plot the results\n",
    "plt.plot(k_range, scores)\n",
    "plt.xlabel('Number of clusters')\n",
    "plt.ylabel('Silhouette Coefficient')\n",
    "plt.title('Psych flex kmeans at survey level')"
   ]
  },
  {
   "cell_type": "code",
   "execution_count": null,
   "metadata": {},
   "outputs": [],
   "source": [
    "psych_flex_km_survey = KMeans(n_clusters=2,random_state=1234)\n",
    "psych_flex_km_survey.fit(psych_flex_scaled)\n",
    "print(silhouette_score(psych_flex_scaled, psych_flex_km_survey.labels_))\n",
    "\n",
    "psych_flex['clusters'] = [label for label in psych_flex_km_survey.labels_ ]\n",
    "psych_flex['clusters_psych_flex'] = [label for label in psych_flex_km_survey.labels_ ]\n",
    "psych_flex_features['clusters'] = [label for label in psych_flex_km_survey.labels_ ]\n",
    "\n",
    "print(psych_flex_features['clusters'].value_counts())\n",
    "\n",
    "sns.pairplot(psych_flex_features, hue='clusters')"
   ]
  },
  {
   "cell_type": "code",
   "execution_count": null,
   "metadata": {},
   "outputs": [],
   "source": [
    "psych_flex['good_bad'] = [0 if x == 1 else 1 for x in psych_flex['clusters']]\n",
    "psych_flex.head()"
   ]
  },
  {
   "cell_type": "markdown",
   "metadata": {},
   "source": [
    "### Compare clustering across survey types"
   ]
  },
  {
   "cell_type": "code",
   "execution_count": null,
   "metadata": {},
   "outputs": [],
   "source": [
    "clusters_df = pd.concat([personality, health, jobs, engage, psych_flex], axis = 0)\n",
    "clusters_df.head()"
   ]
  },
  {
   "cell_type": "code",
   "execution_count": null,
   "metadata": {},
   "outputs": [],
   "source": [
    "count_df_MitreID = clusters_df[clusters_df['good_bad'] == 1].groupby(['MitreID'])['good_bad'].count() / clusters_df.groupby(['MitreID'])['good_bad'].count()\n",
    "count_df_MitreID = count_df_MitreID.reset_index(name='good_ratio')\n",
    "count_df_MitreID.head()"
   ]
  },
  {
   "cell_type": "code",
   "execution_count": null,
   "metadata": {},
   "outputs": [],
   "source": [
    "sns.catplot('MitreID', 'good_ratio', data=count_df_MitreID, kind='bar', height=5, aspect=4)"
   ]
  },
  {
   "cell_type": "code",
   "execution_count": null,
   "metadata": {},
   "outputs": [],
   "source": [
    "#get ratio of good to total for each survey type and bin\n",
    "count_df = clusters_df[clusters_df['good_bad'] == 1].groupby(['MitreID', 'survey_type', 'wave_study_date_bin'])['good_bad'].count() / clusters_df.groupby(['MitreID', 'survey_type', 'wave_study_date_bin'])['good_bad'].count()\n",
    "count_df = count_df.reset_index(name='good_ratio')\n",
    "count_df.head()"
   ]
  },
  {
   "cell_type": "code",
   "execution_count": null,
   "metadata": {},
   "outputs": [],
   "source": [
    "sns.catplot('survey_type', 'good_ratio', data=count_df, kind='bar', col='wave_study_date_bin')"
   ]
  },
  {
   "cell_type": "code",
   "execution_count": null,
   "metadata": {},
   "outputs": [],
   "source": [
    "sns.catplot('MitreID', 'good_ratio', data=count_df, kind='bar', height=5, aspect=4, col='survey_type', col_wrap=1)"
   ]
  },
  {
   "cell_type": "code",
   "execution_count": null,
   "metadata": {},
   "outputs": [],
   "source": [
    "for part in count_df['MitreID'].unique():\n",
    "    print(part)\n",
    "    sns.catplot('survey_type', 'good_ratio', data=count_df[count_df['MitreID'] == part], kind='bar')\n",
    "    plt.show()"
   ]
  },
  {
   "cell_type": "code",
   "execution_count": null,
   "metadata": {},
   "outputs": [],
   "source": [
    "#get mean of cluters for each participant for each survey type\n",
    "clusters_survey = clusters_df.groupby('MitreID')[['clusters_pers', 'clusters_health', 'clusters_jobs', 'clusters_engage', 'clusters_psych_flex']].mean()\n",
    "print(clusters_survey.shape)\n",
    "clusters_survey.dropna(axis=0, inplace=True)\n",
    "print(clusters_survey.shape)\n",
    "clusters_survey.head()"
   ]
  },
  {
   "cell_type": "code",
   "execution_count": null,
   "metadata": {},
   "outputs": [],
   "source": [
    "# center and scale the data\n",
    "scaler = StandardScaler()\n",
    "\n",
    "#full feature set\n",
    "clusters_survey_scaled = scaler.fit_transform(clusters_survey)\n",
    "\n",
    "#determine optimal k\n",
    "k_range = range(2,10)\n",
    "scores = []\n",
    "for k in k_range:\n",
    "    km_ss = KMeans(n_clusters=k, random_state=1)\n",
    "    km_ss.fit(clusters_survey_scaled)\n",
    "    scores.append(silhouette_score(clusters_survey_scaled, km_ss.labels_))\n",
    "\n",
    "# plot the results\n",
    "plt.plot(k_range, scores)\n",
    "plt.xlabel('Number of clusters')\n",
    "plt.ylabel('Silhouette Coefficient')\n",
    "plt.title('clusters_survey_scaled kmeans at survey level')"
   ]
  },
  {
   "cell_type": "code",
   "execution_count": null,
   "metadata": {},
   "outputs": [],
   "source": [
    "clusters_km = KMeans(n_clusters=2,random_state=1234)\n",
    "clusters_km.fit(clusters_survey_scaled)\n",
    "print(silhouette_score(clusters_survey_scaled, clusters_km.labels_))\n",
    "\n",
    "clusters_survey['clusters'] = [label for label in clusters_km.labels_]\n",
    "\n",
    "print(clusters_survey['clusters'].value_counts())\n",
    "\n",
    "sns.pairplot(clusters_survey, hue='clusters')"
   ]
  },
  {
   "cell_type": "code",
   "execution_count": null,
   "metadata": {},
   "outputs": [],
   "source": [
    "clusters_survey.corr()"
   ]
  },
  {
   "cell_type": "code",
   "execution_count": null,
   "metadata": {},
   "outputs": [],
   "source": [
    "sns.pairplot(clusters_survey, \n",
    "             kind='reg')"
   ]
  },
  {
   "cell_type": "code",
   "execution_count": null,
   "metadata": {},
   "outputs": [],
   "source": [
    "clusters_survey.to_csv('clusters_survey.csv')"
   ]
  },
  {
   "cell_type": "code",
   "execution_count": null,
   "metadata": {},
   "outputs": [],
   "source": [
    "from scipy.cluster.hierarchy import dendrogram, linkage\n",
    "Z = linkage(engage_scaled, 'ward')\n",
    "fig = plt.figure(figsize=(25, 10))\n",
    "dn = dendrogram(Z)"
   ]
  },
  {
   "cell_type": "markdown",
   "metadata": {},
   "source": [
    "## TSNE "
   ]
  },
  {
   "cell_type": "code",
   "execution_count": null,
   "metadata": {},
   "outputs": [],
   "source": [
    "%%time\n",
    "# center and scale the data\n",
    "scaler = StandardScaler()\n",
    "\n",
    "#full feature set\n",
    "clusters_survey_scaled = scaler.fit_transform(clusters_survey)\n",
    "\n",
    "# This function can take a long to run\n",
    "from sklearn.manifold import TSNE\n",
    "tsne = TSNE(n_components=2)\n",
    "tsne_clusters_survey_scaled = tsne.fit_transform(clusters_survey_scaled)"
   ]
  },
  {
   "cell_type": "code",
   "execution_count": null,
   "metadata": {},
   "outputs": [],
   "source": [
    "print(tsne_clusters_survey_scaled.shape)\n",
    "tsne_clusters_survey_scaled_df = pd.DataFrame(data = tsne_clusters_survey_scaled, columns = ['tsne_0', 'tsne_1'], index = clusters_survey.index)\n",
    "tsne_clusters_survey_scaled_df = pd.concat([clusters_survey, tsne_clusters_survey_scaled_df], axis = 1)\n",
    "\n",
    "plt.figure(figsize=(7,7))\n",
    "sns.scatterplot(x = 'tsne_0', y = 'tsne_1', data = tsne_clusters_survey_scaled_df)\n",
    "plt.title(\"Projection of the data on 2 components + ground truth labels\")"
   ]
  }
 ],
 "metadata": {
  "kernelspec": {
   "display_name": "Python 3",
   "language": "python",
   "name": "python3"
  },
  "language_info": {
   "codemirror_mode": {
    "name": "ipython",
    "version": 3
   },
   "file_extension": ".py",
   "mimetype": "text/x-python",
   "name": "python",
   "nbconvert_exporter": "python",
   "pygments_lexer": "ipython3",
   "version": "3.6.7"
  }
 },
 "nbformat": 4,
 "nbformat_minor": 2
}
