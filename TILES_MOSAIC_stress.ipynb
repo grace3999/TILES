{
 "cells": [
  {
   "cell_type": "code",
   "execution_count": null,
   "metadata": {},
   "outputs": [],
   "source": [
    "#getting and working with data\n",
    "import pandas as pd\n",
    "import numpy as np\n",
    "import re\n",
    "import os\n",
    "\n",
    "import scipy.stats as stats\n",
    "\n",
    "from sklearn.preprocessing import StandardScaler, Normalizer, LabelEncoder, PolynomialFeatures\n",
    "from sklearn.model_selection import KFold, StratifiedKFold, GroupKFold, train_test_split, cross_val_score, cross_val_predict, GridSearchCV, RandomizedSearchCV\n",
    "\n",
    "from sklearn.cluster import KMeans\n",
    "from sklearn.metrics.cluster import silhouette_score\n",
    "\n",
    "from sklearn.dummy import DummyClassifier\n",
    "from sklearn.linear_model import LogisticRegression\n",
    "from sklearn.ensemble import RandomForestClassifier\n",
    "from sklearn.neighbors import KNeighborsClassifier\n",
    "from sklearn.svm import SVC  \n",
    "from sklearn import metrics\n",
    "from sklearn.metrics import auc, accuracy_score, confusion_matrix, mean_squared_error, roc_auc_score\n",
    "from sklearn.metrics import confusion_matrix\n",
    "from sklearn.metrics import roc_auc_score\n",
    "from sklearn.metrics import mean_squared_error, accuracy_score\n",
    "\n",
    "#visualizing results\n",
    "%matplotlib inline\n",
    "import seaborn as sns\n",
    "import matplotlib.pyplot as plt\n",
    "#import yellowbrick as yb\n",
    "\n",
    "pd.set_option('display.max_rows', 500)\n",
    "pd.set_option('display.max_columns', 500)\n",
    "pd.set_option('display.width', 1000)\n",
    "\n",
    "import warnings; warnings.simplefilter('ignore')\n",
    "np.set_printoptions(suppress=True)"
   ]
  },
  {
   "cell_type": "code",
   "execution_count": null,
   "metadata": {},
   "outputs": [],
   "source": [
    "path_EMA_MOSAIC = 'C:/Users/Schindler/Documents/Schindler_Lab/Data/Clinical projects/TILES/Data_googledrive/EMA surveys -MOSAIC.csv'\n",
    "path_demog_prepost = 'C:/Users/Schindler/Documents/Schindler_Lab/Data/Clinical projects/TILES/Data_googledrive/Demog, PRE, PST survey composites.csv'"
   ]
  },
  {
   "cell_type": "code",
   "execution_count": null,
   "metadata": {},
   "outputs": [],
   "source": [
    "#read in data_demog_prepost, contains demographic information and pre/post questionaires\n",
    "data_demog_prepost = pd.read_csv(path_demog_prepost)\n",
    "data_demog_prepost = pd.DataFrame(data = data_demog_prepost)\n",
    "print('Original demog_prepost shape:\\n', data_demog_prepost.shape, '\\n')\n",
    "#replace blnaks with nans\n",
    "data_demog_prepost = data_demog_prepost.replace(' ', np.nan)\n",
    "#ensure no replicate ID (eg one row per participant in study)\n",
    "print('Original demog_prepost unique IDs:\\n', data_demog_prepost['ID'].unique().shape, '\\n')\n",
    "print('Original demog_prepost missing value couts:\\n', data_demog_prepost.isnull().sum(), '\\n')\n",
    "print('Original demog_prepost data types:\\n', data_demog_prepost.info(), '\\n')"
   ]
  },
  {
   "cell_type": "code",
   "execution_count": null,
   "metadata": {},
   "outputs": [],
   "source": [
    "#split off demographic data\n",
    "data_demog = data_demog_prepost[['ID', 'date_time', 'GenInst',\n",
    "       'gender', 'age', 'bornUS', 'country', 'lang', 'englyrs', 'educ',\n",
    "       'jobstat', 'occup', 'occup_TEXT', 'supervise', 'quantsup', 'size',\n",
    "       'duration', 'income', 'record_id', 'redcap_event_name',\n",
    "       'demographics_timestamp', 'race', 'ethnic', 'relationship',\n",
    "       'pregnant', 'children', 'housing', 'household___1',\n",
    "       'household___2', 'household___3', 'household___4', 'household___5',\n",
    "       'household___6', 'household___7', 'currentposition',\n",
    "       'position_other', 'certifications', 'nurseyears', 'shift', 'hours',\n",
    "       'overtime', 'commute_type', 'commute_time', 'extrajob',\n",
    "       'extrahours', 'student', 'demographics_complete']]\n",
    "data_demog.head()"
   ]
  },
  {
   "cell_type": "code",
   "execution_count": null,
   "metadata": {},
   "outputs": [],
   "source": [
    "print(data_demog.isna().sum())\n",
    "print(data_demog.shape)\n",
    "data_demog = data_demog.dropna(thresh = 100, axis = 1)\n",
    "print(data_demog.shape)\n",
    "data_demog['uid'] = data_demog['ID']\n",
    "data_demog.head()"
   ]
  },
  {
   "cell_type": "code",
   "execution_count": null,
   "metadata": {
    "scrolled": false
   },
   "outputs": [],
   "source": [
    "#read in MOSAIC EMA \n",
    "data_EMA = pd.read_csv(path_EMA_MOSAIC)\n",
    "data_EMA = pd.DataFrame(data = data_EMA)\n",
    "print('Original MOSAIC EMA shape:\\n', data_EMA.shape, '\\n')\n",
    "print('Original MOSAIC EMA survey type counts:\\n', data_EMA['survey_type'].value_counts(), '\\n')\n",
    "print('Original MOSAIC EMA missing value couts:\\n', data_EMA.isnull().sum(), '\\n')\n",
    "print('Original MOSAIC EMA data types:\\n', data_EMA.info(), '\\n')"
   ]
  },
  {
   "cell_type": "code",
   "execution_count": null,
   "metadata": {},
   "outputs": [],
   "source": [
    "#create date column from timestamp data\n",
    "data_EMA['date'] = data_EMA['timestamp'].str.split(' ', expand=True)[0]"
   ]
  },
  {
   "cell_type": "code",
   "execution_count": null,
   "metadata": {},
   "outputs": [],
   "source": [
    "data_EMA['date'].describe()"
   ]
  },
  {
   "cell_type": "code",
   "execution_count": null,
   "metadata": {},
   "outputs": [],
   "source": [
    "data_EMA.groupby(['survey_type', 'uid'])['date'].unique()"
   ]
  },
  {
   "cell_type": "code",
   "execution_count": null,
   "metadata": {},
   "outputs": [],
   "source": [
    "data_EMA['date'].sort_values()"
   ]
  },
  {
   "cell_type": "code",
   "execution_count": null,
   "metadata": {},
   "outputs": [],
   "source": [
    "#plt.xticks(dates, fontsize=14)\n",
    "dates = data_EMA['date'].unique()\n",
    "import time\n",
    "import datetime\n",
    "\n",
    "time.mktime(datetime.datetime.strptime(d, \"%Y-%m-%d\").timetuple())\n"
   ]
  },
  {
   "cell_type": "code",
   "execution_count": null,
   "metadata": {},
   "outputs": [],
   "source": [
    "#stress mean by survey type and date\n",
    "data_EMA[data_EMA['survey_type'] == 'health'].groupby(['date'])['uid'].count().plot.line()\n",
    "data_EMA[data_EMA['survey_type'] == 'job'].groupby(['date'])['uid'].count().plot.line()\n",
    "data_EMA[data_EMA['survey_type'] == 'personality'].groupby(['date'])['uid'].count().plot.line()\n",
    "plt.legend(('health', 'job', 'personality'))\n",
    "plt.show"
   ]
  },
  {
   "cell_type": "code",
   "execution_count": null,
   "metadata": {},
   "outputs": [],
   "source": [
    "data_EMA['time'].describe()"
   ]
  },
  {
   "cell_type": "code",
   "execution_count": null,
   "metadata": {},
   "outputs": [],
   "source": [
    "#create time column from timestamp data\n",
    "data_EMA['time'] = data_EMA['timestamp'].str.split(' ', expand=True)[1]\n",
    "#number of respondants by date\n",
    "#number of respondents by survey type and time\n",
    "data_EMA[data_EMA['survey_type'] == 'health'].groupby(['time'])['uid'].count().plot.line()\n",
    "data_EMA[data_EMA['survey_type'] == 'job'].groupby(['time'])['uid'].count().plot.line()\n",
    "data_EMA[data_EMA['survey_type'] == 'personality'].groupby(['time'])['uid'].count().plot.line()\n",
    "plt.legend(('health', 'job', 'personality'))"
   ]
  },
  {
   "cell_type": "code",
   "execution_count": null,
   "metadata": {},
   "outputs": [],
   "source": [
    "#data consists of three different EMA surveys (health, job, personality), each with different set of questions asked\n",
    "data_EMA.groupby('survey_type').count()"
   ]
  },
  {
   "cell_type": "code",
   "execution_count": null,
   "metadata": {},
   "outputs": [],
   "source": [
    "data_EMA['event_mgt'].mean()"
   ]
  },
  {
   "cell_type": "code",
   "execution_count": null,
   "metadata": {},
   "outputs": [],
   "source": [
    "#data consists of three different EMA surveys (health, job, personality), each with different set of questions asked\n",
    "data_EMA.groupby(['survey_type', 'uid']).count()"
   ]
  },
  {
   "cell_type": "code",
   "execution_count": null,
   "metadata": {},
   "outputs": [],
   "source": [
    "#data consists of three different EMA surveys (health, job, personality), each with different set of questions asked\n",
    "data_EMA.groupby('uid')['survey_type'].count()"
   ]
  },
  {
   "cell_type": "code",
   "execution_count": null,
   "metadata": {},
   "outputs": [],
   "source": [
    "data_EMA.groupby(['survey_type', 'stress_mgt'])['uid'].count()"
   ]
  },
  {
   "cell_type": "code",
   "execution_count": null,
   "metadata": {},
   "outputs": [],
   "source": [
    "sns.distplot(data_EMA[data_EMA['survey_type'] == 'health']['stress_mgt'].dropna())\n",
    "sns.distplot(data_EMA[data_EMA['survey_type'] == 'job']['stress_mgt'].dropna())\n",
    "sns.distplot(data_EMA[data_EMA['survey_type'] == 'personality']['stress_mgt'].dropna())\n",
    "plt.show()"
   ]
  },
  {
   "cell_type": "code",
   "execution_count": null,
   "metadata": {},
   "outputs": [],
   "source": [
    "#stress mean by survey type and date\n",
    "data_EMA[data_EMA['survey_type'] == 'health'].groupby(['date'])['stress_mgt'].mean().plot.line()\n",
    "data_EMA[data_EMA['survey_type'] == 'job'].groupby(['date'])['stress_mgt'].mean().plot.line()\n",
    "data_EMA[data_EMA['survey_type'] == 'personality'].groupby(['date'])['stress_mgt'].mean().plot.line()\n",
    "plt.legend(('health', 'job', 'personality'))"
   ]
  },
  {
   "cell_type": "code",
   "execution_count": null,
   "metadata": {},
   "outputs": [],
   "source": [
    "#interested in stress as starting variable\n",
    "data_EMA.groupby(['survey_type', 'stress_mgt']).mean()"
   ]
  },
  {
   "cell_type": "code",
   "execution_count": null,
   "metadata": {},
   "outputs": [],
   "source": [
    "#lets look at how each parameter changes as a result of reported stress levels for each survey types (eg secondary question of whether survey type affects reponses)\n",
    "\n",
    "#get column names (eg parameters)\n",
    "parameters = data_EMA.groupby('stress_mgt').mean().columns.values\n",
    "\n",
    "for param in parameters:\n",
    "    data_EMA.groupby(['survey_type', 'stress_mgt'])[param].mean().plot(kind='bar', yerr=data_EMA.groupby(['survey_type', 'stress_mgt'])[param].sem())\n",
    "    plt.ylabel([param])\n",
    "    plt.show()"
   ]
  },
  {
   "cell_type": "code",
   "execution_count": null,
   "metadata": {},
   "outputs": [],
   "source": [
    "data_EMA.groupby('survey_type')['work_mgt'].unique()"
   ]
  },
  {
   "cell_type": "code",
   "execution_count": null,
   "metadata": {},
   "outputs": [],
   "source": [
    "#merge demog and EMA dfs\n",
    "demo_EMA = data_EMA.merge(data_demog, on = 'uid', how = 'inner')\n",
    "print(demo_EMA.shape)\n",
    "demo_EMA.info()\n",
    "demo_EMA.head()"
   ]
  },
  {
   "cell_type": "code",
   "execution_count": null,
   "metadata": {},
   "outputs": [],
   "source": [
    "demo_EMA.groupby(['gender', 'survey_type', 'stress_mgt'])['uid'].count()"
   ]
  },
  {
   "cell_type": "code",
   "execution_count": null,
   "metadata": {},
   "outputs": [],
   "source": [
    "param + '.png'"
   ]
  },
  {
   "cell_type": "code",
   "execution_count": null,
   "metadata": {
    "scrolled": false
   },
   "outputs": [],
   "source": [
    "#lets look at how each parameter changes as a result of reported stress levels for each survey type and across gender\n",
    "\n",
    "#get column names (eg parameters)\n",
    "parameters = data_EMA.groupby('stress_mgt').mean().columns.values\n",
    "\n",
    "for param in parameters:\n",
    "    plt.figure(figsize=(10,10))\n",
    "    demo_EMA.groupby(['gender', 'stress_mgt'])[param].mean().plot(kind='bar', yerr=demo_EMA.groupby(['gender', 'stress_mgt'])[param].sem())\n",
    "    plt.ylabel([param])\n",
    "    plt.savefig(str(param + '.png'))\n",
    "    plt.show()"
   ]
  },
  {
   "cell_type": "code",
   "execution_count": null,
   "metadata": {},
   "outputs": [],
   "source": [
    "#create separate data frame for each survey\n",
    "print('Health EMA data', '\\n')\n",
    "print('Missing values per column', '\\n', data[data['survey_type'] == 'health'].isnull().sum(), '\\n')\n",
    "data_health = data[data['survey_type'] == 'health'].dropna(thresh = 100, axis = 1)\n",
    "print(data_health.shape, '\\n', '\\n')\n",
    "\n",
    "print('Job EMA data', '\\n')\n",
    "print('Missing values per column', '\\n', data[data['survey_type'] == 'job'].isnull().sum(), '\\n')\n",
    "data_job = data[data['survey_type'] == 'job'].dropna(thresh = 100, axis = 1)\n",
    "print(data_job.shape, '\\n', '\\n')\n",
    "\n",
    "print('Personality EMA data', '\\n')\n",
    "print('Missing values per column', '\\n', data[data['survey_type'] == 'personality'].isnull().sum(), '\\n')\n",
    "data_personality = data[data['survey_type'] == 'personality'].dropna(thresh = 100, axis = 1)\n",
    "print(data_personality.shape, '\\n', '\\n')"
   ]
  },
  {
   "cell_type": "code",
   "execution_count": null,
   "metadata": {},
   "outputs": [],
   "source": []
  },
  {
   "cell_type": "code",
   "execution_count": null,
   "metadata": {},
   "outputs": [],
   "source": []
  },
  {
   "cell_type": "code",
   "execution_count": null,
   "metadata": {},
   "outputs": [],
   "source": []
  },
  {
   "cell_type": "code",
   "execution_count": null,
   "metadata": {},
   "outputs": [],
   "source": []
  },
  {
   "cell_type": "code",
   "execution_count": null,
   "metadata": {},
   "outputs": [],
   "source": []
  }
 ],
 "metadata": {
  "kernelspec": {
   "display_name": "Python 3",
   "language": "python",
   "name": "python3"
  },
  "language_info": {
   "codemirror_mode": {
    "name": "ipython",
    "version": 3
   },
   "file_extension": ".py",
   "mimetype": "text/x-python",
   "name": "python",
   "nbconvert_exporter": "python",
   "pygments_lexer": "ipython3",
   "version": "3.6.7"
  }
 },
 "nbformat": 4,
 "nbformat_minor": 2
}
