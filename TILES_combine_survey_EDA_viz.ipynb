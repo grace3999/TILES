{
 "cells": [
  {
   "cell_type": "markdown",
   "metadata": {},
   "source": [
    "Combine study data into single \"tidy\" data frame for subsequent processing and analysis"
   ]
  },
  {
   "cell_type": "code",
   "execution_count": null,
   "metadata": {},
   "outputs": [],
   "source": [
    "#getting and working with data\n",
    "import pandas as pd\n",
    "import numpy as np\n",
    "import re\n",
    "import os\n",
    "from itertools import groupby\n",
    "import datetime as dt\n",
    "from numpy import median\n",
    "\n",
    "#visualizing results\n",
    "%matplotlib inline\n",
    "import seaborn as sns\n",
    "import matplotlib.pyplot as plt\n",
    "#import yellowbrick as yb\n",
    "\n",
    "pd.set_option('display.max_rows', 500)\n",
    "pd.set_option('display.max_columns', 500)\n",
    "pd.set_option('display.width', 1000)\n",
    "\n",
    "import warnings; warnings.simplefilter('ignore')\n",
    "np.set_printoptions(suppress=True)"
   ]
  },
  {
   "cell_type": "code",
   "execution_count": null,
   "metadata": {},
   "outputs": [],
   "source": [
    "data_path = 'C:/Users/Schindler/Documents/Schindler_Lab/Data/Clinical projects/TILES/final_data/data_final_combined.pkl'"
   ]
  },
  {
   "cell_type": "code",
   "execution_count": null,
   "metadata": {},
   "outputs": [],
   "source": [
    "#read in csv containing participant info\n",
    "data = pd.read_pickle(data_path)\n",
    "data = pd.DataFrame(data = data)\n",
    "#data_PF.reset_index(inplace=True)\n",
    "\n",
    "print('Original data shape:\\n', data.shape, '\\n')\n",
    "#ensure no replicate ID (212 participants in study)\n",
    "print('Original data unique IDs:\\n', data['ParticipantID'].unique().shape, '\\n')\n",
    "#ensure no replicate ID (212 participants in study)\n",
    "print('Original data unique IDs:\\n', data['MitreID'].unique().shape, '\\n')\n",
    "#how much missing data is there?\n",
    "print('Original data missing value counts:\\n', data.isnull().sum(), '\\n')\n",
    "#what is the data type of each column?\n",
    "print('Original data data types:\\n', data.info(), '\\n')"
   ]
  },
  {
   "cell_type": "code",
   "execution_count": null,
   "metadata": {},
   "outputs": [],
   "source": [
    "#create day of week column using dt and wave_study_date\n",
    "data['day_of_week'] = data['wave_study_date'].dt.day_name()\n",
    "data['day_of_week'] = pd.Categorical(data['day_of_week'], categories=\n",
    "    ['Monday','Tuesday','Wednesday','Thursday','Friday','Saturday', 'Sunday'],\n",
    "    ordered=True)"
   ]
  },
  {
   "cell_type": "code",
   "execution_count": null,
   "metadata": {},
   "outputs": [],
   "source": [
    "#fix numeric data columns\n",
    "data['activity_num'] = pd.to_numeric(data['activity_num'])\n",
    "data['location_num'] = pd.to_numeric(data['location_num'])\n",
    "\n",
    "data['pf_mgt'] = pd.to_numeric(data['pf_mgt'])\n",
    "\n",
    "data['context1'] = pd.to_numeric(data['context1'])\n",
    "data['context2'] = pd.to_numeric(data['context2'])\n",
    "data['context3'] = pd.to_numeric(data['context3'])\n",
    "data['context4'] = pd.to_numeric(data['context4'])\n",
    "data['stress'] = pd.to_numeric(data['stress'])\n",
    "data['anxiety'] = pd.to_numeric(data['anxiety'])\n",
    "data['work'] = pd.to_numeric(data['work'])"
   ]
  },
  {
   "cell_type": "code",
   "execution_count": null,
   "metadata": {},
   "outputs": [],
   "source": [
    "#explore unique values for each column - look for where they need to be updated/cleaned etc\n",
    "final_cols = data.columns\n",
    "for col in final_cols:\n",
    "    print(col)\n",
    "    print(data[col].unique())\n",
    "    print('\\n')"
   ]
  },
  {
   "cell_type": "code",
   "execution_count": null,
   "metadata": {},
   "outputs": [],
   "source": [
    "data['survey_type'].unique()"
   ]
  },
  {
   "cell_type": "code",
   "execution_count": null,
   "metadata": {},
   "outputs": [],
   "source": [
    "data[data['survey_type'] == 'psych_flex']['location_num'].value_counts()"
   ]
  },
  {
   "cell_type": "code",
   "execution_count": null,
   "metadata": {
    "scrolled": true
   },
   "outputs": [],
   "source": [
    "#create new column corresponding to if they are working or not (as assessed by 'activity_num' == 0 in psych_flex and engage or \n",
    "#'context2' == 1 in MGT surveys)\n",
    "\n",
    "working = []\n",
    "yes = 1.0\n",
    "no = 0.0\n",
    "for index, row in data.iterrows():\n",
    "    \n",
    "    if (row['survey_type'] == 'psych_flex') | (row['survey_type'] == 'engage_psycap'):\n",
    "        \n",
    "        if row['activity_num'] == 0.0:\n",
    "            working.append(1.0)\n",
    "            \n",
    "        elif row['activity_num'] == -1.0:\n",
    "            working.append(0.0)\n",
    "            \n",
    "        elif row['activity_num'] > 0.0:\n",
    "            working.append(0.0)\n",
    "        \n",
    "        else:\n",
    "            working.append(np.nan)\n",
    "            \n",
    "    elif (row['survey_type'] == 'job') | (row['survey_type'] == 'health') | (row['survey_type'] == 'personality'): \n",
    "        \n",
    "        if row['context2'] == 1.0:\n",
    "            working.append(1.0)\n",
    "            \n",
    "        elif row['context2'] > 1.0:\n",
    "            working.append(0.0)\n",
    "            \n",
    "        else:\n",
    "            working.append(np.nan)\n",
    "    \n",
    "    else:\n",
    "        working.append(np.nan)\n",
    "        \n",
    "print(len(working))\n",
    "data['working'] = working"
   ]
  },
  {
   "cell_type": "code",
   "execution_count": null,
   "metadata": {
    "scrolled": true
   },
   "outputs": [],
   "source": [
    "#create new column corresponding to if they are at work or not (as assessed by 'location_num' == 1 in engage or \n",
    "#'context2' == 1 in MGT surveys; psych_flex did not ask about location)\n",
    "\n",
    "at_work = []\n",
    "yes = 1.0\n",
    "no = 0.0\n",
    "for index, row in data.iterrows():\n",
    "    \n",
    "    if (row['survey_type'] == 'engage_psycap'):\n",
    "        \n",
    "        if row['activity_num'] == 0.0:\n",
    "            at_work.append(1.0)\n",
    "            \n",
    "        elif row['activity_num'] == -1.0:\n",
    "            at_work.append(0.0)\n",
    "            \n",
    "        elif row['activity_num'] > 0.0:\n",
    "            at_work.append(0.0)\n",
    "        \n",
    "        else:\n",
    "            at_work.append(np.nan)\n",
    "            \n",
    "    elif (row['survey_type'] == 'job') | (row['survey_type'] == 'health') | (row['survey_type'] == 'personality'): \n",
    "        \n",
    "        if row['context2'] == 1.0:\n",
    "            at_work.append(1.0)\n",
    "            \n",
    "        elif row['context2'] > 1.0:\n",
    "            at_work.append(0.0)\n",
    "            \n",
    "        else:\n",
    "            at_work.append(np.nan)\n",
    "    \n",
    "    else:\n",
    "        at_work.append(np.nan)\n",
    "        \n",
    "print(len(at_work))\n",
    "data['at_work'] = at_work"
   ]
  },
  {
   "cell_type": "code",
   "execution_count": null,
   "metadata": {},
   "outputs": [],
   "source": [
    "data['survey_type'].value_counts()"
   ]
  },
  {
   "cell_type": "code",
   "execution_count": null,
   "metadata": {},
   "outputs": [],
   "source": [
    "len(data['wave_study_day'].unique())"
   ]
  },
  {
   "cell_type": "code",
   "execution_count": null,
   "metadata": {},
   "outputs": [],
   "source": [
    "plt.figure(figsize=(25, 10))\n",
    "ax = data[data['survey_type'] == 'job'].groupby(['wave_study_day'])['index'].count().plot()\n",
    "ax = data[data['survey_type'] == 'health'].groupby(['wave_study_day'])['index'].count().plot()\n",
    "ax = data[data['survey_type'] == 'personality'].groupby(['wave_study_day'])['index'].count().plot()\n",
    "ax = data[data['survey_type'] == 'psych_flex'].groupby(['wave_study_day'])['index'].count().plot()\n",
    "ax = data[data['survey_type'] == 'engage_psycap'].groupby(['wave_study_day'])['index'].count().plot()\n",
    "plt.legend(('job', 'health', 'personality', 'psych_flex', 'engage_psycap'))\n",
    "plt.title('Surveys sent across time')\n",
    "ax.set_ylabel('Survey count')\n",
    "plt.show"
   ]
  },
  {
   "cell_type": "code",
   "execution_count": null,
   "metadata": {},
   "outputs": [],
   "source": [
    "plt.figure(figsize=(25, 10))\n",
    "sns.countplot(x=\"survey_type\",  data=data, hue='day_of_week')"
   ]
  },
  {
   "cell_type": "code",
   "execution_count": null,
   "metadata": {},
   "outputs": [],
   "source": [
    "plt.figure(figsize=(25, 10))\n",
    "ax = data[data['survey_type'] == 'job'].groupby(['day_of_week'])['index'].count().plot()\n",
    "ax = data[data['survey_type'] == 'health'].groupby(['day_of_week'])['index'].count().plot()\n",
    "ax = data[data['survey_type'] == 'personality'].groupby(['day_of_week'])['index'].count().plot()\n",
    "ax = data[data['survey_type'] == 'psych_flex'].groupby(['day_of_week'])['index'].count().plot()\n",
    "ax = data[data['survey_type'] == 'engage_psycap'].groupby(['day_of_week'])['index'].count().plot()\n",
    "plt.legend(('job', 'health', 'personality', 'psych_flex', 'engage_psycap'))\n",
    "plt.title('Surveys sent by day of week')\n",
    "plt.xticks(np.arange(7), ('Monday', 'Tuesday', 'Wednesday', 'Thursday', 'Friday', 'Saturday', 'Sunday'))\n",
    "ax.set_ylabel('Survey count')\n",
    "plt.show"
   ]
  },
  {
   "cell_type": "code",
   "execution_count": null,
   "metadata": {},
   "outputs": [],
   "source": [
    "data.groupby('survey_type')['at_work'].value_counts()"
   ]
  },
  {
   "cell_type": "code",
   "execution_count": null,
   "metadata": {},
   "outputs": [],
   "source": [
    "plt.figure(figsize=(25, 10))\n",
    "sns.countplot(x=\"working\", data=data, hue='survey_type')"
   ]
  },
  {
   "cell_type": "code",
   "execution_count": null,
   "metadata": {},
   "outputs": [],
   "source": [
    "plt.figure(figsize=(25, 10))\n",
    "ax = data[data['survey_type'] == 'job'].groupby(['wave_study_day'])['time_to_complete'].mean().plot()\n",
    "ax = data[data['survey_type'] == 'health'].groupby(['wave_study_day'])['time_to_complete'].mean().plot()\n",
    "ax = data[data['survey_type'] == 'personality'].groupby(['wave_study_day'])['time_to_complete'].mean().plot()\n",
    "ax = data[data['survey_type'] == 'psych_flex'].groupby(['wave_study_day'])['time_to_complete'].mean().plot()\n",
    "ax = data[data['survey_type'] == 'engage_psycap'].groupby(['wave_study_day'])['time_to_complete'].mean().plot()\n",
    "plt.legend(('job', 'health', 'personality', 'psych_flex', 'engage_psycap'))\n",
    "plt.title('Mean time to complete survey across time')\n",
    "ax.set_ylabel('Mean time to complete survey')\n",
    "plt.show"
   ]
  },
  {
   "cell_type": "code",
   "execution_count": null,
   "metadata": {},
   "outputs": [],
   "source": [
    "plt.figure(figsize=(25, 10))\n",
    "sns.catplot(x=\"working\", y=\"time_to_complete\", data=data, hue='survey_type', kind=\"bar\")"
   ]
  },
  {
   "cell_type": "code",
   "execution_count": null,
   "metadata": {},
   "outputs": [],
   "source": [
    "plt.figure(figsize=(25, 10))\n",
    "sns.catplot(x=\"survey_type\", y=\"time_to_complete\", data=data, hue='Sex', col='working', kind=\"bar\")"
   ]
  },
  {
   "cell_type": "code",
   "execution_count": null,
   "metadata": {},
   "outputs": [],
   "source": [
    "plt.figure(figsize=(25, 10))\n",
    "sns.catplot(x=\"working\", y=\"time_to_complete\", data=data, hue='survey_type', col=\"Shift\", kind=\"bar\")"
   ]
  },
  {
   "cell_type": "code",
   "execution_count": null,
   "metadata": {},
   "outputs": [],
   "source": [
    "plt.figure(figsize=(25, 10))\n",
    "sns.catplot(x=\"working\", y=\"time_to_complete\", data=data, hue='survey_type', col=\"Sex\", kind=\"bar\")"
   ]
  },
  {
   "cell_type": "code",
   "execution_count": null,
   "metadata": {},
   "outputs": [],
   "source": [
    "plt.figure(figsize=(25, 10))\n",
    "sns.catplot(x=\"working\", y=\"time_to_complete\", data=data, hue='survey_type', col=\"day_of_week\", kind=\"bar\")"
   ]
  },
  {
   "cell_type": "code",
   "execution_count": null,
   "metadata": {},
   "outputs": [],
   "source": [
    "plt.figure(figsize=(25, 10))\n",
    "sns.catplot(x=\"Shift\", y=\"time_to_complete\", data=data, hue='survey_type', col=\"Wave\", kind=\"bar\")"
   ]
  },
  {
   "cell_type": "code",
   "execution_count": null,
   "metadata": {},
   "outputs": [],
   "source": [
    "plt.figure(figsize=(25, 10))\n",
    "sns.catplot(x=\"working\", y=\"pf_mgt\", data=data, hue='day_of_week', kind=\"bar\")"
   ]
  },
  {
   "cell_type": "code",
   "execution_count": null,
   "metadata": {},
   "outputs": [],
   "source": [
    "plt.figure(figsize=(25, 10))\n",
    "sns.catplot(x=\"wave_study_day\", y=\"pf_mgt\", data=data, col=\"working\", kind=\"bar\")"
   ]
  },
  {
   "cell_type": "code",
   "execution_count": null,
   "metadata": {},
   "outputs": [],
   "source": [
    "sns.catplot(x=\"day_of_week\", y=\"pf_mgt\", data=data, col=\"Shift\", kind=\"bar\")"
   ]
  },
  {
   "cell_type": "code",
   "execution_count": null,
   "metadata": {},
   "outputs": [],
   "source": [
    "sns.catplot(x=\"day_of_week\", y=\"stress\", data=data, col=\"Shift\", kind=\"bar\")"
   ]
  },
  {
   "cell_type": "code",
   "execution_count": null,
   "metadata": {},
   "outputs": [],
   "source": [
    "sns.catplot(x=\"day_of_week\", y=\"anxiety\", data=data, col=\"Shift\", kind=\"bar\")"
   ]
  },
  {
   "cell_type": "code",
   "execution_count": null,
   "metadata": {},
   "outputs": [],
   "source": [
    "data['pf_mgt_round'] =  data['pf_mgt'].round()\n",
    "data['pf_mgt_round'].value_counts()"
   ]
  },
  {
   "cell_type": "code",
   "execution_count": null,
   "metadata": {},
   "outputs": [],
   "source": [
    "plt.figure(figsize=(25, 10))\n",
    "sns.catplot(x=\"pf_mgt_round\", y=\"time_to_complete\", data=data, col=\"working\", kind=\"bar\")"
   ]
  },
  {
   "cell_type": "code",
   "execution_count": null,
   "metadata": {},
   "outputs": [],
   "source": [
    "#save to csv\n",
    "data.to_csv('data.csv')"
   ]
  },
  {
   "cell_type": "code",
   "execution_count": null,
   "metadata": {},
   "outputs": [],
   "source": []
  },
  {
   "cell_type": "code",
   "execution_count": null,
   "metadata": {},
   "outputs": [],
   "source": []
  },
  {
   "cell_type": "code",
   "execution_count": null,
   "metadata": {},
   "outputs": [],
   "source": [
    "#split off data for surveys that were completed\n",
    "data_PF_completed = data_PF_final[data_PF_final['completed'] == 1]\n",
    "#data_PF_completed.reset_index(inplace=True)\n",
    "print(data_PF_completed.shape)\n",
    "#null survey questions for surveys that were completed\n",
    "data_PF_completed.isnull().sum()"
   ]
  },
  {
   "cell_type": "code",
   "execution_count": null,
   "metadata": {},
   "outputs": [],
   "source": [
    "#there should be no nans in columns 'activity' and 'pf_3' to 'pf_mgt', find these rows\n",
    "pf_no_comp = data_PF_completed.loc[data_PF_completed.loc[:, 'activity':'pf_mgt'].isnull().sum(axis=1) > 0]\n",
    "print(pf_no_comp.shape)\n",
    "#pf_no_comp.to_csv('pf_no_comp.csv')\n",
    "#participants did not have to answer 'exp_0' to 'exp_13', so no missing values"
   ]
  },
  {
   "cell_type": "code",
   "execution_count": null,
   "metadata": {},
   "outputs": [],
   "source": [
    "#compute new column containing long string analysis results (e.g. max length of same number answered for pf_03:pf_15)\n",
    "max_string = []\n",
    "for index, row in data_PF_completed.iterrows():\n",
    "    repeats = []\n",
    "    for k, g in groupby(row.loc['pf_03':'pf_15']):\n",
    "        repeats.append(sum(1 for i in g))\n",
    "    max_string.append(max(repeats))\n",
    "\n",
    "data_PF_completed['longest_string_pf'] = max_string"
   ]
  }
 ],
 "metadata": {
  "kernelspec": {
   "display_name": "Python 3",
   "language": "python",
   "name": "python3"
  },
  "language_info": {
   "codemirror_mode": {
    "name": "ipython",
    "version": 3
   },
   "file_extension": ".py",
   "mimetype": "text/x-python",
   "name": "python",
   "nbconvert_exporter": "python",
   "pygments_lexer": "ipython3",
   "version": "3.6.7"
  }
 },
 "nbformat": 4,
 "nbformat_minor": 2
}
