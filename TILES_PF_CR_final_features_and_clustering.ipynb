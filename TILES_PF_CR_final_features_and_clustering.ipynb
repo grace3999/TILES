{
 "cells": [
  {
   "cell_type": "markdown",
   "metadata": {},
   "source": [
    "Careless responder feature engineering and analysis (inital focus on psych_flex survey only)"
   ]
  },
  {
   "cell_type": "code",
   "execution_count": null,
   "metadata": {},
   "outputs": [],
   "source": [
    "#getting and working with data\n",
    "import pandas as pd\n",
    "import numpy as np\n",
    "import re\n",
    "import os\n",
    "from itertools import groupby\n",
    "import datetime as dt\n",
    "from numpy import median\n",
    "\n",
    "#visualizing results\n",
    "%matplotlib inline\n",
    "import seaborn as sns\n",
    "import matplotlib.pyplot as plt\n",
    "#import yellowbrick as yb\n",
    "\n",
    "pd.set_option('display.max_rows', 500)\n",
    "pd.set_option('display.max_columns', 500)\n",
    "pd.set_option('display.width', 1000)\n",
    "\n",
    "import warnings; warnings.simplefilter('ignore')\n",
    "np.set_printoptions(suppress=True)\n",
    "\n",
    "from sklearn.preprocessing import StandardScaler\n",
    "from sklearn.cluster import KMeans\n",
    "from sklearn.metrics.cluster import silhouette_score"
   ]
  },
  {
   "cell_type": "code",
   "execution_count": null,
   "metadata": {},
   "outputs": [],
   "source": [
    "data_path = 'C:/Users/Schindler/Documents/Schindler_Lab/Data/Clinical projects/TILES/final_data/data_final_combined.pkl'"
   ]
  },
  {
   "cell_type": "code",
   "execution_count": null,
   "metadata": {},
   "outputs": [],
   "source": [
    "#read in csv containing data from all surveys\n",
    "data = pd.read_pickle(data_path)\n",
    "data = pd.DataFrame(data = data)\n",
    "#data_PF.reset_index(inplace=True)\n",
    "\n",
    "print('Original data shape:\\n', data.shape, '\\n')\n",
    "#ensure no replicate ID (212 participants in study)\n",
    "print('Original data unique IDs:\\n', data['ParticipantID'].unique().shape, '\\n')\n",
    "#ensure no replicate ID (212 participants in study)\n",
    "print('Original data unique IDs:\\n', data['MitreID'].unique().shape, '\\n')\n",
    "#how much missing data is there?\n",
    "print('Original data missing value counts:\\n', data.isnull().sum(), '\\n')\n",
    "#what is the data type of each column?\n",
    "print('Original data data types:\\n', data.info(), '\\n')"
   ]
  },
  {
   "cell_type": "code",
   "execution_count": null,
   "metadata": {},
   "outputs": [],
   "source": [
    "data['survey_type'].value_counts()"
   ]
  },
  {
   "cell_type": "code",
   "execution_count": null,
   "metadata": {},
   "outputs": [],
   "source": [
    "#should be 71\n",
    "len(data['wave_study_day'].unique())"
   ]
  },
  {
   "cell_type": "code",
   "execution_count": null,
   "metadata": {},
   "outputs": [],
   "source": [
    "data.head()"
   ]
  },
  {
   "cell_type": "markdown",
   "metadata": {},
   "source": [
    "### notes for CR features for Psych Flex\n",
    "\n",
    "Should have answered every question\n",
    "\n",
    "Longstring\n",
    "- Legitimate longstrings of  ≥ 8 are unlikely for response “5”\n",
    "    - make column with longest string\n",
    "    - make column with number that longest string consisted of\n",
    "\n",
    "Semantic consistency\n",
    "- Legitimate scores of pf_mgt=5 are almost impossible\n",
    "\n",
    "Semantic antonyms\n",
    "- Not applicable\n",
    "\n",
    "Semantic synonyms \n",
    "- not applicable \n"
   ]
  },
  {
   "cell_type": "code",
   "execution_count": null,
   "metadata": {},
   "outputs": [],
   "source": [
    "#split off completed PF and related columns\n",
    "psych_flex_only = data[(data['survey_type'] == 'psych_flex') & (data['completed'] == 1.0)]\n",
    "psych_flex_only = psych_flex_only[['MitreID', 'ParticipantID', 'PrimaryUnit', 'SmartPhone',\n",
    "       'Sex', 'Shift', 'Wave', 'survey_id', 'survey_type', \n",
    "       'date', 'time','start_delay', \n",
    "       'time_to_complete', 'activity_num', 'location_num',\n",
    "       'activity', 'pf_03', 'pf_04', 'pf_05', 'pf_06',\n",
    "       'pf_07', 'pf_08', 'pf_09', 'pf_10', 'pf_11', 'pf_12', 'pf_13',\n",
    "       'pf_14', 'pf_15', 'pf_mgt', 'exp_0', 'exp_1', 'exp_2', 'exp_3',\n",
    "       'exp_4', 'exp_5', 'exp_6', 'exp_7', 'exp_8', 'exp_9', 'exp_10',\n",
    "       'exp_11', 'exp_12', 'exp_13', 'exp_neg', 'exp_pos', 'exp_neut',\n",
    "       'wave_study_date', 'wave_study_day',\n",
    "       'survey_count', 'day_of_week', 'working', 'at_work']]\n",
    "\n",
    "psych_flex_only.shape\n",
    "psych_flex_only['ParticipantID'].unique().shape"
   ]
  },
  {
   "cell_type": "code",
   "execution_count": null,
   "metadata": {},
   "outputs": [],
   "source": [
    "path_demog_prepost = 'C:/Users/Schindler/Documents/Schindler_Lab/Data/Clinical projects/TILES/final_data/Demog, PRE, PST survey composites.csv'"
   ]
  },
  {
   "cell_type": "code",
   "execution_count": null,
   "metadata": {},
   "outputs": [],
   "source": [
    "#read in data_demog_prepost, contains demographic information and pre/post questionaires\n",
    "data_demog_prepost = pd.read_csv(path_demog_prepost)\n",
    "data_demog_prepost = pd.DataFrame(data = data_demog_prepost)\n",
    "print('Original demog_prepost shape:\\n', data_demog_prepost.shape, '\\n')\n",
    "#replace blnaks with nans\n",
    "data_demog_prepost = data_demog_prepost.replace(' ', np.nan)\n",
    "#ensure no replicate ID (eg one row per participant in study)\n",
    "print('Original demog_prepost unique IDs:\\n', data_demog_prepost['ID'].unique().shape, '\\n')\n",
    "print('Original demog_prepost missing value couts:\\n', data_demog_prepost.isnull().sum(), '\\n')\n",
    "print('Original demog_prepost data types:\\n', data_demog_prepost.info(), '\\n')\n",
    "data_demog_prepost.head()"
   ]
  },
  {
   "cell_type": "code",
   "execution_count": null,
   "metadata": {},
   "outputs": [],
   "source": [
    "#add the information contained in data_demog_prepost to psych_flex_CR\n",
    "#first create new data table of data_demog_prepost that contains the same number of rows for each participant in that is in psych_flex_CR\n",
    "#(e.g. replicate data_demog_prepost so same length as psych_flex_CR for each participant)\n",
    "\n",
    "participants = psych_flex_only['MitreID'].unique()\n",
    "\n",
    "psych_flex_demog = pd.DataFrame()\n",
    "\n",
    "for part in participants:\n",
    "    df_part_long = pd.concat([data_demog_prepost[data_demog_prepost['ID'] == part]]*len(psych_flex_only[psych_flex_only['MitreID'] ==  part]), ignore_index=True)\n",
    "    df_part_long.reset_index(inplace=True)\n",
    "    psych_flex_demog_int = pd.concat([df_part_long, psych_flex_only[psych_flex_only['MitreID'] ==  part].reset_index()], axis = 1)\n",
    "    psych_flex_demog = psych_flex_demog.append(psych_flex_demog_int)\n",
    "\n",
    "#confirm the two data tables are now the same lenght\n",
    "print('psych_flex_only and psych_flex_demog are the same length:', psych_flex_only.shape[0] == psych_flex_demog.shape[0])\n",
    "print(psych_flex_only.shape[0])\n",
    "print(psych_flex_demog.shape[0])\n",
    "print('does the math make sense?', psych_flex_demog.shape[0] == (psych_flex_demog['ID'].values == psych_flex_demog['MitreID'].values).sum())\n",
    "psych_flex_demog.head()"
   ]
  },
  {
   "cell_type": "code",
   "execution_count": null,
   "metadata": {},
   "outputs": [],
   "source": [
    "#split off final variables of interest\n",
    "psych_flex_demog_features = ['MitreID', 'ParticipantID', 'PrimaryUnit', 'SmartPhone',\n",
    "       'Sex', 'Shift', 'bornUS', 'lang', 'englyrs', 'Wave', 'survey_id', 'survey_type',\n",
    "       'date', 'time',\n",
    "        'wave_study_date', 'wave_study_day',\n",
    "       'survey_count', 'day_of_week', 'working', 'at_work', 'start_delay',\n",
    "       'time_to_complete', 'activity_num', 'location_num',\n",
    "       'activity', 'pf_03', 'pf_04', 'pf_05', 'pf_06',\n",
    "       'pf_07', 'pf_08', 'pf_09', 'pf_10', 'pf_11', 'pf_12', 'pf_13',\n",
    "       'pf_14', 'pf_15', 'pf_mgt', 'exp_0', 'exp_1', 'exp_2', 'exp_3',\n",
    "       'exp_4', 'exp_5', 'exp_6', 'exp_7', 'exp_8', 'exp_9', 'exp_10',\n",
    "       'exp_11', 'exp_12', 'exp_13', 'exp_neg', 'exp_pos', 'exp_neut', \n",
    "        'ocb', 'inter.deviance', 'org.deviance', 'extraversion',\n",
    "       'agreeableness', 'conscientiousness', 'neuroticism', 'openness',\n",
    "       'psqi', 'fatigue', 'Stress', \n",
    "       'Flexibility', 'Inflexibility', 'Engagement']\n",
    "        \n",
    "PF_demog_df = psych_flex_demog[psych_flex_demog_features]\n",
    "PF_demog_df.reset_index(inplace=True)\n",
    "PF_demog_df.head()"
   ]
  },
  {
   "cell_type": "code",
   "execution_count": null,
   "metadata": {},
   "outputs": [],
   "source": [
    "#create study date bins\n",
    "PF_demog_df['wave_study_date_bin'] = pd.cut(PF_demog_df['wave_study_day'], 5)\n",
    "PF_demog_df['wave_study_date_bin'].value_counts()"
   ]
  },
  {
   "cell_type": "markdown",
   "metadata": {},
   "source": [
    "## Survey level features and clustering"
   ]
  },
  {
   "cell_type": "code",
   "execution_count": null,
   "metadata": {},
   "outputs": [],
   "source": [
    "#long string analysis (e.g. max length of same number answered for pf_03:pf_15)\n",
    "#create features related to long string analysis (feature of how long the string is and feature of what the string consisted of)\n",
    "\n",
    "max_strings = []\n",
    "max_answers = []\n",
    "\n",
    "for index, row in PF_demog_df.iterrows():\n",
    "    \n",
    "    groups = groupby(row['pf_03':'pf_15'])\n",
    "    result = [(label, sum(1 for _ in group)) for label, group in groups]\n",
    "\n",
    "    max_pair = max(result, key=lambda x:x[1])\n",
    "    max_string_length = max_pair[1]\n",
    "    max_answer = max_pair[0]\n",
    "\n",
    "    max_strings.append(max_string_length)\n",
    "    \n",
    "    max_answers.append(max_answer)\n",
    "\n",
    "PF_demog_df['longest_string_count'] = max_strings\n",
    "PF_demog_df['longest_string_answer'] = max_answers"
   ]
  },
  {
   "cell_type": "code",
   "execution_count": null,
   "metadata": {},
   "outputs": [],
   "source": [
    "#create feature that is surevy response skew\n",
    "PF_demog_df['skew'] = PF_demog_df.loc[:, 'activity':'pf_mgt'].skew(axis=1)"
   ]
  },
  {
   "cell_type": "code",
   "execution_count": null,
   "metadata": {},
   "outputs": [],
   "source": [
    "PF_demog_df.dropna(subset=['skew'], inplace=True)"
   ]
  },
  {
   "cell_type": "code",
   "execution_count": null,
   "metadata": {},
   "outputs": [],
   "source": [
    "PF_survey_features = PF_demog_df[['MitreID', 'longest_string_count', 'skew', 'time_to_complete']]\n",
    "PF_survey_features.set_index('MitreID', inplace=True)\n",
    "PF_survey_features.head()"
   ]
  },
  {
   "cell_type": "code",
   "execution_count": null,
   "metadata": {},
   "outputs": [],
   "source": [
    "sns.pairplot(PF_survey_features)"
   ]
  },
  {
   "cell_type": "code",
   "execution_count": null,
   "metadata": {},
   "outputs": [],
   "source": [
    "# center and scale the data\n",
    "scaler = StandardScaler()\n",
    "\n",
    "PF_survey_features_scaled = scaler.fit_transform(PF_survey_features)"
   ]
  },
  {
   "cell_type": "code",
   "execution_count": null,
   "metadata": {},
   "outputs": [],
   "source": [
    "k_range = range(2,10)\n",
    "scores = []\n",
    "for k in k_range:\n",
    "    km_ss = KMeans(n_clusters=k, random_state=1)\n",
    "    km_ss.fit(PF_survey_features_scaled)\n",
    "    scores.append(silhouette_score(PF_survey_features_scaled, km_ss.labels_))\n",
    "\n",
    "# plot the results\n",
    "plt.plot(k_range, scores)\n",
    "plt.xlabel('Number of clusters')\n",
    "plt.ylabel('Silhouette Coefficient')\n",
    "plt.title('PF kmeans at survey level')"
   ]
  },
  {
   "cell_type": "code",
   "execution_count": null,
   "metadata": {},
   "outputs": [],
   "source": [
    "PF_km_survey = KMeans(n_clusters=6,random_state=1234)\n",
    "PF_km_survey.fit(PF_survey_features_scaled)\n",
    "PF_survey_features['kmeans_scaled_survey'] = [\"cluster_\" + str(label) for label in PF_km_survey.labels_ ]\n",
    "PF_survey_features.head()"
   ]
  },
  {
   "cell_type": "code",
   "execution_count": null,
   "metadata": {},
   "outputs": [],
   "source": [
    "PF_survey_features['kmeans_scaled_survey'].value_counts()"
   ]
  },
  {
   "cell_type": "code",
   "execution_count": null,
   "metadata": {},
   "outputs": [],
   "source": [
    "sns.pairplot(PF_survey_features, hue = 'kmeans_scaled_survey')"
   ]
  },
  {
   "cell_type": "code",
   "execution_count": null,
   "metadata": {},
   "outputs": [],
   "source": [
    "#add cluster column to PF survey df\n",
    "participants = PF_demog_df['MitreID'].unique()\n",
    "\n",
    "for part in participants:\n",
    "    PF_demog_df.loc[PF_demog_df['MitreID'] == part, 'kmeans_cluster_survey'] = PF_survey_features[PF_survey_features.index == part]['kmeans_scaled_survey'].values\n",
    "    \n",
    "PF_demog_df.head()"
   ]
  },
  {
   "cell_type": "code",
   "execution_count": null,
   "metadata": {},
   "outputs": [],
   "source": []
  },
  {
   "cell_type": "markdown",
   "metadata": {},
   "source": [
    "## Participant level features and clustering"
   ]
  },
  {
   "cell_type": "code",
   "execution_count": null,
   "metadata": {},
   "outputs": [],
   "source": [
    "#create participant level CR features df\n",
    "PF_part_features = pd.DataFrame()\n",
    "PF_part_features['MitreID'] = PF_demog_df['MitreID'].unique()\n",
    "\n",
    "#long string count features\n",
    "PF_part_features['ls_count_ave'] = PF_demog_df.groupby('MitreID')['longest_string_count'].mean().values\n",
    "#PF_CRpart_features['ls_count_min'] = PF_demog_df.groupby('MitreID')['longest_string_count'].min().values\n",
    "#PF_CRpart_features['ls_count_max'] = PF_demog_df.groupby('MitreID')['longest_string_count'].max().values\n",
    "PF_part_features['ls_count_skew'] = PF_demog_df.groupby('MitreID')['longest_string_count'].skew().values\n",
    "\n",
    "#long string answer choice features\n",
    "#PF_CRpart_features['ls_num_ave'] = PF_demog_df.groupby('MitreID')['longest_string_answer'].mean().values\n",
    "#PF_CRpart_features['ls_num_min'] = PF_demog_df.groupby('MitreID')['longest_string_answer'].min().values\n",
    "#PF_CRpart_features['ls_num_max'] = PF_demog_df.groupby('MitreID')['longest_string_answer'].max().values\n",
    "#PF_CRpart_features['ls_num_skew'] = PF_demog_df.groupby('MitreID')['longest_string_answer'].skew().values\n",
    "\n",
    "#time to complete survey features\n",
    "PF_part_features['ttc_ave'] = PF_demog_df.groupby('MitreID')['time_to_complete'].mean().values\n",
    "#PF_CRpart_features['ttc_min'] = PF_demog_df.groupby('MitreID')['time_to_complete'].min().values\n",
    "#PF_CRpart_features['ttc_max'] = PF_demog_df.groupby('MitreID')['time_to_complete'].max().values\n",
    "PF_part_features['ttc_skew'] = PF_demog_df.groupby('MitreID')['time_to_complete'].skew().values\n",
    "\n",
    "#surveys completed features\n",
    "#PF_CRpart_features['survey_ratio'] = PF_demog_df.groupby('MitreID')['survey_count'].count().values / 50\n",
    "#PF_CRpart_features['survey_max'] = PF_demog_df.groupby('MitreID')['survey_count'].max().values\n",
    "\n",
    "PF_part_features.set_index('MitreID', inplace=True)\n",
    "PF_part_features.dropna(subset=['ls_count_skew'], inplace=True)\n",
    "PF_part_features.head()"
   ]
  },
  {
   "cell_type": "code",
   "execution_count": null,
   "metadata": {},
   "outputs": [],
   "source": [
    "sns.pairplot(PF_part_features)"
   ]
  },
  {
   "cell_type": "code",
   "execution_count": null,
   "metadata": {},
   "outputs": [],
   "source": [
    "# center and scale the data\n",
    "scaler = StandardScaler()\n",
    "\n",
    "PF_part_features_scaled = scaler.fit_transform(PF_part_features)"
   ]
  },
  {
   "cell_type": "code",
   "execution_count": null,
   "metadata": {},
   "outputs": [],
   "source": [
    "k_range = range(2,10)\n",
    "scores = []\n",
    "for k in k_range:\n",
    "    km_ss = KMeans(n_clusters=k, random_state=1)\n",
    "    km_ss.fit(PF_part_features_scaled)\n",
    "    scores.append(silhouette_score(PF_part_features_scaled, km_ss.labels_))\n",
    "\n",
    "# plot the results\n",
    "plt.plot(k_range, scores)\n",
    "plt.title('PF kmeans at participant level')\n",
    "plt.xlabel('Number of clusters')\n",
    "plt.ylabel('Silhouette Coefficient')"
   ]
  },
  {
   "cell_type": "code",
   "execution_count": null,
   "metadata": {},
   "outputs": [],
   "source": [
    "PF_km_part = KMeans(n_clusters=3,random_state=1234)\n",
    "PF_km_part.fit(PF_part_features_scaled)\n",
    "PF_part_features['kmeans_scaled_part'] = [\"cluster_\" + str(label) for label in PF_km_part.labels_ ]\n",
    "PF_part_features.head()"
   ]
  },
  {
   "cell_type": "code",
   "execution_count": null,
   "metadata": {},
   "outputs": [],
   "source": [
    "PF_part_features['kmeans_scaled_part'].value_counts()"
   ]
  },
  {
   "cell_type": "code",
   "execution_count": null,
   "metadata": {
    "scrolled": false
   },
   "outputs": [],
   "source": [
    "sns.pairplot(PF_part_features, hue='kmeans_scaled_part')"
   ]
  },
  {
   "cell_type": "code",
   "execution_count": null,
   "metadata": {
    "scrolled": true
   },
   "outputs": [],
   "source": [
    "#add cluster column to PF survey df\n",
    "participants = PF_part_features.index\n",
    "\n",
    "for part in participants:\n",
    "    PF_demog_df.loc[PF_demog_df['MitreID'] == part, 'kmeans_cluster_part'] = PF_part_features[PF_part_features.index == part]['kmeans_scaled_part'].values\n",
    "    \n",
    "PF_demog_df.head()"
   ]
  },
  {
   "cell_type": "code",
   "execution_count": null,
   "metadata": {},
   "outputs": [],
   "source": [
    "#add cluster ratio to PF survey df\n",
    "participants = PF_demog_df['MitreID'].unique()\n",
    "\n",
    "for part in participants:\n",
    "    PF_demog_df.loc[PF_demog_df['MitreID'] == part, 'kmeans_cluster_survey_ratio'] = \\\n",
    "    PF_demog_df[(PF_demog_df['MitreID'] == part) & (PF_demog_df['kmeans_cluster_survey'] == 'cluster_0')].shape[0] / \\\n",
    "    PF_demog_df[PF_demog_df['MitreID'] == part].shape[0]\n",
    "    \n",
    "PF_demog_df.head()"
   ]
  },
  {
   "cell_type": "markdown",
   "metadata": {},
   "source": [
    "## Participant level clustering based off clustering of surveys ratio"
   ]
  },
  {
   "cell_type": "code",
   "execution_count": null,
   "metadata": {},
   "outputs": [],
   "source": [
    "#create participant level CR features df\n",
    "PF_part_ratio_features = pd.DataFrame()\n",
    "PF_part_ratio_features['MitreID'] = PF_demog_df['MitreID'].unique()\n",
    "\n",
    "#long string count features\n",
    "PF_part_ratio_features['survey_ratio_ave'] = PF_demog_df.groupby('MitreID')['kmeans_cluster_survey_ratio'].mean().values\n",
    "\n",
    "\n",
    "PF_part_ratio_features.set_index('MitreID', inplace=True)\n",
    "PF_part_ratio_features.dropna(subset=['survey_ratio_ave'], inplace=True)\n",
    "PF_part_ratio_features.head()"
   ]
  },
  {
   "cell_type": "code",
   "execution_count": null,
   "metadata": {},
   "outputs": [],
   "source": [
    "sns.pairplot(PF_part_ratio_features)"
   ]
  },
  {
   "cell_type": "code",
   "execution_count": null,
   "metadata": {},
   "outputs": [],
   "source": [
    "# center and scale the data\n",
    "scaler = StandardScaler()\n",
    "\n",
    "PF_part_ratio_features_scaled = scaler.fit_transform(PF_part_ratio_features)"
   ]
  },
  {
   "cell_type": "code",
   "execution_count": null,
   "metadata": {},
   "outputs": [],
   "source": [
    "k_range = range(2,10)\n",
    "scores = []\n",
    "for k in k_range:\n",
    "    km_ss = KMeans(n_clusters=k, random_state=1)\n",
    "    km_ss.fit(PF_part_ratio_features_scaled)\n",
    "    scores.append(silhouette_score(PF_part_ratio_features_scaled, km_ss.labels_))\n",
    "\n",
    "# plot the results\n",
    "plt.plot(k_range, scores)\n",
    "plt.title('PF kmeans at participant level based on survey clustering ratio')\n",
    "plt.xlabel('Number of clusters')\n",
    "plt.ylabel('Silhouette Coefficient')"
   ]
  },
  {
   "cell_type": "code",
   "execution_count": null,
   "metadata": {},
   "outputs": [],
   "source": [
    "PF_km_part_ratio = KMeans(n_clusters=3,random_state=1234)\n",
    "PF_km_part_ratio.fit(PF_part_ratio_features_scaled)\n",
    "PF_part_ratio_features['kmeans_scaled_part_ratio'] = [\"cluster_\" + str(label) for label in PF_km_part_ratio.labels_ ]\n",
    "PF_part_ratio_features.head()"
   ]
  },
  {
   "cell_type": "code",
   "execution_count": null,
   "metadata": {},
   "outputs": [],
   "source": [
    "PF_part_ratio_features['kmeans_scaled_part_ratio'].value_counts()"
   ]
  },
  {
   "cell_type": "code",
   "execution_count": null,
   "metadata": {
    "scrolled": true
   },
   "outputs": [],
   "source": [
    "#add cluster column to PF survey df\n",
    "participants = PF_part_ratio_features.index\n",
    "\n",
    "for part in participants:\n",
    "    PF_demog_df.loc[PF_demog_df['MitreID'] == part, 'kmeans_cluster_part_ratio'] = PF_part_ratio_features[PF_part_ratio_features.index == part]['kmeans_scaled_part_ratio'].values\n",
    "    \n",
    "PF_demog_df.head()"
   ]
  },
  {
   "cell_type": "code",
   "execution_count": null,
   "metadata": {},
   "outputs": [],
   "source": [
    "#save to csv\n",
    "PF_demog_df.to_csv('PF_clustering_3ways.csv')\n",
    "\n",
    "#pickle to save\n",
    "PF_demog_df.to_pickle('PF_clustering_3ways.pkl')"
   ]
  },
  {
   "cell_type": "code",
   "execution_count": null,
   "metadata": {},
   "outputs": [],
   "source": [
    "g = sns.catplot(x=\"wave_study_date_bin\", y=\"longest_string_count\", data=PF_demog_df, kind=\"bar\", col='kmeans_cluster_survey')\n",
    "g.fig.set_size_inches(25,10)"
   ]
  },
  {
   "cell_type": "code",
   "execution_count": null,
   "metadata": {
    "scrolled": true
   },
   "outputs": [],
   "source": [
    "g = sns.catplot(x=\"wave_study_date_bin\", y=\"longest_string_count\", data=PF_demog_df, kind=\"bar\", col='kmeans_cluster_part')\n",
    "g.fig.set_size_inches(25,10)"
   ]
  },
  {
   "cell_type": "code",
   "execution_count": null,
   "metadata": {},
   "outputs": [],
   "source": [
    "g = sns.catplot(x=\"wave_study_date_bin\", y=\"kmeans_cluster_survey_ratio\", data=PF_demog_df, kind=\"bar\", col='kmeans_cluster_survey')\n",
    "g.fig.set_size_inches(25,10)"
   ]
  },
  {
   "cell_type": "code",
   "execution_count": null,
   "metadata": {},
   "outputs": [],
   "source": [
    "g = sns.catplot(x=\"wave_study_date_bin\", y=\"kmeans_cluster_survey_ratio\", data=PF_demog_df, kind=\"bar\", col='kmeans_cluster_part')\n",
    "g.fig.set_size_inches(25,10)"
   ]
  },
  {
   "cell_type": "code",
   "execution_count": null,
   "metadata": {},
   "outputs": [],
   "source": []
  },
  {
   "cell_type": "code",
   "execution_count": null,
   "metadata": {},
   "outputs": [],
   "source": []
  },
  {
   "cell_type": "code",
   "execution_count": null,
   "metadata": {},
   "outputs": [],
   "source": []
  },
  {
   "cell_type": "code",
   "execution_count": null,
   "metadata": {},
   "outputs": [],
   "source": []
  },
  {
   "cell_type": "code",
   "execution_count": null,
   "metadata": {},
   "outputs": [],
   "source": []
  },
  {
   "cell_type": "code",
   "execution_count": null,
   "metadata": {},
   "outputs": [],
   "source": [
    "PF_CR_demog_df['MitreID'].unique()"
   ]
  },
  {
   "cell_type": "code",
   "execution_count": null,
   "metadata": {},
   "outputs": [],
   "source": [
    "unique_ids = PF_CR_demog_df['MitreID'].unique()\n",
    "for u_id in unique_ids:\n",
    "    g = sns.catplot(x=\"wave_study_day\", y=\"longest_string_count\", data=PF_CR_demog_df[PF_CR_demog_df['MitreID'] == u_id], kind=\"bar\")\n",
    "    g.fig.set_size_inches(10,5)\n",
    "    #axes = g.axes\n",
    "    plt.ylim([0,13])\n",
    "    #g.set_ylim(0, 13)\n",
    "    plt.show()"
   ]
  },
  {
   "cell_type": "code",
   "execution_count": null,
   "metadata": {},
   "outputs": [],
   "source": [
    "#get participant ID order when sorted by longest string in the last time bin\n",
    "wave_1_ls = PF_CR_demog_df[PF_CR_demog_df['wave_study_date_bin'] == PF_CR_demog_df['wave_study_date_bin'].unique()[-1]].sort_values('longest_string_count')\n",
    "ls_index = wave_1_ls['MitreID'].unique()"
   ]
  },
  {
   "cell_type": "code",
   "execution_count": null,
   "metadata": {},
   "outputs": [],
   "source": [
    "#use order from above\n",
    "g = sns.catplot(x=\"MitreID\", y=\"longest_string_count\", data=PF_CR_demog_df, kind=\"bar\", col='wave_study_date_bin', \n",
    "                ci=None, order=ls_index)\n",
    "g.fig.set_size_inches(25,10)"
   ]
  },
  {
   "cell_type": "code",
   "execution_count": null,
   "metadata": {},
   "outputs": [],
   "source": [
    "g = sns.FacetGrid(PF_CR_demog_df, col=\"wave_study_date_bin\")\n",
    "g.map(sns.regplot, \"ocb\", \"longest_string_count\")\n",
    "g.fig.set_size_inches(25,10)\n",
    "\n"
   ]
  },
  {
   "cell_type": "code",
   "execution_count": null,
   "metadata": {},
   "outputs": [],
   "source": [
    "PF_CR_demog_df['Inflexibility'] = PF_CR_demog_df['Inflexibility'].astype(float)"
   ]
  },
  {
   "cell_type": "code",
   "execution_count": null,
   "metadata": {},
   "outputs": [],
   "source": [
    "g = sns.FacetGrid(PF_CR_demog_df, col=\"wave_study_date_bin\")\n",
    "g.map(sns.regplot, \"org.deviance\", \"longest_string_count\")\n",
    "g.fig.set_size_inches(25,10)\n",
    "\n"
   ]
  }
 ],
 "metadata": {
  "kernelspec": {
   "display_name": "Python 3",
   "language": "python",
   "name": "python3"
  },
  "language_info": {
   "codemirror_mode": {
    "name": "ipython",
    "version": 3
   },
   "file_extension": ".py",
   "mimetype": "text/x-python",
   "name": "python",
   "nbconvert_exporter": "python",
   "pygments_lexer": "ipython3",
   "version": "3.6.7"
  }
 },
 "nbformat": 4,
 "nbformat_minor": 2
}
