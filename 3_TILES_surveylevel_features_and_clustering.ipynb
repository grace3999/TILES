{
 "cells": [
  {
   "cell_type": "markdown",
   "metadata": {},
   "source": [
    "Careless responder feature engineering and analysis (inital focus on psych_flex survey only)"
   ]
  },
  {
   "cell_type": "code",
   "execution_count": null,
   "metadata": {},
   "outputs": [],
   "source": [
    "#getting and working with data\n",
    "import pandas as pd\n",
    "import numpy as np\n",
    "import re\n",
    "import os\n",
    "from itertools import groupby\n",
    "import datetime as dt\n",
    "import scipy as sp\n",
    "\n",
    "#visualizing results\n",
    "%matplotlib inline\n",
    "import seaborn as sns\n",
    "import matplotlib.pyplot as plt\n",
    "#import yellowbrick as yb\n",
    "\n",
    "pd.set_option('display.max_rows', 500)\n",
    "pd.set_option('display.max_columns', 500)\n",
    "pd.set_option('display.width', 1000)\n",
    "\n",
    "import warnings; warnings.simplefilter('ignore')\n",
    "np.set_printoptions(suppress=True)\n",
    "\n",
    "from sklearn.preprocessing import StandardScaler\n",
    "from sklearn.cluster import KMeans\n",
    "from sklearn.metrics.cluster import silhouette_score"
   ]
  },
  {
   "cell_type": "code",
   "execution_count": null,
   "metadata": {},
   "outputs": [],
   "source": [
    "data_path = 'C:/Users/Schindler/Documents/Schindler_Lab/Data/Clinical projects/TILES/final_data/final_data_complete.pkl'"
   ]
  },
  {
   "cell_type": "code",
   "execution_count": null,
   "metadata": {},
   "outputs": [],
   "source": [
    "#read in csv containing data from all surveys\n",
    "data = pd.read_pickle(data_path)\n",
    "data = pd.DataFrame(data = data)\n",
    "data.reset_index(inplace=True, drop=True)\n",
    "\n",
    "print('Original data shape:\\n', data.shape, '\\n')\n",
    "#ensure no replicate ID (212 participants in study)\n",
    "print('Original data unique IDs:\\n', data['ParticipantID'].unique().shape, '\\n')\n",
    "#ensure no replicate ID (212 participants in study)\n",
    "print('Original data unique IDs:\\n', data['MitreID'].unique().shape, '\\n')\n",
    "#how much missing data is there?\n",
    "print('Original data missing value counts:\\n', data.isnull().sum(), '\\n')\n",
    "#what is the data type of each column?\n",
    "print('Original data data types:\\n', data.info(), '\\n')"
   ]
  },
  {
   "cell_type": "code",
   "execution_count": null,
   "metadata": {},
   "outputs": [],
   "source": [
    "data['survey_type'].value_counts()"
   ]
  },
  {
   "cell_type": "code",
   "execution_count": null,
   "metadata": {},
   "outputs": [],
   "source": [
    "#should be 71\n",
    "len(data['wave_study_day'].unique())"
   ]
  },
  {
   "cell_type": "code",
   "execution_count": null,
   "metadata": {},
   "outputs": [],
   "source": [
    "#create study date bins\n",
    "data['wave_study_date_bin'] = pd.cut(data['wave_study_day'], 5)\n",
    "data['wave_study_date_bin'].value_counts()"
   ]
  },
  {
   "cell_type": "code",
   "execution_count": null,
   "metadata": {},
   "outputs": [],
   "source": [
    "data.head()"
   ]
  },
  {
   "cell_type": "markdown",
   "metadata": {},
   "source": [
    "## Features and clustering on Engage surveys"
   ]
  },
  {
   "cell_type": "markdown",
   "metadata": {},
   "source": [
    "### notes for CR features for Engage surveys\n",
    "\n",
    "Context question\n",
    "- Semantic Antonyms\n",
    "    - if context1 = home (0), then context2 ≠ work and work related (0)\n",
    "    - if context1 = work (1), then context2 ≠ leisure sports (2), household activities (5), org/civic (9)\n",
    "- Semantic Synonyms\n",
    "    - if context1 = work (2), then context2 most likely work and work related (1)\n",
    "    - If context1 = vehicle (5), then context2 most likely travel or commute (11)\n",
    "- Internal consistency\n",
    "    - if context1 = 5 (other) then should have a write in\n",
    "    - if context2 = 12 (other) then should have a write in\n",
    "\n",
    "Longstring\n",
    "- All questions use same scale (1=not at all, 7=very much), but there are 5 different constructs assessed\n",
    "\n",
    "Semantic consistency\n",
    "- Internal consistency (within construct) should be greater than consistency across constructs\n",
    "\n",
    "Semantic synonyms \n",
    "- not applicable \n",
    "\n",
    "Semantic antonyms\n",
    "- Hindrance stressors should be negatively correlated with support \n"
   ]
  },
  {
   "cell_type": "code",
   "execution_count": null,
   "metadata": {},
   "outputs": [],
   "source": [
    "#split off completed engage and related columns\n",
    "engage_only = data[(data['survey_type'] == 'engage_psycap') & (data['completed'] == 1.0)]\n",
    "\n",
    "print(engage_only.shape)\n",
    "engage_only['ParticipantID'].unique().shape"
   ]
  },
  {
   "cell_type": "code",
   "execution_count": null,
   "metadata": {},
   "outputs": [],
   "source": [
    "#context semantic consistency features\n",
    "        \n",
    "context_check = []\n",
    "write_in_location = []\n",
    "write_in_activity = []\n",
    "\n",
    "for index, row in engage_only.iterrows():\n",
    "    \n",
    "    #if at home should not be working\n",
    "    if (row['location_num'] == 0) & (row['activity_num'] == 0):\n",
    "        context_check.append(1)\n",
    "    \n",
    "    #if at work should not be playing sports, household activities, civic duties\n",
    "    elif (row['location_num'] == 1) & ((row['activity_num'] == 2) | (row['activity_num'] == 5) | (row['activity_num'] == 9)):\n",
    "        context_check.append(1)\n",
    "        \n",
    "    else:\n",
    "        context_check.append(0)\n",
    "    \n",
    "    #if put other then should have write in\n",
    "    if row['location_num'] == 5:\n",
    "        write_in_location.append(1)\n",
    "    else:\n",
    "        write_in_location.append(0)\n",
    "        \n",
    "    if (row['activity_num'] == 11):\n",
    "        write_in_activity.append(1)\n",
    "    else:\n",
    "        write_in_activity.append(0)\n",
    "        \n",
    "engage_only['context_check'] = context_check\n",
    "engage_only['write_in_location'] = write_in_location\n",
    "engage_only['write_in_activity'] = write_in_activity"
   ]
  },
  {
   "cell_type": "code",
   "execution_count": null,
   "metadata": {},
   "outputs": [],
   "source": [
    "#long string analysis (e.g. max length of same number answered for engage_3:engage_29)\n",
    "#create features related to long string analysis (feature of how long the string is and feature of what the string consisted of)\n",
    "\n",
    "max_strings = []\n",
    "max_answers = []\n",
    "\n",
    "for index, row in engage_only.iterrows():\n",
    "    \n",
    "    groups = groupby(row['engage_3':'engage_29'])\n",
    "    result = [(label, sum(1 for _ in group)) for label, group in groups]\n",
    "\n",
    "    max_pair = max(result, key=lambda x:x[1])\n",
    "    max_string_length = max_pair[1]\n",
    "    max_answer = max_pair[0]\n",
    "\n",
    "    max_strings.append(max_string_length)\n",
    "    \n",
    "    max_answers.append(max_answer)\n",
    "    \n",
    "engage_only['longest_string_count'] = max_strings\n",
    "engage_only['longest_string_answer'] = max_answers"
   ]
  },
  {
   "cell_type": "code",
   "execution_count": null,
   "metadata": {},
   "outputs": [],
   "source": [
    "skew_seeded = []\n",
    "\n",
    "for index, row in engage_only.iterrows():\n",
    "    num = sp.stats.skew(np.append(row.loc['engage_3':'engage_29'].values, 4.0))\n",
    "    skew_seeded.append(num)\n",
    "    \n",
    "engage_only['skew_seeded'] = skew_seeded"
   ]
  },
  {
   "cell_type": "code",
   "execution_count": null,
   "metadata": {},
   "outputs": [],
   "source": [
    "#create feature that is surevy response skew\n",
    "engage_only['skew'] = engage_only.loc[:, 'engage_3':'engage_29'].skew(axis=1)\n",
    "engage_only['kurtosis'] = engage_only.loc[:, 'engage_3':'engage_29'].kurtosis(axis=1)"
   ]
  },
  {
   "cell_type": "code",
   "execution_count": null,
   "metadata": {},
   "outputs": [],
   "source": [
    "engage_only.dropna(subset=['skew_seeded'], inplace=True)\n",
    "engage_only.shape"
   ]
  },
  {
   "cell_type": "code",
   "execution_count": null,
   "metadata": {},
   "outputs": [],
   "source": [
    "engage_only_features = engage_only[['MitreID', 'context_check', 'write_in_location', 'write_in_activity', 'longest_string_count', 'skew_seeded', 'skew', 'kurtosis', 'time_to_complete']]\n",
    "engage_only_features.set_index('MitreID', inplace=True)\n",
    "engage_only_features.head()"
   ]
  },
  {
   "cell_type": "code",
   "execution_count": null,
   "metadata": {},
   "outputs": [],
   "source": [
    "engage_only_features.corr()"
   ]
  },
  {
   "cell_type": "code",
   "execution_count": null,
   "metadata": {},
   "outputs": [],
   "source": [
    "sns.pairplot(engage_only_features, kind='reg')"
   ]
  },
  {
   "cell_type": "markdown",
   "metadata": {},
   "source": [
    "### notes for CR features for Psych Flex\n",
    "\n",
    "Should have answered every question\n",
    "\n",
    "Longstring\n",
    "- Legitimate longstrings of  ≥ 8 are unlikely for response “5”\n",
    "    - make column with longest string\n",
    "    - make column with number that longest string consisted of\n",
    "\n",
    "Semantic consistency\n",
    "- Legitimate scores of pf_mgt=5 are almost impossible\n",
    "\n",
    "Semantic antonyms\n",
    "- Not applicable\n",
    "\n",
    "Semantic synonyms \n",
    "- not applicable \n"
   ]
  },
  {
   "cell_type": "code",
   "execution_count": null,
   "metadata": {},
   "outputs": [],
   "source": [
    "#split off completed PF and related columns\n",
    "psych_flex_only = data[(data['survey_type'] == 'psych_flex') & (data['completed'] == 1.0)]\n",
    "\n",
    "print(psych_flex_only.shape)\n",
    "psych_flex_only['ParticipantID'].unique().shape"
   ]
  },
  {
   "cell_type": "markdown",
   "metadata": {},
   "source": [
    "## Survey level features and clustering"
   ]
  },
  {
   "cell_type": "code",
   "execution_count": null,
   "metadata": {},
   "outputs": [],
   "source": [
    "#long string analysis (e.g. max length of same number answered for pf_03:pf_15)\n",
    "#create features related to long string analysis (feature of how long the string is and feature of what the string consisted of)\n",
    "\n",
    "max_strings = []\n",
    "max_answers = []\n",
    "\n",
    "for index, row in psych_flex_only.iterrows():\n",
    "    \n",
    "    groups = groupby(row['pf_03':'pf_15'])\n",
    "    result = [(label, sum(1 for _ in group)) for label, group in groups]\n",
    "\n",
    "    max_pair = max(result, key=lambda x:x[1])\n",
    "    max_string_length = max_pair[1]\n",
    "    max_answer = max_pair[0]\n",
    "\n",
    "    max_strings.append(max_string_length)\n",
    "    \n",
    "    max_answers.append(max_answer)\n",
    "    \n",
    "psych_flex_only['longest_string_count'] = max_strings\n",
    "psych_flex_only['longest_string_answer'] = max_answers"
   ]
  },
  {
   "cell_type": "code",
   "execution_count": null,
   "metadata": {},
   "outputs": [],
   "source": [
    "#create feature that is surevy response skew\n",
    "psych_flex_only['skew'] = psych_flex_only.loc[:, 'pf_03':'pf_15'].skew(axis=1)\n",
    "psych_flex_only['kurtosis'] = psych_flex_only.loc[:, 'pf_03':'pf_15'].kurtosis(axis=1)"
   ]
  },
  {
   "cell_type": "code",
   "execution_count": null,
   "metadata": {},
   "outputs": [],
   "source": [
    "#create feature that is count of exp questions that are 1 (eg answered) - this didn't work as a feature\n",
    "psych_flex_only['exp_count'] = psych_flex_only.loc[:, 'exp_0':'exp_13'].sum(axis=1)\n",
    "psych_flex_only['exp_mean'] = psych_flex_only.loc[:, 'exp_neg':'exp_neut'].mean(axis=1)"
   ]
  },
  {
   "cell_type": "code",
   "execution_count": null,
   "metadata": {},
   "outputs": [],
   "source": [
    "psych_flex_only.dropna(subset=['kurtosis'], inplace=True)\n",
    "psych_flex_only.shape"
   ]
  },
  {
   "cell_type": "code",
   "execution_count": null,
   "metadata": {},
   "outputs": [],
   "source": [
    "PF_survey_features = psych_flex_only[['MitreID', 'longest_string_count', 'exp_count', 'exp_mean', 'skew', 'kurtosis', 'time_to_complete']]\n",
    "PF_survey_features_skew = psych_flex_only[['MitreID', 'longest_string_count', 'skew', 'time_to_complete']]\n",
    "PF_survey_features_kurtosis = psych_flex_only[['MitreID', 'longest_string_count', 'kurtosis', 'time_to_complete']]\n",
    "PF_survey_features.set_index('MitreID', inplace=True)\n",
    "PF_survey_features_skew.set_index('MitreID', inplace=True)\n",
    "PF_survey_features_kurtosis.set_index('MitreID', inplace=True)\n",
    "PF_survey_features.head()"
   ]
  },
  {
   "cell_type": "code",
   "execution_count": null,
   "metadata": {},
   "outputs": [],
   "source": [
    "PF_survey_features.corr()"
   ]
  },
  {
   "cell_type": "code",
   "execution_count": null,
   "metadata": {},
   "outputs": [],
   "source": [
    "sns.pairplot(PF_survey_features, kind='reg')"
   ]
  },
  {
   "cell_type": "code",
   "execution_count": null,
   "metadata": {},
   "outputs": [],
   "source": [
    "# center and scale the data\n",
    "scaler = StandardScaler()\n",
    "\n",
    "PF_survey_features_scaled = scaler.fit_transform(PF_survey_features_kurtosis)"
   ]
  },
  {
   "cell_type": "code",
   "execution_count": null,
   "metadata": {},
   "outputs": [],
   "source": [
    "k_range = range(2,10)\n",
    "scores = []\n",
    "for k in k_range:\n",
    "    km_ss = KMeans(n_clusters=k, random_state=1)\n",
    "    km_ss.fit(PF_survey_features_scaled)\n",
    "    scores.append(silhouette_score(PF_survey_features_scaled, km_ss.labels_))\n",
    "\n",
    "# plot the results\n",
    "plt.plot(k_range, scores)\n",
    "plt.xlabel('Number of clusters')\n",
    "plt.ylabel('Silhouette Coefficient')\n",
    "plt.title('PF kmeans at survey level')"
   ]
  },
  {
   "cell_type": "code",
   "execution_count": null,
   "metadata": {},
   "outputs": [],
   "source": [
    "PF_km_survey = KMeans(n_clusters=5,random_state=1234)\n",
    "PF_km_survey.fit(PF_survey_features_scaled)\n",
    "PF_survey_features_kurtosis['kmeans_scaled_survey'] = [\"cluster_\" + str(label) for label in PF_km_survey.labels_ ]\n",
    "PF_survey_features_kurtosis.head()"
   ]
  },
  {
   "cell_type": "code",
   "execution_count": null,
   "metadata": {},
   "outputs": [],
   "source": [
    "PF_survey_features['kmeans_scaled_survey'].value_counts()"
   ]
  },
  {
   "cell_type": "code",
   "execution_count": null,
   "metadata": {},
   "outputs": [],
   "source": [
    "sns.pairplot(PF_survey_features_kurtosis, hue = 'kmeans_scaled_survey')"
   ]
  },
  {
   "cell_type": "code",
   "execution_count": null,
   "metadata": {},
   "outputs": [],
   "source": [
    "#add cluster column to PF survey df\n",
    "participants = psych_flex_only['MitreID'].unique()\n",
    "\n",
    "for part in participants:\n",
    "    psych_flex_only.loc[psych_flex_only['MitreID'] == part, 'kmeans_cluster_survey'] = PF_survey_features[PF_survey_features.index == part]['kmeans_scaled_survey'].values\n",
    "    \n",
    "psych_flex_only.head()"
   ]
  },
  {
   "cell_type": "code",
   "execution_count": null,
   "metadata": {},
   "outputs": [],
   "source": [
    "#add cluster ratio to PF survey df\n",
    "participants = psych_flex_only['MitreID'].unique()\n",
    "\n",
    "for part in participants:\n",
    "    psych_flex_only.loc[psych_flex_only['MitreID'] == part, 'kmeans_cluster_survey_ratio_c0'] = \\\n",
    "    psych_flex_only[(psych_flex_only['MitreID'] == part) & (psych_flex_only['kmeans_cluster_survey'] == 'cluster_0')].shape[0] / \\\n",
    "    psych_flex_only[psych_flex_only['MitreID'] == part].shape[0]\n",
    "    \n",
    "    psych_flex_only.loc[psych_flex_only['MitreID'] == part, 'kmeans_cluster_survey_ratio_c2'] = \\\n",
    "    psych_flex_only[(psych_flex_only['MitreID'] == part) & (psych_flex_only['kmeans_cluster_survey'] == 'cluster_2')].shape[0] / \\\n",
    "    psych_flex_only[psych_flex_only['MitreID'] == part].shape[0]\n",
    "    \n",
    "psych_flex_only.head()"
   ]
  },
  {
   "cell_type": "code",
   "execution_count": null,
   "metadata": {},
   "outputs": [],
   "source": []
  },
  {
   "cell_type": "markdown",
   "metadata": {},
   "source": [
    "## Participant level features and clustering"
   ]
  },
  {
   "cell_type": "code",
   "execution_count": null,
   "metadata": {},
   "outputs": [],
   "source": [
    "#create participant level CR features df\n",
    "PF_part_features = pd.DataFrame()\n",
    "PF_part_features['MitreID'] = psych_flex_only['MitreID'].unique()\n",
    "print(PF_part_features.shape)\n",
    "\n",
    "#long string count features\n",
    "PF_part_features['ls_count_ave'] = psych_flex_only.groupby('MitreID')['longest_string_count'].mean().values\n",
    "#PF_part_features['ls_count_var'] = psych_flex_only.groupby('MitreID')['longest_string_count'].var().values\n",
    "#PF_part_features['ls_count_skew'] = psych_flex_only.groupby('MitreID')['longest_string_count'].skew().values\n",
    "PF_part_features['ls_count_kurt'] = psych_flex_only.groupby('MitreID')['longest_string_count'].apply(pd.DataFrame.kurt).values\n",
    "\n",
    "#long string answer choice features\n",
    "#PF_part_features['ls_num_ave'] = psych_flex_only.groupby('MitreID')['longest_string_answer'].mean().values\n",
    "#PF_CRpart_features['ls_num_min'] = PF_demog_df.groupby('MitreID')['longest_string_answer'].min().values\n",
    "#PF_CRpart_features['ls_num_max'] = PF_demog_df.groupby('MitreID')['longest_string_answer'].max().values\n",
    "#PF_part_features['ls_num_skew'] = psych_flex_only.groupby('MitreID')['longest_string_answer'].skew().values\n",
    "\n",
    "#time to complete survey features\n",
    "PF_part_features['ttc_ave'] = psych_flex_only.groupby('MitreID')['time_to_complete'].mean().values\n",
    "#PF_part_features['ttc_var'] = psych_flex_only.groupby('MitreID')['time_to_complete'].var().values\n",
    "#PF_part_features['ttc_skew'] = psych_flex_only.groupby('MitreID')['time_to_complete'].skew().values\n",
    "PF_part_features['ttc_kurtosis'] = psych_flex_only.groupby('MitreID')['time_to_complete'].apply(pd.DataFrame.kurt).values\n",
    "\n",
    "#surveys completed features\n",
    "#PF_CRpart_features['survey_ratio'] = PF_demog_df.groupby('MitreID')['survey_count'].count().values / 50\n",
    "#PF_CRpart_features['survey_max'] = PF_demog_df.groupby('MitreID')['survey_count'].max().values\n",
    "\n",
    "PF_part_features.set_index('MitreID', inplace=True)\n",
    "PF_part_features.dropna(subset=['ls_count_kurt'], inplace=True)\n",
    "print(PF_part_features.shape)\n",
    "PF_part_features.head()"
   ]
  },
  {
   "cell_type": "code",
   "execution_count": null,
   "metadata": {},
   "outputs": [],
   "source": [
    "sns.pairplot(PF_part_features)"
   ]
  },
  {
   "cell_type": "code",
   "execution_count": null,
   "metadata": {},
   "outputs": [],
   "source": [
    "# center and scale the data\n",
    "scaler = StandardScaler()\n",
    "\n",
    "PF_part_features_scaled = scaler.fit_transform(PF_part_features)"
   ]
  },
  {
   "cell_type": "code",
   "execution_count": null,
   "metadata": {},
   "outputs": [],
   "source": [
    "k_range = range(2,10)\n",
    "scores = []\n",
    "for k in k_range:\n",
    "    km_ss = KMeans(n_clusters=k, random_state=1)\n",
    "    km_ss.fit(PF_part_features_scaled)\n",
    "    scores.append(silhouette_score(PF_part_features_scaled, km_ss.labels_))\n",
    "\n",
    "# plot the results\n",
    "plt.plot(k_range, scores)\n",
    "plt.title('PF kmeans at participant level')\n",
    "plt.xlabel('Number of clusters')\n",
    "plt.ylabel('Silhouette Coefficient')"
   ]
  },
  {
   "cell_type": "code",
   "execution_count": null,
   "metadata": {},
   "outputs": [],
   "source": [
    "PF_km_part = KMeans(n_clusters=4,random_state=1234)\n",
    "PF_km_part.fit(PF_part_features_scaled)\n",
    "PF_part_features['kmeans_scaled_part'] = [\"cluster_\" + str(label) for label in PF_km_part.labels_ ]\n",
    "PF_part_features.head()"
   ]
  },
  {
   "cell_type": "code",
   "execution_count": null,
   "metadata": {},
   "outputs": [],
   "source": [
    "PF_part_features['kmeans_scaled_part'].value_counts()"
   ]
  },
  {
   "cell_type": "code",
   "execution_count": null,
   "metadata": {
    "scrolled": false
   },
   "outputs": [],
   "source": [
    "sns.pairplot(PF_part_features, hue='kmeans_scaled_part')"
   ]
  },
  {
   "cell_type": "code",
   "execution_count": null,
   "metadata": {},
   "outputs": [],
   "source": [
    "#fill out df at participant level\n",
    "\n",
    "participants = PF_part_features.index\n",
    "\n",
    "PF_part_clustering_demog = pd.DataFrame()\n",
    "\n",
    "for part in participants:\n",
    "    data_int = psych_flex_only.loc[psych_flex_only['MitreID'] == part][['ParticipantID', 'ID', 'PrimaryUnit', 'SmartPhone',\n",
    "       'Sex', 'Shift', 'Wave', 'GenInst', 'gender', 'age', 'bornUS',\n",
    "       'country', 'lang', 'englyrs', 'educ', 'jobstat', 'occup',\n",
    "       'occup_TEXT', 'supervise', 'quantsup', 'size', 'duration',\n",
    "       'income', 'record_id', 'race', 'ethnic', 'relationship',\n",
    "       'pregnant', 'children', 'housing', 'household___1',\n",
    "       'household___2', 'household___3', 'household___4', 'household___5',\n",
    "       'household___6', 'household___7', 'currentposition',\n",
    "       'position_other', 'certifications', 'nurseyears', 'shift', 'hours',\n",
    "       'overtime', 'commute_type', 'commute_time', 'extrajob',\n",
    "       'extrahours', 'student', 'demographics_complete',\n",
    "       'time_to_complete_demogs', 'demographics_timestamp',\n",
    "       'rand_36_item_sf_health_survey_instrument_version_1_timestamp',\n",
    "       'satisfaction_with_life_scale_swls_timestamp',\n",
    "       'perceived_stress_scale_pss_timestamp', 'mpfi24_timestamp',\n",
    "       'shipley.vocab', 'shipley.abs', 'irb', 'itp', 'ocb',\n",
    "       'inter.deviance', 'org.deviance', 'extraversion', 'agreeableness',\n",
    "       'conscientiousness', 'neuroticism', 'openness', 'pos.affect',\n",
    "       'neg.affect', 'stai.trait', 'audit', 'gats.status',\n",
    "       'gats.quantity', 'gats.quantity.sub', 'ipaq', 'psqi', 'mpfi24_01',\n",
    "       'mpfi24_02', 'mpfi24_03', 'mpfi24_04', 'mpfi24_05', 'mpfi24_06',\n",
    "       'mpfi24_07', 'mpfi24_08', 'mpfi24_09', 'mpfi24_10', 'mpfi24_11',\n",
    "       'mpfi24_12', 'mpfi24_13', 'mpfi24_14', 'mpfi24_15', 'mpfi24_16',\n",
    "       'mpfi24_17', 'mpfi24_18', 'mpfi24_19', 'mpfi24_20', 'mpfi24_21',\n",
    "       'mpfi24_22', 'mpfi24_23', 'mpfi24_24', 'General_Health',\n",
    "       'Physical_Functioning', 'Limits_Physical', 'Emotional_Wellbeing',\n",
    "       'Limits_Emotional', 'Social_Functioning', 'Pain', 'energy',\n",
    "       'fatigue', 'LifeSatisfaction', 'Stress', 'WAAQ', 'Flexibility',\n",
    "       'Inflexibility', 'Acceptance', 'Awareness', 'Self_as_Context',\n",
    "       'Defusion', 'Values', 'Action', 'Avoidance', 'LackofAwareness',\n",
    "       'Self_as_Content', 'Fusion', 'LackofValues', 'Inaction',\n",
    "       'Engagement', 'Engage_Vigor', 'Engage_Dedication',\n",
    "       'Engage_Absorbtion', 'PsyCap', 'Psycap_Hope', 'Psycap_Efficacy',\n",
    "       'Psycap_Reslilience', 'Psycap_Optimism', 'challengestressors',\n",
    "       'Hindrancestressors', 'poststudy_survey_timestamp_post',\n",
    "       'General_Health_post', 'Physical_Functioning_post',\n",
    "       'Limits_Physical_post', 'Emotional_Wellbeing_post',\n",
    "       'Limits_Emotional_post', 'Social_Functioning_post', 'Pain_post',\n",
    "       'energy_post', 'fatigue_post', 'LifeSatisfaction_post',\n",
    "       'Stress_post', 'WAAQ_post', 'Flexibility_post',\n",
    "       'Inflexibility_post', 'Acceptance_post', 'Awareness_post',\n",
    "       'Self_as_Context_post', 'Defusion_post', 'Values_post',\n",
    "       'Action_post', 'Avoidance_post', 'LackofAwareness_post',\n",
    "       'Self_as_Content_post', 'Fusion_post', 'LackofValues_post',\n",
    "       'Inaction_post', 'Engagement_post', 'Engage_Vigor_post',\n",
    "       'Engage_Dedication_post', 'Engage_Absorbtion_post', 'PsyCap_post',\n",
    "       'Psycap_Hope_post', 'Psycap_Efficacy_post',\n",
    "       'Psycap_Reslilience_post', 'Psycap_Optimism_post',\n",
    "       'challengestressors_post', 'Hindrancestressors_post', 'PsyFlexTot',\n",
    "       'PsyFlexSDTot', 'Context_Neg_Tot', 'Context_Pos_Tot',\n",
    "       'Context_All_Tot']]\n",
    "    df_part_long = data_int.iloc[0]\n",
    "    df_part_long = pd.DataFrame(data= df_part_long).T\n",
    "    #df_part_long = pd.concat([psych_flex_only[psych_flex_only['ID'] == part]]*len(PF_part_features[PF_part_features.index ==  part]), ignore_index=True)\n",
    "    df_part_long.reset_index(inplace=True)\n",
    "    psych_flex_demog_int = pd.concat([df_part_long, PF_part_features[PF_part_features.index ==  part].reset_index()], axis = 1)\n",
    "    PF_part_clustering_demog = PF_part_clustering_demog.append(psych_flex_demog_int)\n",
    "\n",
    "#confirm the two data tables are now the same lenght\n",
    "print('psych_flex_only and psych_flex_demog are the same length:', PF_part_features.shape[0] == PF_part_clustering_demog.shape[0])\n",
    "print(PF_part_features.shape[0])\n",
    "print(PF_part_clustering_demog.shape[0])\n",
    "print('does the math make sense?', PF_part_clustering_demog.shape[0] == (PF_part_clustering_demog['ID'].values == PF_part_clustering_demog['MitreID'].values).sum())\n",
    "PF_part_clustering_demog.head()"
   ]
  },
  {
   "cell_type": "code",
   "execution_count": null,
   "metadata": {
    "scrolled": false
   },
   "outputs": [],
   "source": [
    "#new df of all survey data with MitreIDs that match clustering MitreIDs\n",
    "ID_diff = list(set(data['MitreID'].unique()) - set(PF_part_clustering_demog['ID'].unique()))\n",
    "\n",
    "data_match = data.loc[~data['MitreID'].isin(ID_diff)]\n",
    "\n",
    "psych_flex_only_match = psych_flex_only.loc[~psych_flex_only['MitreID'].isin(ID_diff)]\n",
    "psych_flex_only_match.head()"
   ]
  },
  {
   "cell_type": "code",
   "execution_count": null,
   "metadata": {},
   "outputs": [],
   "source": [
    "#split off completed engage \n",
    "engage_only = data_match[(data_match['survey_type'] == 'engage_psycap') & (data_match['completed'] == 1.0)]\n",
    "engage_only.groupby('MitreID')['engage_mgt'].mean().shape"
   ]
  },
  {
   "cell_type": "code",
   "execution_count": null,
   "metadata": {},
   "outputs": [],
   "source": [
    "#surveys completed features\n",
    "PF_part_clustering_demog['survey_complete_ratio'] = psych_flex_only_match.groupby('MitreID')['survey_count'].count().values / 50\n",
    "PF_part_clustering_demog['survey_complete_max'] = psych_flex_only_match.groupby('MitreID')['survey_count'].max().values\n",
    "PF_part_clustering_demog['kmeans_cluster_survey_ratio_c0'] = psych_flex_only_match.groupby('MitreID')['kmeans_cluster_survey_ratio_c0'].max().values\n",
    "PF_part_clustering_demog['kmeans_cluster_survey_ratio_c2'] = psych_flex_only_match.groupby('MitreID')['kmeans_cluster_survey_ratio_c2'].max().values\n",
    "\n",
    "PF_part_clustering_demog['pf_mgt_ave'] = psych_flex_only_match.groupby('MitreID')['pf_mgt'].mean().values\n",
    "PF_part_clustering_demog['exp_neg_ave'] = psych_flex_only_match.groupby('MitreID')['exp_neg'].mean().values\n",
    "PF_part_clustering_demog['exp_pos_ave'] = psych_flex_only_match.groupby('MitreID')['exp_pos'].mean().values\n",
    "PF_part_clustering_demog['exp_neut_ave'] = psych_flex_only_match.groupby('MitreID')['exp_neut'].mean().values\n",
    "\n",
    "PF_part_clustering_demog['engage_mgt_ave'] = engage_only.groupby('MitreID')['engage_mgt'].mean().values\n",
    "PF_part_clustering_demog['psycap_mgt_ave'] = engage_only.groupby('MitreID')['psycap_mgt'].mean().values\n",
    "PF_part_clustering_demog['support_mgt_ave'] = engage_only.groupby('MitreID')['support_mgt'].mean().values\n",
    "PF_part_clustering_demog['challenge_mgt_ave'] = engage_only.groupby('MitreID')['challenge_mgt'].mean().values\n",
    "PF_part_clustering_demog['hindrance_mgt_ave'] = engage_only.groupby('MitreID')['hindrance_mgt'].mean().values"
   ]
  },
  {
   "cell_type": "code",
   "execution_count": null,
   "metadata": {},
   "outputs": [],
   "source": [
    "print(PF_part_clustering_demog.shape)\n",
    "PF_part_clustering_demog.head()"
   ]
  },
  {
   "cell_type": "code",
   "execution_count": null,
   "metadata": {},
   "outputs": [],
   "source": [
    "path_incentives = 'C:/Users/Schindler/Documents/Schindler_Lab/Data/Clinical projects/TILES/final_data/Weekly incentives per participant.xlsx'\n",
    "\n",
    "#read in incentives df\n",
    "incentives_df = pd.read_excel(path_incentives)\n",
    "incentives_df = pd.DataFrame(data = incentives_df)\n",
    "incentives_df.sort_values('MITRE ID').head()"
   ]
  },
  {
   "cell_type": "code",
   "execution_count": null,
   "metadata": {},
   "outputs": [],
   "source": [
    "incentives_df.columns.values"
   ]
  },
  {
   "cell_type": "code",
   "execution_count": null,
   "metadata": {},
   "outputs": [],
   "source": [
    "participants = PF_part_clustering_demog['MitreID']\n",
    "\n",
    "#PF_CRpart_features_cluster_df['total_incentive'] = np.nan\n",
    "\n",
    "for part in participants:\n",
    "    try:\n",
    "        PF_part_clustering_demog.loc[PF_part_clustering_demog['MitreID'] == part, 'total_incentive'] = incentives_df[incentives_df['MITRE ID'] == part]['Total Incentive '].values\n",
    "        \n",
    "    except:\n",
    "        pass"
   ]
  },
  {
   "cell_type": "code",
   "execution_count": null,
   "metadata": {},
   "outputs": [],
   "source": [
    "#save to csv\n",
    "PF_part_clustering_demog.to_csv('PF_clustering_participant.csv')"
   ]
  },
  {
   "cell_type": "code",
   "execution_count": null,
   "metadata": {},
   "outputs": [],
   "source": []
  },
  {
   "cell_type": "code",
   "execution_count": null,
   "metadata": {
    "scrolled": false
   },
   "outputs": [],
   "source": [
    "#add cluster column to PF survey df\n",
    "participants = PF_part_features.index\n",
    "\n",
    "for part in participants:\n",
    "    psych_flex_only.loc[psych_flex_only['MitreID'] == part, 'kmeans_cluster_part'] = PF_part_features[PF_part_features.index == part]['kmeans_scaled_part'].values\n",
    "    \n",
    "psych_flex_only.head()"
   ]
  },
  {
   "cell_type": "markdown",
   "metadata": {},
   "source": [
    "## viz for JV conference"
   ]
  },
  {
   "cell_type": "code",
   "execution_count": null,
   "metadata": {},
   "outputs": [],
   "source": [
    "#break off only good responders\n",
    "psych_flex_noCR = psych_flex_only[psych_flex_only['kmeans_cluster_part'] != 'cluster_1']"
   ]
  },
  {
   "cell_type": "code",
   "execution_count": null,
   "metadata": {},
   "outputs": [],
   "source": [
    "#add change from mean for pf_mgt to PF survey df\n",
    "participants = psych_flex_noCR['MitreID'].unique()\n",
    "\n",
    "for part in participants:\n",
    "    pf_mgt_mean = psych_flex_noCR[psych_flex_noCR['MitreID'] == part]['pf_mgt'].mean()\n",
    "    psych_flex_noCR.loc[psych_flex_noCR['MitreID'] == part, 'pf_mgt_change'] = psych_flex_noCR[psych_flex_noCR['MitreID'] == part]['pf_mgt'] - pf_mgt_mean\n",
    "\n",
    "psych_flex_noCR.head()"
   ]
  },
  {
   "cell_type": "code",
   "execution_count": null,
   "metadata": {},
   "outputs": [],
   "source": [
    "#plt.style.use('seaborn-white')\n",
    "plt.rcParams['figure.figsize'] = 10,5\n",
    "g = sns.lineplot(x='survey_count', y=\"pf_mgt\", data=psych_flex_noCR, lw=1, ci=68, palette=\"rocket\", legend=False)"
   ]
  },
  {
   "cell_type": "code",
   "execution_count": null,
   "metadata": {},
   "outputs": [],
   "source": [
    "plt.style.use('seaborn-white')\n",
    "plt.rcParams['figure.figsize'] = 10,5\n",
    "g = sns.lineplot(y=\"pf_mgt\", data=psych_flex_noCR, x='wave_study_date', ci=68, palette=\"rocket\")"
   ]
  },
  {
   "cell_type": "code",
   "execution_count": null,
   "metadata": {
    "scrolled": true
   },
   "outputs": [],
   "source": [
    "plt.style.use('seaborn-white')\n",
    "plt.rcParams['figure.figsize'] = 10,5\n",
    "g = sns.barplot(y=\"pf_mgt\", data=psych_flex_noCR, x='activity_num', palette=\"rocket\")"
   ]
  },
  {
   "cell_type": "code",
   "execution_count": null,
   "metadata": {},
   "outputs": [],
   "source": [
    "plt.style.use('seaborn-white')\n",
    "plt.rcParams['figure.figsize'] = 10,5\n",
    "g = sns.barplot(y=\"pf_mgt_change\", data=psych_flex_noCR, x='activity_num', ci=68, palette=\"rocket\")\n",
    "#g.set(ylim=(0, 5))"
   ]
  },
  {
   "cell_type": "code",
   "execution_count": null,
   "metadata": {},
   "outputs": [],
   "source": [
    "psych_flex_noCR_exp_cols = psych_flex_noCR[['pf_mgt_change', 'exp_0', 'exp_1', 'exp_2', 'exp_3', 'exp_4', 'exp_5', 'exp_6', 'exp_7', 'exp_8', 'exp_9', 'exp_10', 'exp_11', 'exp_12', 'exp_13']]\n",
    "psych_flex_noCR_exp_melt = psych_flex_noCR_exp_cols.melt('pf_mgt_change', var_name='experience',  value_name='vals')\n",
    "g = sns.factorplot(x=\"vals\", y=\"pf_mgt_change\", hue='experience', data=psych_flex_noCR_exp_melt)"
   ]
  },
  {
   "cell_type": "code",
   "execution_count": null,
   "metadata": {},
   "outputs": [],
   "source": [
    "psych_flex_noCR_exp_cols = psych_flex_noCR[['pf_mgt_change', 'exp_pos', 'exp_neg', 'exp_neut']]\n",
    "psych_flex_noCR_exp_melt = psych_flex_noCR_exp_cols.melt('pf_mgt_change', var_name='experience_group',  value_name='vals')\n",
    "g = sns.factorplot(x=\"vals\", y=\"pf_mgt_change\", hue='experience_group', data=psych_flex_noCR_exp_melt)"
   ]
  },
  {
   "cell_type": "code",
   "execution_count": null,
   "metadata": {},
   "outputs": [],
   "source": [
    "exp_col = ['exp_pos', 'exp_neg', 'exp_neut']\n",
    "\n",
    "i=1\n",
    "plt.figure(figsize=(30,20))\n",
    "for name in exp_col:\n",
    "    plt.subplot(4, 4, i)\n",
    "    sns.barplot(y=\"pf_mgt_change\", data=psych_flex_noCR, x=name, palette=\"rocket\")\n",
    "    i = i + 1"
   ]
  },
  {
   "cell_type": "code",
   "execution_count": null,
   "metadata": {},
   "outputs": [],
   "source": [
    "exp_col = ['exp_0', 'exp_1', 'exp_2', 'exp_3', 'exp_4', 'exp_5',\n",
    "       'exp_6', 'exp_7', 'exp_8', 'exp_9', 'exp_10', 'exp_11', 'exp_12',\n",
    "       'exp_13']\n",
    "\n",
    "i=1\n",
    "plt.figure(figsize=(20,15))\n",
    "for name in exp_col:\n",
    "    plt.subplot(4, 4, i)\n",
    "    sns.barplot(y=\"pf_mgt\", data=psych_flex_noCR, x=name, palette=\"rocket\")\n",
    "    i = i + 1"
   ]
  },
  {
   "cell_type": "markdown",
   "metadata": {},
   "source": [
    "## participant level clustering viz"
   ]
  },
  {
   "cell_type": "code",
   "execution_count": null,
   "metadata": {},
   "outputs": [],
   "source": [
    "g = sns.barplot(y=\"ls_count_ave\", data=PF_part_clustering_demog, x='kmeans_scaled_part', ci=68)\n",
    "plt.show()\n",
    "g = sns.barplot(y=\"ls_count_kurt\", data=PF_part_clustering_demog, x='kmeans_scaled_part', ci=68)\n",
    "plt.show()\n",
    "g = sns.barplot(y=\"ttc_ave\", data=PF_part_clustering_demog, x='kmeans_scaled_part', ci=68)\n",
    "plt.show()\n",
    "#g = sns.barplot(y=\"ttc_skew\", data=PF_part_clustering_demog, x='kmeans_scaled_part', ci=68)\n",
    "#plt.show()\n",
    "g = sns.barplot(y=\"kmeans_cluster_survey_ratio_c0\", data=PF_part_clustering_demog, x='kmeans_scaled_part', ci=68)\n",
    "plt.show()\n",
    "g = sns.barplot(y=\"kmeans_cluster_survey_ratio_c2\", data=PF_part_clustering_demog, x='kmeans_scaled_part', ci=68)\n",
    "plt.show()"
   ]
  },
  {
   "cell_type": "code",
   "execution_count": null,
   "metadata": {},
   "outputs": [],
   "source": [
    "g = sns.countplot(x=\"kmeans_cluster_part\", data=psych_flex_only, hue='wave_study_date_bin')\n"
   ]
  },
  {
   "cell_type": "code",
   "execution_count": null,
   "metadata": {},
   "outputs": [],
   "source": [
    "g = sns.barplot(y=\"total_incentive\", data=PF_part_clustering_demog, x='kmeans_scaled_part', ci=68)"
   ]
  },
  {
   "cell_type": "code",
   "execution_count": null,
   "metadata": {},
   "outputs": [],
   "source": [
    "g = sns.barplot(y=\"survey_complete_ratio\", data=PF_part_clustering_demog, x='kmeans_scaled_part', ci=68)\n",
    "plt.show()\n",
    "g = sns.barplot(y=\"survey_complete_max\", data=PF_part_clustering_demog, x='kmeans_scaled_part', ci=68)\n",
    "plt.show()"
   ]
  },
  {
   "cell_type": "code",
   "execution_count": null,
   "metadata": {},
   "outputs": [],
   "source": [
    "PF_part_clustering_demog.columns.values "
   ]
  },
  {
   "cell_type": "code",
   "execution_count": null,
   "metadata": {},
   "outputs": [],
   "source": [
    "variables = ['shipley.vocab', 'shipley.abs', 'irb',\n",
    "       'itp', 'ocb', 'inter.deviance', 'org.deviance', 'extraversion',\n",
    "       'agreeableness', 'conscientiousness', 'neuroticism', 'openness',\n",
    "       'pos.affect', 'neg.affect', 'stai.trait', 'audit', 'gats.status',\n",
    "       'gats.quantity', 'gats.quantity.sub', 'ipaq', 'psqi', \n",
    "       'gender', 'bornUS', 'englyrs', 'educ',\n",
    "       'jobstat', 'supervise', 'quantsup', 'size',\n",
    "       'duration', 'income', 'relationship',\n",
    "       'pregnant', 'children', 'housing','nurseyears', 'shift', 'hours',\n",
    "       'overtime', 'commute_time', 'extrajob',\n",
    "       'extrahours', 'student', \n",
    "       'mpfi24_01', 'mpfi24_02', 'mpfi24_03', 'mpfi24_04', 'mpfi24_05',\n",
    "       'mpfi24_06', 'mpfi24_07', 'mpfi24_08', 'mpfi24_09', 'mpfi24_10',\n",
    "       'mpfi24_11', 'mpfi24_12', 'mpfi24_13', 'mpfi24_14', 'mpfi24_15',\n",
    "       'mpfi24_16', 'mpfi24_17', 'mpfi24_18', 'mpfi24_19', 'mpfi24_20',\n",
    "       'mpfi24_21', 'mpfi24_22', 'mpfi24_23', 'mpfi24_24',\n",
    "       'General_Health', 'Physical_Functioning', 'Limits_Physical',\n",
    "       'Emotional_Wellbeing', 'Limits_Emotional', 'Social_Functioning',\n",
    "       'Pain', 'energy', 'fatigue', 'LifeSatisfaction', 'Stress', 'WAAQ',\n",
    "       'Flexibility', 'Inflexibility', 'Acceptance', 'Awareness',\n",
    "       'Self_as_Context', 'Defusion', 'Values', 'Action', 'Avoidance',\n",
    "       'LackofAwareness', 'Self_as_Content', 'Fusion', 'LackofValues',\n",
    "       'Inaction', 'Engagement', 'Engage_Vigor', 'Engage_Dedication',\n",
    "       'Engage_Absorbtion', 'PsyCap', 'Psycap_Hope', 'Psycap_Efficacy',\n",
    "       'Psycap_Reslilience', 'Psycap_Optimism', 'challengestressors',\n",
    "       'Hindrancestressors', \n",
    "       'General_Health_post', 'Physical_Functioning_post',\n",
    "       'Limits_Physical_post', 'Emotional_Wellbeing_post',\n",
    "       'Limits_Emotional_post', 'Social_Functioning_post', 'Pain_post',\n",
    "       'energy_post', 'fatigue_post', 'LifeSatisfaction_post',\n",
    "       'Stress_post', 'WAAQ_post', 'Flexibility_post',\n",
    "       'Inflexibility_post', 'Acceptance_post', 'Awareness_post',\n",
    "       'Self_as_Context_post', 'Defusion_post', 'Values_post',\n",
    "       'Action_post', 'Avoidance_post', 'LackofAwareness_post',\n",
    "       'Self_as_Content_post', 'Fusion_post', 'LackofValues_post',\n",
    "       'Inaction_post', 'Engagement_post', 'Engage_Vigor_post',\n",
    "       'Engage_Dedication_post', 'Engage_Absorbtion_post', 'PsyCap_post',\n",
    "       'Psycap_Hope_post', 'Psycap_Efficacy_post',\n",
    "       'Psycap_Reslilience_post', 'Psycap_Optimism_post',\n",
    "       'challengestressors_post', 'Hindrancestressors_post', 'PsyFlexTot',\n",
    "       'PsyFlexSDTot', 'Context_Neg_Tot', 'Context_Pos_Tot',\n",
    "       'Context_All_Tot', \n",
    "       'survey_complete_ratio', 'survey_complete_max',\n",
    "       'kmeans_cluster_survey_ratio_c0', 'kmeans_cluster_survey_ratio_c2', 'pf_mgt_ave', 'exp_neg_ave',\n",
    "       'exp_pos_ave', 'exp_neut_ave', 'engage_mgt_ave', 'psycap_mgt_ave',\n",
    "       'support_mgt_ave', 'challenge_mgt_ave', 'hindrance_mgt_ave',\n",
    "       'total_incentive', 'exp_neg', 'exp_pos', 'exp_neut']"
   ]
  },
  {
   "cell_type": "code",
   "execution_count": null,
   "metadata": {},
   "outputs": [],
   "source": [
    "for var in variables:\n",
    "    print(var)\n",
    "    try:\n",
    "        PF_part_clustering_demog[var] = PF_part_clustering_demog[var].astype('float')\n",
    "        g = sns.barplot(y=var, data=PF_part_clustering_demog, x='kmeans_scaled_part', ci=68)\n",
    "        plt.show()\n",
    "    except:\n",
    "        pass"
   ]
  },
  {
   "cell_type": "code",
   "execution_count": null,
   "metadata": {},
   "outputs": [],
   "source": []
  }
 ],
 "metadata": {
  "kernelspec": {
   "display_name": "Python 3",
   "language": "python",
   "name": "python3"
  },
  "language_info": {
   "codemirror_mode": {
    "name": "ipython",
    "version": 3
   },
   "file_extension": ".py",
   "mimetype": "text/x-python",
   "name": "python",
   "nbconvert_exporter": "python",
   "pygments_lexer": "ipython3",
   "version": "3.6.7"
  }
 },
 "nbformat": 4,
 "nbformat_minor": 2
}
