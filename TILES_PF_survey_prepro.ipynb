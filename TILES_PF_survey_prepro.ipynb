{
 "cells": [
  {
   "cell_type": "markdown",
   "metadata": {},
   "source": [
    "Preprocess and clean psychological flexibility EMA data from S3 bucket"
   ]
  },
  {
   "cell_type": "code",
   "execution_count": null,
   "metadata": {},
   "outputs": [],
   "source": [
    "#getting and working with data\n",
    "import pandas as pd\n",
    "import numpy as np\n",
    "import re\n",
    "import os\n",
    "\n",
    "#visualizing results\n",
    "%matplotlib inline\n",
    "import seaborn as sns\n",
    "import matplotlib.pyplot as plt\n",
    "#import yellowbrick as yb\n",
    "\n",
    "pd.set_option('display.max_rows', 500)\n",
    "pd.set_option('display.max_columns', 500)\n",
    "pd.set_option('display.width', 1000)\n",
    "\n",
    "import warnings; warnings.simplefilter('ignore')\n",
    "np.set_printoptions(suppress=True)"
   ]
  },
  {
   "cell_type": "code",
   "execution_count": null,
   "metadata": {},
   "outputs": [],
   "source": [
    "path_PF_S3 = 'C:/Users/Schindler/Documents/Schindler_Lab/Data/Clinical projects/TILES/PF_survey_fix/S3_app_surveys_updated.csv'"
   ]
  },
  {
   "cell_type": "code",
   "execution_count": null,
   "metadata": {},
   "outputs": [],
   "source": [
    "#read in csv from S3 bucket; psychologial felxibility EMAs in long form\n",
    "data_PF_S3 = pd.read_csv(path_PF_S3)\n",
    "data_PF_S3 = pd.DataFrame(data = data_PF_S3)\n",
    "print('Original data_PF_S3 shape:\\n', data_PF_S3.shape, '\\n')\n",
    "#ensure no replicate ID (211 participants in study)\n",
    "print('Original data_PF_S3 unique IDs:\\n', data_PF_S3['participant_id'].unique().shape, '\\n')\n",
    "#how much missing data is there?\n",
    "print('Original data_PF_S3 missing value counts:\\n', data_PF_S3.isnull().sum(), '\\n')\n",
    "#what is the data type of each column?\n",
    "print('Original data_PF_S3 data types:\\n', data_PF_S3.info(), '\\n')\n",
    "#what is the participant response rate across the entire study?\n",
    "print('Non-response rate over all PF surveys:\\n', data_PF_S3.isnull().sum().max() / data_PF_S3.shape[0] * 100, '%')\n",
    "#add a binary column for if survey was completed (1) or not (0)\n",
    "data_PF_S3['completed'] = np.where(data_PF_S3['results_updated'].isnull(), 0, 1)"
   ]
  },
  {
   "cell_type": "code",
   "execution_count": null,
   "metadata": {},
   "outputs": [],
   "source": [
    "#change dates from objects to datetimes\n",
    "data_PF_S3['survey_dt'] = data_PF_S3['survey_dt'].astype('datetime64')\n",
    "data_PF_S3['delivered_ts_utc'] = data_PF_S3['delivered_ts_utc'].astype('datetime64[ns]')\n",
    "data_PF_S3['started_ts_utc'] = data_PF_S3['started_ts_utc'].astype('datetime64[ns]')\n",
    "data_PF_S3['completed_ts_utc'] = data_PF_S3['completed_ts_utc'].astype('datetime64[ns]')\n",
    "data_PF_S3['ingested_ts_utc'] = data_PF_S3['ingested_ts_utc'].astype('datetime64[ns]')\n",
    "\n",
    "#confirm change \n",
    "print(data_PF_S3.info())"
   ]
  },
  {
   "cell_type": "code",
   "execution_count": null,
   "metadata": {
    "scrolled": true
   },
   "outputs": [],
   "source": [
    "print('data_PF_S3 shape:\\n', data_PF_S3.shape, '\\n')\n",
    "print('data_PF_S3 unique survey_id shape:\\n', data_PF_S3['survey_id'].unique().shape, '\\n')\n",
    "print('data_PF_S3 unique participant_id shape:\\n', data_PF_S3['participant_id'].unique().shape, '\\n')\n",
    "print('data_PF_S3 unique survey_types:\\n', data_PF_S3['survey_type'].value_counts(), '\\n')\n",
    "\n",
    "#what is the participant response rate for each survey type?\n",
    "print('Non-response rate over psych_flex survey:\\n', data_PF_S3[data_PF_S3['survey_type'] == 'psych_flex'].isnull().sum().max() /\n",
    "      data_PF_S3[data_PF_S3['survey_type'] == 'psych_flex'].shape[0] * 100, '%')\n",
    "print('Non-response rate over engage_psycap survey:\\n', data_PF_S3[data_PF_S3['survey_type'] != 'psych_flex'].isnull().sum().max() /\n",
    "      data_PF_S3[data_PF_S3['survey_type'] == 'psych_flex'].shape[0] * 100, '%')"
   ]
  },
  {
   "cell_type": "code",
   "execution_count": null,
   "metadata": {},
   "outputs": [],
   "source": [
    "#split off the psych_flex survey\n",
    "data_PF_S3_PFonly = data_PF_S3[data_PF_S3['survey_type'] == 'psych_flex']\n",
    "print(data_PF_S3_PFonly.shape)"
   ]
  },
  {
   "cell_type": "code",
   "execution_count": null,
   "metadata": {},
   "outputs": [],
   "source": [
    "#compute time between when survey is sent and when participant starts the survey\n",
    "data_PF_S3_PFonly['start_delay'] = data_PF_S3_PFonly['started_ts_utc'] - data_PF_S3_PFonly['delivered_ts_utc']\n",
    "#compute time between when survey is sent and when participant starts the survey\n",
    "data_PF_S3_PFonly['time_to_complete'] = data_PF_S3_PFonly['completed_ts_utc'] - data_PF_S3_PFonly['started_ts_utc']"
   ]
  },
  {
   "cell_type": "code",
   "execution_count": null,
   "metadata": {},
   "outputs": [],
   "source": [
    "#each participant should have 50 survey entries\n",
    "data_PF_S3_PFonly['participant_id'].value_counts()"
   ]
  },
  {
   "cell_type": "code",
   "execution_count": null,
   "metadata": {
    "scrolled": false
   },
   "outputs": [],
   "source": [
    "data_PF_S3_PFonly[data_PF_S3_PFonly['participant_id'] == 'f9264a9d-99d8-4937-8bda-eb620c0c1ed7']"
   ]
  },
  {
   "cell_type": "code",
   "execution_count": null,
   "metadata": {},
   "outputs": [],
   "source": [
    "df['score'] = df['raw'].str.extract('(\\d\\d\\d\\d\\.\\d)', expand=True)\n",
    "\n",
    "\"{'11': 5, '12': 5, '9': 3, '7': 4, '3': 4, '4': 5, '8': 4, '13': 4, '10': 5, '1': 0, '15': 5, '6': 4, '14': 4, '5': 4, '2': [1, 3, 5, 7]}\""
   ]
  },
  {
   "cell_type": "code",
   "execution_count": null,
   "metadata": {},
   "outputs": [],
   "source": [
    "x = data_PF_S3_PFonly['results_updated'].loc[44]\n",
    "x"
   ]
  },
  {
   "cell_type": "code",
   "execution_count": null,
   "metadata": {},
   "outputs": [],
   "source": [
    "data_PF_S3_PFonly['results_updated'].str.extract('\\{(\\'(\\d|\\d\\d)\\':\\s(\\d|\\d\\d),\\s){14}\\'(\\d|\\d\\d)\\':\\s\\[\\d,\\s\\d,\\s\\d,\\s\\d\\]\\}')"
   ]
  },
  {
   "cell_type": "code",
   "execution_count": null,
   "metadata": {},
   "outputs": [],
   "source": [
    "import json\n",
    "json.loads(x)"
   ]
  },
  {
   "cell_type": "code",
   "execution_count": null,
   "metadata": {},
   "outputs": [],
   "source": [
    "x = (data_PF_S3_PFonly['results_updated'].loc[44].split(','))\n",
    "print(x)\n",
    "questions = np.arange(15)\n",
    "for number in questions:\n",
    "    if re.search(r'1', x[0]):\n",
    "        print(3)"
   ]
  },
  {
   "cell_type": "code",
   "execution_count": null,
   "metadata": {},
   "outputs": [],
   "source": [
    "#number of participants sent surveys across time\n",
    "ax = data_PF_S3_PFonly.groupby('survey_dt')['participant_id'].count().plot()\n",
    "#number of participants completed surveys across time\n",
    "ax = data_PF_S3_PFonly[data_PF_S3_PFonly['completed'] == 1].groupby('survey_dt')['completed'].count().plot()\n",
    "plt.legend(('sent', 'completed'))\n",
    "plt.title('Surveys sent vs completed across time')\n",
    "ax.set_ylabel('Count')\n",
    "plt.show"
   ]
  },
  {
   "cell_type": "code",
   "execution_count": null,
   "metadata": {},
   "outputs": [],
   "source": [
    "ax = (data_PF_S3_PFonly[data_PF_S3_PFonly['completed'] == 1].groupby('survey_dt')['participant_id'].count() /\n",
    " data_PF_S3_PFonly.groupby('survey_dt')['participant_id'].count()*100).plot()\n",
    "\n",
    "ax.set_ylabel('Response rate (%)')\n",
    "plt.title('Survey response rate across time')\n",
    "plt.show"
   ]
  },
  {
   "cell_type": "code",
   "execution_count": null,
   "metadata": {},
   "outputs": [],
   "source": []
  },
  {
   "cell_type": "code",
   "execution_count": null,
   "metadata": {},
   "outputs": [],
   "source": []
  },
  {
   "cell_type": "code",
   "execution_count": null,
   "metadata": {},
   "outputs": [],
   "source": []
  },
  {
   "cell_type": "code",
   "execution_count": null,
   "metadata": {},
   "outputs": [],
   "source": []
  },
  {
   "cell_type": "code",
   "execution_count": null,
   "metadata": {},
   "outputs": [],
   "source": []
  },
  {
   "cell_type": "code",
   "execution_count": null,
   "metadata": {},
   "outputs": [],
   "source": []
  },
  {
   "cell_type": "code",
   "execution_count": null,
   "metadata": {},
   "outputs": [],
   "source": []
  },
  {
   "cell_type": "code",
   "execution_count": null,
   "metadata": {},
   "outputs": [],
   "source": []
  }
 ],
 "metadata": {
  "kernelspec": {
   "display_name": "Python 3",
   "language": "python",
   "name": "python3"
  },
  "language_info": {
   "codemirror_mode": {
    "name": "ipython",
    "version": 3
   },
   "file_extension": ".py",
   "mimetype": "text/x-python",
   "name": "python",
   "nbconvert_exporter": "python",
   "pygments_lexer": "ipython3",
   "version": "3.6.7"
  }
 },
 "nbformat": 4,
 "nbformat_minor": 2
}
