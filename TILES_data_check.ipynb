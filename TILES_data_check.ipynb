{
 "cells": [
  {
   "cell_type": "code",
   "execution_count": null,
   "metadata": {},
   "outputs": [],
   "source": [
    "#getting and working with data\n",
    "import pandas as pd\n",
    "import numpy as np\n",
    "import re\n",
    "import os\n",
    "\n",
    "pd.set_option('display.max_rows', 500)\n",
    "pd.set_option('display.max_columns', 500)\n",
    "pd.set_option('display.width', 1000)\n",
    "\n",
    "import warnings; warnings.simplefilter('ignore')\n",
    "np.set_printoptions(suppress=True)"
   ]
  },
  {
   "cell_type": "markdown",
   "metadata": {},
   "source": [
    "Goal of analysis script is to understand the data types contained in each parameter - will be used to check against the original survey questions and ensure that the data contained in the csv files has been entered correctly (expl. there are some survey questions that have a follow up question (e.g. do you smoke, yes or no; if yes, how many cigarettes do you smoke) and it is unclear how these have been delt with on the data entry side (right now it looks like the follow up question has been combined into the initial question but this is not correct)"
   ]
  },
  {
   "cell_type": "code",
   "execution_count": null,
   "metadata": {},
   "outputs": [],
   "source": [
    "#name paths to data files\n",
    "path_demog_prepost = 'C:/Users/Schindler/Documents/Schindler_Lab/Data/Clinical projects/TILES/Data_googledrive/Demog, PRE, PST survey composites.csv'\n",
    "path_EMA_MOSAIC = 'C:/Users/Schindler/Documents/Schindler_Lab/Data/Clinical projects/TILES/Data_googledrive/EMA surveys -MOSAIC.csv'\n",
    "path_EMA_PF = 'C:/Users/Schindler/Documents/Schindler_Lab/Data/Clinical projects/TILES/Data_googledrive/EMA PsyFlexLong.csv'"
   ]
  },
  {
   "cell_type": "code",
   "execution_count": null,
   "metadata": {},
   "outputs": [],
   "source": [
    "#read in data_demog_prepost, contains demographic information and pre/post questionaires\n",
    "data_demog_prepost = pd.read_csv(path_demog_prepost)\n",
    "data_demog_prepost = pd.DataFrame(data = data_demog_prepost)\n",
    "print('Original demog_prepost shape:\\n', data_demog_prepost.shape, '\\n')\n",
    "print('Original demog_prepost missing value couts:\\n', data_demog_prepost.isnull().sum(), '\\n')\n",
    "\n",
    "#there are lots of blank entries in this table, lets replace with 'blank' so these are not confused with actualy 'nan' etc\n",
    "data_demog_prepost = data_demog_prepost.replace(' ', 'blank')\n",
    "#we want to be able to see how many 'nan' there are so lets replace with 'NaN' so this keeps when we sort later on\n",
    "data_demog_prepost = data_demog_prepost.replace(np.nan, 'NAN')"
   ]
  },
  {
   "cell_type": "code",
   "execution_count": null,
   "metadata": {},
   "outputs": [],
   "source": [
    "#create dictionary to store info: key is parameter name, value is sorted array of unique values for that parameter\n",
    "data_types_demog_prepost = {}\n",
    "\n",
    "#get parameter names\n",
    "param_demog_prepost = data_demog_prepost.columns.values\n",
    "\n",
    "#populate dictionary\n",
    "for param in param_demog_prepost:\n",
    "    try:\n",
    "        data_types_demog_prepost[param] = np.sort(data_demog_prepost[param].unique())\n",
    "    except:\n",
    "        data_types_demog_prepost[param] = data_demog_prepost[param].unique()\n",
    "\n",
    "#convert dictionary into data frame (have to orient by index first because of unequal lengths)\n",
    "data_types_demog_prepost_df = pd.DataFrame.from_dict(data_types_demog_prepost, orient='index').T"
   ]
  },
  {
   "cell_type": "code",
   "execution_count": null,
   "metadata": {
    "scrolled": false
   },
   "outputs": [],
   "source": [
    "#read in MOSAIC EMA \n",
    "data_EMA_MOSAIC = pd.read_csv(path_EMA_MOSAIC)\n",
    "data_EMA_MOSAIC = pd.DataFrame(data = data_EMA_MOSAIC)\n",
    "print('Original MOSAIC EMA shape:\\n', data_EMA_MOSAIC.shape, '\\n')\n",
    "print('Original MOSAIC EMA survey type counts:\\n', data_EMA_MOSAIC['survey_type'].value_counts(), '\\n')\n",
    "print('Original MOSAIC EMA missing value couts:\\n', data_EMA_MOSAIC.isnull().sum(), '\\n')\n",
    "\n",
    "#there are lots of blank entries in this table, lets replace with 'blank' so these are not confused with actualy 'nan' etc\n",
    "data_EMA_MOSAIC = data_EMA_MOSAIC.replace(' ', 'blank')\n",
    "#we want to be able to see how many 'nan' there are so lets replace with 'NaN' so this keeps when we sort later on\n",
    "data_EMA_MOSAIC = data_EMA_MOSAIC.replace(np.nan, 'NAN')"
   ]
  },
  {
   "cell_type": "code",
   "execution_count": null,
   "metadata": {},
   "outputs": [],
   "source": [
    "#create dictionary to store info: key is parameter name, value is sorted array of unique values for that parameter\n",
    "data_types_MOSAIC = {}\n",
    "\n",
    "#get parameter names\n",
    "param_EMA_MOSAIC = data_EMA_MOSAIC.columns.values\n",
    "\n",
    "#populate dictionary\n",
    "for param in param_EMA_MOSAIC:\n",
    "    try:\n",
    "        data_types_MOSAIC[param] = np.sort(data_EMA_MOSAIC[param].unique())\n",
    "    except:\n",
    "        data_types_MOSAIC[param] = data_EMA_MOSAIC[param].unique()\n",
    "        \n",
    "#convert dictionary into data frame (have to orient by index first because of unequal lengths)\n",
    "data_types_MOSAIC_df = pd.DataFrame.from_dict(data_types_MOSAIC, orient='index').T"
   ]
  },
  {
   "cell_type": "code",
   "execution_count": null,
   "metadata": {
    "scrolled": false
   },
   "outputs": [],
   "source": [
    "#read in PF EMA \n",
    "data_EMA_PF = pd.read_csv(path_EMA_PF)\n",
    "data_EMA_PF = pd.DataFrame(data = data_EMA_PF)\n",
    "\n",
    "print('Original PF EMA shape:\\n', data_EMA_PF.shape, '\\n')\n",
    "print('Original PF EMA missing value couts:\\n', data_EMA_PF.isnull().sum(), '\\n')\n",
    "\n",
    "#there are lots of blank entries in this table, lets replace with 'blank' so these are not confused with actualy 'nan' etc\n",
    "data_EMA_PF = data_EMA_PF.replace(' ', 'blank')\n",
    "#we want to be able to see how many 'nan' there are so lets replace with 'NaN' so this keeps when we sort later on\n",
    "#data_EMA_PF = data_EMA_PF.replace(np.nan, 'NAN')"
   ]
  },
  {
   "cell_type": "code",
   "execution_count": null,
   "metadata": {},
   "outputs": [],
   "source": [
    "#create dictionary to store info: key is parameter name, value is sorted array of unique values for that parameter\n",
    "data_types_PF = {}\n",
    "\n",
    "#get parameter names\n",
    "param_EMA_PF = data_EMA_PF.columns.values\n",
    "\n",
    "#populate dictionary\n",
    "for param in param_EMA_PF:\n",
    "    try:\n",
    "        data_types_PF[param] = np.sort(data_EMA_PF[param].unique())\n",
    "    except:\n",
    "        data_types_PF[param] = data_EMA_PF[param].unique()\n",
    "\n",
    "#convert dictionary into data frame (have to orient by index first because of unequal lengths)\n",
    "data_types_PF_df = pd.DataFrame.from_dict(data_types_PF, orient='index').T"
   ]
  },
  {
   "cell_type": "code",
   "execution_count": null,
   "metadata": {},
   "outputs": [],
   "source": [
    "#generate dic of how many surveys each participant completed\n",
    "reponse_by_id = {}\n",
    "reponse_by_id['demog'] = data_demog_prepost.groupby('ID')['date_time'].count()\n",
    "reponse_by_id['MOSAIC'] = data_EMA_MOSAIC.groupby('uid')['timestamp'].count()\n",
    "reponse_by_id['PF'] = data_EMA_PF.groupby('id')['timestamp'].count()\n",
    "\n",
    "#put into data frame\n",
    "reponse_by_id_df = pd.DataFrame.from_dict(reponse_by_id)"
   ]
  },
  {
   "cell_type": "code",
   "execution_count": null,
   "metadata": {
    "scrolled": true
   },
   "outputs": [],
   "source": [
    "#save data frames as csvs to share with group memebers\n",
    "reponse_by_id_df.to_csv('response_by_id.csv')\n",
    "data_types_demog_prepost_df.to_csv('data_types_demog_prepost_df.csv')\n",
    "data_types_MOSAIC_df.to_csv('data_types_MOSAIC_df.csv')\n",
    "data_types_PF_df.to_csv('data_types_PF_df.csv')"
   ]
  },
  {
   "cell_type": "code",
   "execution_count": null,
   "metadata": {},
   "outputs": [],
   "source": [
    "#feedback and address #1: there should not be nan's in the data_EMA_PF pf1-13 columns\n",
    "#extract entries meeting this criteria for further inspection of original data entry\n",
    "#save only rows with na values as new dataframe\n",
    "data_EMA_PF_nan = data_EMA_PF[data_EMA_PF.isnull().any(axis = 1)]\n",
    "data_EMA_PF_nan = data_EMA_PF_nan.loc[:, 'id':'pf13']\n",
    "#we want to be able to see how many 'nan' there are so lets replace with 'NaN' so this keeps when we sort later on\n",
    "data_EMA_PF_nan = data_EMA_PF_nan.replace(np.nan, 'NAN')\n",
    "data_EMA_PF_nan.to_csv('data_EMA_PF_nan.csv')"
   ]
  }
 ],
 "metadata": {
  "kernelspec": {
   "display_name": "Python 3",
   "language": "python",
   "name": "python3"
  },
  "language_info": {
   "codemirror_mode": {
    "name": "ipython",
    "version": 3
   },
   "file_extension": ".py",
   "mimetype": "text/x-python",
   "name": "python",
   "nbconvert_exporter": "python",
   "pygments_lexer": "ipython3",
   "version": "3.6.7"
  }
 },
 "nbformat": 4,
 "nbformat_minor": 2
}
