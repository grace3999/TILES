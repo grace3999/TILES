{
 "cells": [
  {
   "cell_type": "markdown",
   "metadata": {},
   "source": [
    "Careless responder feature engineering and analysis (inital focus on psych_flex survey only)"
   ]
  },
  {
   "cell_type": "code",
   "execution_count": null,
   "metadata": {},
   "outputs": [],
   "source": [
    "#getting and working with data\n",
    "import pandas as pd\n",
    "import numpy as np\n",
    "import re\n",
    "import os\n",
    "from itertools import groupby\n",
    "import datetime as dt\n",
    "from numpy import median\n",
    "\n",
    "#visualizing results\n",
    "%matplotlib inline\n",
    "import seaborn as sns\n",
    "import matplotlib.pyplot as plt\n",
    "#import yellowbrick as yb\n",
    "\n",
    "pd.set_option('display.max_rows', 500)\n",
    "pd.set_option('display.max_columns', 500)\n",
    "pd.set_option('display.width', 1000)\n",
    "\n",
    "import warnings; warnings.simplefilter('ignore')\n",
    "np.set_printoptions(suppress=True)"
   ]
  },
  {
   "cell_type": "code",
   "execution_count": null,
   "metadata": {},
   "outputs": [],
   "source": [
    "data_path = 'C:/Users/Schindler/Documents/Schindler_Lab/Data/Clinical projects/TILES/final_data/data_final_combined.pkl'"
   ]
  },
  {
   "cell_type": "code",
   "execution_count": null,
   "metadata": {},
   "outputs": [],
   "source": [
    "#read in csv containing participant info\n",
    "data = pd.read_pickle(data_path)\n",
    "data = pd.DataFrame(data = data)\n",
    "#data_PF.reset_index(inplace=True)\n",
    "\n",
    "print('Original data shape:\\n', data.shape, '\\n')\n",
    "#ensure no replicate ID (212 participants in study)\n",
    "print('Original data unique IDs:\\n', data['ParticipantID'].unique().shape, '\\n')\n",
    "#ensure no replicate ID (212 participants in study)\n",
    "print('Original data unique IDs:\\n', data['MitreID'].unique().shape, '\\n')\n",
    "#how much missing data is there?\n",
    "print('Original data missing value counts:\\n', data.isnull().sum(), '\\n')\n",
    "#what is the data type of each column?\n",
    "print('Original data data types:\\n', data.info(), '\\n')"
   ]
  },
  {
   "cell_type": "code",
   "execution_count": null,
   "metadata": {},
   "outputs": [],
   "source": [
    "#explore unique values for each column - look for where they need to be updated/cleaned etc\n",
    "final_cols = data.columns\n",
    "for col in final_cols:\n",
    "    print(col)\n",
    "    print(data[col].unique())\n",
    "    print('\\n')"
   ]
  },
  {
   "cell_type": "code",
   "execution_count": null,
   "metadata": {},
   "outputs": [],
   "source": [
    "#remove pilot participants ('0adb7679-9d26-46e7-a134-11da293910f3', '803be457-cee4-4f3f-9540-ff574c57c697',\n",
    "# '9519432e-bf05-4f6c-80d7-f61e930f14ba', 'c7acafcf-f5dd-411e-b90c-988279852fb8', 'fae38580-1e2d-4491-9de5-7b75703ba4ce')\n",
    "\n",
    "data_no_pilot = data[(data['ParticipantID'] != '0adb7679-9d26-46e7-a134-11da293910f3') \n",
    "                     & (data['ParticipantID'] != '803be457-cee4-4f3f-9540-ff574c57c697') \n",
    "                     & (data['ParticipantID'] != '9519432e-bf05-4f6c-80d7-f61e930f14ba') \n",
    "                     & (data['ParticipantID'] != 'c7acafcf-f5dd-411e-b90c-988279852fb8') \n",
    "                     & (data['ParticipantID'] != 'fae38580-1e2d-4491-9de5-7b75703ba4ce')]\n"
   ]
  },
  {
   "cell_type": "code",
   "execution_count": null,
   "metadata": {},
   "outputs": [],
   "source": [
    "#make new column corresponding to the number in series of survey sent for each participant for each survey type\n",
    "#for psych_flex and engage_psycap this will be count of total surveys sent to each participant\n",
    "#for MGT surveys this will be a count of the surveys completed for each participant\n",
    "\n",
    "data_no_pilot = data_no_pilot.sort_values(by=['MitreID', 'survey_type', 'wave_study_day'])\n",
    "\n",
    "part_id = data_no_pilot['MitreID'].unique()\n",
    "survey_types = data_no_pilot['survey_type'].unique()\n",
    "\n",
    "for participant in part_id:\n",
    "    for survey in survey_types:\n",
    "        surveys = data_no_pilot[(data_no_pilot['MitreID'] == participant) & (data_no_pilot['survey_type'] == survey)]\n",
    "        data_no_pilot.loc[(data_no_pilot['MitreID'] == participant) & (data_no_pilot['survey_type'] == survey), 'survey_count'] = np.arange(surveys.shape[0])"
   ]
  },
  {
   "cell_type": "code",
   "execution_count": null,
   "metadata": {},
   "outputs": [],
   "source": [
    "#remove extra surveys\n",
    "#for psych_flex anything over 49 (eg 50 surveys)\n",
    "#for engage_psycap anything over 19 (eg 20 surveys)\n",
    "\n",
    "data = data_no_pilot[((data_no_pilot['survey_type'] == 'engage_psycap') & (data_no_pilot['survey_count'] < 20)) \n",
    "                              | ((data_no_pilot['survey_type'] == 'psych_flex') & (data_no_pilot['survey_count'] < 50)) \n",
    "                              | ((data_no_pilot['survey_type'] == 'job') & (data_no_pilot['survey_count'] < 30)) \n",
    "                              | ((data_no_pilot['survey_type'] == 'health') & (data_no_pilot['survey_count'] < 40)) \n",
    "                              | ((data_no_pilot['survey_type'] == 'personality') & (data_no_pilot['survey_count'] < 10))]\n"
   ]
  },
  {
   "cell_type": "code",
   "execution_count": null,
   "metadata": {},
   "outputs": [],
   "source": [
    "data['survey_type'].value_counts()"
   ]
  },
  {
   "cell_type": "code",
   "execution_count": null,
   "metadata": {},
   "outputs": [],
   "source": [
    "#should be 71\n",
    "len(data['wave_study_day'].unique())"
   ]
  },
  {
   "cell_type": "code",
   "execution_count": null,
   "metadata": {},
   "outputs": [],
   "source": [
    "#fix numeric data columns\n",
    "data['activity_num'] = pd.to_numeric(data['activity_num'])\n",
    "data['location_num'] = pd.to_numeric(data['location_num'])\n",
    "\n",
    "data['pf_mgt'] = pd.to_numeric(data['pf_mgt'])\n",
    "\n",
    "data['context1'] = pd.to_numeric(data['context1'])\n",
    "data['context2'] = pd.to_numeric(data['context2'])\n",
    "data['context3'] = pd.to_numeric(data['context3'])\n",
    "data['context4'] = pd.to_numeric(data['context4'])\n",
    "data['stress'] = pd.to_numeric(data['stress'])\n",
    "data['anxiety'] = pd.to_numeric(data['anxiety'])\n",
    "data['work'] = pd.to_numeric(data['work'])"
   ]
  },
  {
   "cell_type": "code",
   "execution_count": null,
   "metadata": {},
   "outputs": [],
   "source": [
    "#create day of week column using dt and wave_study_date\n",
    "data['day_of_week'] = data['wave_study_date'].dt.day_name()\n",
    "data['day_of_week'] = pd.Categorical(data['day_of_week'], categories=\n",
    "    ['Monday','Tuesday','Wednesday','Thursday','Friday','Saturday', 'Sunday'],\n",
    "    ordered=True)"
   ]
  },
  {
   "cell_type": "code",
   "execution_count": null,
   "metadata": {
    "scrolled": true
   },
   "outputs": [],
   "source": [
    "#create new column corresponding to if they are working or not (as assessed by 'activity_num' == 0 in psych_flex and engage or \n",
    "# activity_num == 1 for MGT surveys)\n",
    "\n",
    "working = []\n",
    "yes = 1.0\n",
    "no = 0.0\n",
    "for index, row in data.iterrows():\n",
    "    \n",
    "    if (row['survey_type'] == 'psych_flex') | (row['survey_type'] == 'engage_psycap'):\n",
    "        \n",
    "        if row['activity_num'] == 0.0:\n",
    "            working.append(1.0)\n",
    "            \n",
    "        elif row['activity_num'] == -1.0:\n",
    "            working.append(0.0)\n",
    "            \n",
    "        elif row['activity_num'] > 0.0:\n",
    "            working.append(0.0)\n",
    "        \n",
    "        else:\n",
    "            working.append(np.nan)\n",
    "            \n",
    "    elif (row['survey_type'] == 'job') | (row['survey_type'] == 'health') | (row['survey_type'] == 'personality'): \n",
    "        \n",
    "        if row['activity_num'] == 1.0:\n",
    "            working.append(1.0)\n",
    "            \n",
    "        elif row['activity_num'] > 1.0:\n",
    "            working.append(0.0)\n",
    "            \n",
    "        else:\n",
    "            working.append(np.nan)\n",
    "    \n",
    "    else:\n",
    "        working.append(np.nan)\n",
    "        \n",
    "print(len(working))\n",
    "data['working'] = working"
   ]
  },
  {
   "cell_type": "code",
   "execution_count": null,
   "metadata": {
    "scrolled": true
   },
   "outputs": [],
   "source": [
    "#create new column corresponding to if they are at work or not (as assessed by 'location_num' == 1 in engage or \n",
    "#location_num == 2 in MGT surveys; psych_flex did not ask about location)\n",
    "\n",
    "at_work = []\n",
    "yes = 1.0\n",
    "no = 0.0\n",
    "for index, row in data.iterrows():\n",
    "    \n",
    "    if (row['survey_type'] == 'engage_psycap'):\n",
    "        \n",
    "        if row['location_num'] == 1.0:\n",
    "            at_work.append(1.0)\n",
    "            \n",
    "        elif row['location_num'] < 1.0:\n",
    "            at_work.append(0.0)\n",
    "            \n",
    "        elif row['location_num'] > 1.0:\n",
    "            at_work.append(0.0)\n",
    "        \n",
    "        else:\n",
    "            at_work.append(np.nan)\n",
    "            \n",
    "    elif (row['survey_type'] == 'job') | (row['survey_type'] == 'health') | (row['survey_type'] == 'personality'): \n",
    "        \n",
    "        if row['location_num'] == 2.0:\n",
    "            at_work.append(1.0)\n",
    "            \n",
    "        elif row['location_num'] > 2.0:\n",
    "            at_work.append(0.0)\n",
    "        elif row['location_num'] < 2.0:\n",
    "            at_work.append(0.0)\n",
    "            \n",
    "        else:\n",
    "            at_work.append(np.nan)\n",
    "    \n",
    "    else:\n",
    "        at_work.append(np.nan)\n",
    "        \n",
    "print(len(at_work))\n",
    "data['at_work'] = at_work"
   ]
  },
  {
   "cell_type": "markdown",
   "metadata": {},
   "source": [
    "### notes for CR features for Psych Flex\n",
    "\n",
    "Should have answered every question\n",
    "\n",
    "Longstring\n",
    "- Legitimate longstrings of  ≥ 8 are unlikely for response “5”\n",
    "    - make column with longest string\n",
    "    - make column with number that longest string consisted of\n",
    "\n",
    "Semantic consistency\n",
    "- Legitimate scores of pf_mgt=5 are almost impossible\n",
    "\n",
    "Semantic antonyms\n",
    "- Not applicable\n",
    "\n",
    "Semantic synonyms \n",
    "- not applicable \n"
   ]
  },
  {
   "cell_type": "code",
   "execution_count": null,
   "metadata": {},
   "outputs": [],
   "source": [
    "#split off completed PF and related columns\n",
    "psych_flex_only = data[(data['survey_type'] == 'psych_flex') & (data['completed'] == 1.0)]\n",
    "psych_flex_only = psych_flex_only[['index', 'MitreID', 'ParticipantID', 'PrimaryUnit', 'SmartPhone',\n",
    "       'Sex', 'Shift', 'Wave', 'survey_id', 'survey_type', 'date_time',\n",
    "       'date', 'time', 'Timesent', 'completed', 'start_delay',\n",
    "       'time_to_complete', 'activity_num', 'location_num',\n",
    "       'activity', 'pf_03', 'pf_04', 'pf_05', 'pf_06',\n",
    "       'pf_07', 'pf_08', 'pf_09', 'pf_10', 'pf_11', 'pf_12', 'pf_13',\n",
    "       'pf_14', 'pf_15', 'pf_mgt', 'exp_0', 'exp_1', 'exp_2', 'exp_3',\n",
    "       'exp_4', 'exp_5', 'exp_6', 'exp_7', 'exp_8', 'exp_9', 'exp_10',\n",
    "       'exp_11', 'exp_12', 'exp_13', 'exp_neg', 'exp_pos', 'exp_neut',\n",
    "       'wave_study_date', 'wave_study_day',\n",
    "       'survey_count', 'day_of_week', 'working', 'at_work', 'pf_mgt_bin']]\n",
    "\n",
    "psych_flex_only.shape"
   ]
  },
  {
   "cell_type": "code",
   "execution_count": null,
   "metadata": {},
   "outputs": [],
   "source": [
    "#create feature that is count of missing values from survey\n",
    "\n",
    "psych_flex_only.loc[psych_flex_only.loc[:, 'activity':'pf_mgt'].isnull().sum(axis=1) > 0, 'missing_values'] = psych_flex_only.loc[:, 'activity':'pf_mgt'].isnull().sum(axis=1)\n",
    "psych_flex_only.loc[psych_flex_only.loc[:, 'activity':'pf_mgt'].isnull().sum(axis=1) == 0, 'missing_values'] = 0.0"
   ]
  },
  {
   "cell_type": "code",
   "execution_count": null,
   "metadata": {},
   "outputs": [],
   "source": [
    "#create feature that is number of surveys that were not completed\n",
    "\n",
    "part_id = psych_flex_only['ParticipantID'].unique()\n",
    "\n",
    "for participant in part_id:\n",
    "    missing = 49 - psych_flex_only[psych_flex_only['ParticipantID'] == participant]['survey_count'].max()\n",
    "    psych_flex_only.loc[(psych_flex_only['ParticipantID'] == participant), 'uncompleted'] = missing"
   ]
  },
  {
   "cell_type": "code",
   "execution_count": null,
   "metadata": {},
   "outputs": [],
   "source": [
    "#long string analysis (e.g. max length of same number answered for pf_03:pf_15)\n",
    "#create features related to long string analysis (feature of how long the string is and feature of what the string consisted of)\n",
    "\n",
    "max_strings = []\n",
    "max_nums = []\n",
    "\n",
    "for index, row in psych_flex_only.iterrows():\n",
    "    repeats = []\n",
    "    for k, g in groupby(row.loc['pf_03':'pf_15']):\n",
    "        repeats.append(sum(1 for i in g))\n",
    "    max_string = max(repeats)\n",
    "    \n",
    "    max_index = repeats.index(max_string)\n",
    "    max_num = row.loc['pf_03':'pf_15'][max_index]\n",
    "    \n",
    "    max_strings.append(max_string)\n",
    "    \n",
    "    max_nums.append(max_num)\n",
    "\n",
    "psych_flex_only['longest_string'] = max_strings\n",
    "psych_flex_only['longest_string_answer'] = max_nums"
   ]
  },
  {
   "cell_type": "code",
   "execution_count": null,
   "metadata": {},
   "outputs": [],
   "source": [
    "#create CR summary feature (count of positive CR parameters)\n",
    "\n",
    "counts = []\n",
    "\n",
    "for index, row in psych_flex_only.iterrows():\n",
    "    count = 0\n",
    "    if row['missing_values'] > 0:\n",
    "        count += 1\n",
    "    #if row['uncompleted'] > 0:\n",
    "        #count += 1\n",
    "    if row['longest_string'] > 7:\n",
    "        count += 1\n",
    "    \n",
    "    counts.append(count)\n",
    "\n",
    "psych_flex_only['CR_count'] = counts"
   ]
  },
  {
   "cell_type": "code",
   "execution_count": null,
   "metadata": {},
   "outputs": [],
   "source": [
    "#save to csv\n",
    "psych_flex_only.to_csv('psych_flex_only_CR.csv')"
   ]
  },
  {
   "cell_type": "code",
   "execution_count": null,
   "metadata": {},
   "outputs": [],
   "source": [
    "psych_flex_only['CR_count'].value_counts()"
   ]
  },
  {
   "cell_type": "code",
   "execution_count": null,
   "metadata": {},
   "outputs": [],
   "source": [
    "psych_flex_only.columns.values"
   ]
  },
  {
   "cell_type": "code",
   "execution_count": null,
   "metadata": {},
   "outputs": [],
   "source": [
    "ind_vars = ['time_to_complete', 'pf_mgt', 'missing_values', 'uncompleted',\n",
    "       'longest_string_answer', 'longest_string', 'CR_count']\n",
    "psych_flex_only[ind_vars].corr()"
   ]
  },
  {
   "cell_type": "code",
   "execution_count": null,
   "metadata": {},
   "outputs": [],
   "source": [
    "plt.figure(figsize=(25, 10))\n",
    "sns.catplot(x=\"longest_string\", y=\"time_to_complete\", data=psych_flex_only, kind=\"bar\")"
   ]
  },
  {
   "cell_type": "code",
   "execution_count": null,
   "metadata": {},
   "outputs": [],
   "source": [
    "plt.figure(figsize=(25, 10))\n",
    "sns.catplot(x=\"longest_string\", y=\"pf_mgt\", data=psych_flex_only, kind=\"bar\")"
   ]
  },
  {
   "cell_type": "code",
   "execution_count": null,
   "metadata": {},
   "outputs": [],
   "source": [
    "plt.figure(figsize=(25, 10))\n",
    "sns.catplot(x=\"wave_study_day\", y=\"longest_string\", data=psych_flex_only, col='Shift', kind=\"bar\")"
   ]
  },
  {
   "cell_type": "code",
   "execution_count": null,
   "metadata": {},
   "outputs": [],
   "source": [
    "g = sns.FacetGrid(psych_flex_only, col=\"survey_count\", col_wrap=7, height=7)\n",
    "g.map(sns.barplot, 'ParticipantID', \"longest_string\")"
   ]
  },
  {
   "cell_type": "code",
   "execution_count": null,
   "metadata": {},
   "outputs": [],
   "source": [
    "plt.figure(figsize=(25, 10))\n",
    "sns.catplot(x=\"ParticipantID\", y=\"longest_string\", data=psych_flex_only.sort_values('longest_string'), kind=\"bar\")"
   ]
  },
  {
   "cell_type": "code",
   "execution_count": null,
   "metadata": {},
   "outputs": [],
   "source": [
    "plt.figure(figsize=(25, 20))\n",
    "sns.catplot(x=\"ParticipantID\", y=\"longest_string\", data=psych_flex_only[psych_flex_only['wave_study_day'] < 15].sort_values('longest_string'), kind=\"bar\")"
   ]
  },
  {
   "cell_type": "code",
   "execution_count": null,
   "metadata": {},
   "outputs": [],
   "source": [
    "plt.figure(figsize=(25, 10))\n",
    "sns.catplot(x=\"ParticipantID\", y=\"longest_string\", data=psych_flex_only[psych_flex_only['survey_count'] < 15].sort_values('ParticipantID'), kind=\"bar\")"
   ]
  },
  {
   "cell_type": "code",
   "execution_count": null,
   "metadata": {},
   "outputs": [],
   "source": [
    "plt.figure(figsize=(25, 10))\n",
    "sns.catplot(x=\"ParticipantID\", y=\"longest_string\", data=psych_flex_only[psych_flex_only['survey_count'] > 40].sort_values('ParticipantID'), kind=\"bar\")"
   ]
  },
  {
   "cell_type": "code",
   "execution_count": null,
   "metadata": {},
   "outputs": [],
   "source": [
    "plt.figure(figsize=(25, 10))\n",
    "sns.catplot(x=\"CR_count\", y=\"time_to_complete\", data=psych_flex_only, kind=\"bar\")"
   ]
  },
  {
   "cell_type": "markdown",
   "metadata": {},
   "source": [
    "### notes for CR features for MGT survey context 1-4 questions\n",
    "\n",
    "-\tcontext1 = “location”on engage_psycap but context1/location not available for psych_flex\n",
    "-\tcontext2 = “activity” on psych_flex and “engage_activity” on engage_psycap\n",
    "-\tcontext3 and context4 not available for psych_flex or engage_psycap\n",
    "-\tplease change variable names to be consistent across surveys: activity, location\n",
    "-\tplease change response labels to be consistent across surveys: begin with “1” \n",
    "\n",
    "\n",
    "Longstring analyses\n",
    "-\tnot applicable \n",
    "\n",
    "\n",
    "Semantic Antonyms\n",
    "- if context1 = home (1), then context2 ≠ work and work related (1)\n",
    "- if context1 = work (2), then context2 ≠ leisure sports (3), household activities (6), org/civic (10)\n",
    "\n",
    "\n",
    "Semantic Synonyms\n",
    "- if context1 = work (2), then context2 most likely work and work related (1)\n",
    "- If context1 = vehicle (5), then context2 most likely travel or commute (11)\n"
   ]
  }
 ],
 "metadata": {
  "kernelspec": {
   "display_name": "Python 3",
   "language": "python",
   "name": "python3"
  },
  "language_info": {
   "codemirror_mode": {
    "name": "ipython",
    "version": 3
   },
   "file_extension": ".py",
   "mimetype": "text/x-python",
   "name": "python",
   "nbconvert_exporter": "python",
   "pygments_lexer": "ipython3",
   "version": "3.6.7"
  }
 },
 "nbformat": 4,
 "nbformat_minor": 2
}
