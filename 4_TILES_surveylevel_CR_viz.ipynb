{
 "cells": [
  {
   "cell_type": "markdown",
   "metadata": {},
   "source": [
    "Careless responder feature viz and exploration"
   ]
  },
  {
   "cell_type": "code",
   "execution_count": null,
   "metadata": {},
   "outputs": [],
   "source": [
    "#getting and working with data\n",
    "import pandas as pd\n",
    "import numpy as np\n",
    "import re\n",
    "import os\n",
    "from itertools import groupby\n",
    "import datetime as dt\n",
    "import scipy as sp\n",
    "import math\n",
    "\n",
    "#visualizing results\n",
    "%matplotlib inline\n",
    "import seaborn as sns\n",
    "import matplotlib.pyplot as plt\n",
    "#import yellowbrick as yb\n",
    "\n",
    "pd.set_option('display.max_rows', 500)\n",
    "pd.set_option('display.max_columns', 500)\n",
    "pd.set_option('display.width', 1000)\n",
    "\n",
    "import warnings; warnings.simplefilter('ignore')\n",
    "np.set_printoptions(suppress=True)\n",
    "\n",
    "from sklearn.preprocessing import StandardScaler\n",
    "from sklearn.cluster import KMeans\n",
    "from sklearn.metrics.cluster import silhouette_score"
   ]
  },
  {
   "cell_type": "code",
   "execution_count": null,
   "metadata": {},
   "outputs": [],
   "source": [
    "data_path = 'C:/Users/Schindler/Documents/Schindler_Lab/Data/Clinical projects/TILES/final_data/surveys_CR.pkl'"
   ]
  },
  {
   "cell_type": "code",
   "execution_count": null,
   "metadata": {},
   "outputs": [],
   "source": [
    "#read in csv containing data from all surveys\n",
    "full_data = pd.read_pickle(data_path)\n",
    "full_data = pd.DataFrame(data = full_data)\n",
    "full_data.reset_index(inplace=True, drop=True)\n",
    "\n",
    "print('Original data shape:\\n', full_data.shape, '\\n')\n",
    "#ensure no replicate ID (212 participants in study)\n",
    "print('Original data unique IDs:\\n', full_data['ParticipantID'].unique().shape, '\\n')\n",
    "#ensure no replicate ID (212 participants in study)\n",
    "print('Original data unique IDs:\\n', full_data['MitreID'].unique().shape, '\\n')\n",
    "#how much missing data is there?\n",
    "print('Original data missing value counts:\\n', full_data.isnull().sum(), '\\n')\n",
    "#what is the data type of each column?\n",
    "print('Original data data types:\\n', full_data.info(), '\\n')"
   ]
  },
  {
   "cell_type": "code",
   "execution_count": null,
   "metadata": {},
   "outputs": [],
   "source": [
    "full_data['survey_type'].value_counts()"
   ]
  },
  {
   "cell_type": "code",
   "execution_count": null,
   "metadata": {},
   "outputs": [],
   "source": [
    "#should be 71\n",
    "len(full_data['wave_study_day'].unique())"
   ]
  },
  {
   "cell_type": "code",
   "execution_count": null,
   "metadata": {},
   "outputs": [],
   "source": [
    "full_data.head(1)"
   ]
  },
  {
   "cell_type": "markdown",
   "metadata": {},
   "source": [
    "### explore CR across survey types"
   ]
  },
  {
   "cell_type": "code",
   "execution_count": null,
   "metadata": {},
   "outputs": [],
   "source": [
    "full_data['survey_type'].value_counts()"
   ]
  },
  {
   "cell_type": "code",
   "execution_count": null,
   "metadata": {},
   "outputs": [],
   "source": [
    "CR_features = ['context_homevsworking',\n",
    "       'context_workvsactivities', 'context_workvswork',\n",
    "       'context_drivevsdrive', 'mean_diff_hinderance_vs_support',\n",
    "       'longstring_count_engage', 'longstring_answer_engage',\n",
    "       'longstring_count_norm_engage', 'longstring_mult_engage',\n",
    "       'ls_auc_engage', 'ls_std_engage', 'ls_skew_engage',\n",
    "       'ls_kurt_engage', 'ls_auc_seeded_engage', 'ls_std_seeded_engage',\n",
    "       'ls_skew_seeded_engage', 'ls_kurt_seeded_engage', 'mean_diff_ave',\n",
    "       'longstring_count_norm_ave', 'longstring_count_pf',\n",
    "       'longstring_answer_pf', 'longstring_count_norm_pf',\n",
    "       'longstring_mult_pf', 'ls_auc_pf', 'ls_std_pf', 'ls_skew_pf',\n",
    "       'ls_kurt_pf', 'ls_auc_seeded_pf', 'ls_std_seeded_pf',\n",
    "       'ls_skew_seeded_pf', 'ls_kurt_seeded_pf',\n",
    "       'mean_diff_affect_posneg', 'mean_diff_nervous_anxiety',\n",
    "       'mean_diff_irb_irb', 'mean_diff_dalal_posneg',\n",
    "       'longstring_count_affect', 'longstring_answer_affect',\n",
    "       'longstring_count_norm_affect', 'longstring_mult_affect',\n",
    "       'ls_auc_affect', 'ls_std_affect', 'ls_skew_affect',\n",
    "       'ls_kurt_affect', 'ls_auc_seeded_affect', 'ls_std_seeded_affect',\n",
    "       'ls_skew_seeded_affect', 'ls_kurt_seeded_affect',\n",
    "       'longstring_count_irbd', 'longstring_answer_irbd',\n",
    "       'longstring_count_norm_irbd', 'longstring_mult_irbd',\n",
    "       'ls_auc_irbd', 'ls_std_irbd', 'ls_skew_irbd', 'ls_kurt_irbd',\n",
    "       'ls_auc_seeded_irbd', 'ls_std_seeded_irbd', 'ls_skew_seeded_irbd',\n",
    "       'ls_kurt_seeded_irbd', 'longstring_count_dalal',\n",
    "       'longstring_answer_dalal', 'longstring_count_norm_dalal',\n",
    "       'longstring_mult_dalal', 'ls_auc_dalal', 'ls_std_dalal',\n",
    "       'ls_skew_dalal', 'ls_kurt_dalal', 'ls_auc_seeded_dalal',\n",
    "       'ls_std_seeded_dalal', 'ls_skew_seeded_dalal',\n",
    "       'ls_kurt_seeded_dalal', 'intake_check_alc',\n",
    "       'intake_check_nic', 'mean_diff_extraversion',\n",
    "       'mean_diff_agreeableness', 'mean_diff_conscientiousness',\n",
    "       'mean_diff_neuroticism', 'mean_diff_openness',\n",
    "       'longstring_count_personality', 'longstring_answer_personality',\n",
    "       'longstring_count_norm_personality', 'longstring_mult_personality',\n",
    "       'ls_auc_personality', 'ls_std_personality', 'ls_skew_personality',\n",
    "       'ls_kurt_personality', 'ls_auc_seeded_personality',\n",
    "       'ls_std_seeded_personality', 'ls_skew_seeded_personality',\n",
    "       'ls_kurt_seeded_personality', 'time_to_complete']"
   ]
  },
  {
   "cell_type": "code",
   "execution_count": null,
   "metadata": {},
   "outputs": [],
   "source": [
    "diff_cols = ['mean_diff_hinderance_vs_support', 'mean_diff_affect_posneg',\n",
    "       'mean_diff_nervous_anxiety', 'mean_diff_irb_irb',\n",
    "       'mean_diff_dalal_posneg', 'mean_diff_extraversion', 'mean_diff_agreeableness', \n",
    "        'mean_diff_conscientiousness', 'mean_diff_neuroticism', 'mean_diff_openness']\n",
    "\n",
    "longstring_norm_cols = ['longstring_count_norm_engage', \n",
    "                        'longstring_count_norm_ave', \n",
    "                        'longstring_count_norm_pf',\n",
    "                        'longstring_count_norm_affect', \n",
    "                        'longstring_count_norm_irbd',\n",
    "                        'longstring_count_norm_dalal',\n",
    "                        'longstring_count_norm_personality']\n"
   ]
  },
  {
   "cell_type": "code",
   "execution_count": null,
   "metadata": {
    "scrolled": true
   },
   "outputs": [],
   "source": [
    "shared_cols = ['context_homevsworking', 'context_workvsactivities', 'context_workvswork', 'context_drivevsdrive', \n",
    "               'mean_diff_ave', 'mean_diff_affect_posneg', 'mean_diff_nervous_anxiety',\n",
    "               'longstring_count_norm_ave', 'longstring_count_norm_affect', 'longstring_count_norm_ave',\n",
    "               'ls_auc_affect', 'ls_std_affect', 'ls_skew_affect', 'ls_kurt_affect', \n",
    "               'ls_auc_seeded_affect', 'ls_std_seeded_affect', 'ls_skew_seeded_affect', 'ls_kurt_seeded_affect']\n",
    "\n",
    "i=1\n",
    "plt.figure(figsize=(50,30))\n",
    "grid_size = math.ceil(np.sqrt(len(shared_cols)))\n",
    "for feature in shared_cols:\n",
    "    plt.subplot(grid_size, grid_size, i)\n",
    "    sns.barplot(x='survey_type', y=feature, data=full_data)\n",
    "    i = i + 1"
   ]
  },
  {
   "cell_type": "code",
   "execution_count": null,
   "metadata": {},
   "outputs": [],
   "source": [
    "#create new df with normalized mean_diff values\n",
    "survey_CR_normdiff = pd.melt(full_data, id_vars=['survey_type', 'wave_study_date_bin'],  value_vars=['mean_diff_hinderance_vs_support', 'mean_diff_affect_posneg',\n",
    "       'mean_diff_nervous_anxiety', 'mean_diff_irb_irb',\n",
    "       'mean_diff_dalal_posneg', 'mean_diff_extraversion', 'mean_diff_agreeableness', \n",
    "        'mean_diff_conscientiousness', 'mean_diff_neuroticism', 'mean_diff_openness'])\n",
    "survey_CR_normdiff.head()"
   ]
  },
  {
   "cell_type": "code",
   "execution_count": null,
   "metadata": {},
   "outputs": [],
   "source": [
    "sns.catplot(x=\"wave_study_date_bin\", y=\"value\", hue='variable', data=survey_CR_normdiff, kind='bar', height=10, col='survey_type')"
   ]
  },
  {
   "cell_type": "code",
   "execution_count": null,
   "metadata": {},
   "outputs": [],
   "source": [
    "#create new df with normalized longstring values\n",
    "survey_CR_normls = pd.melt(full_data, id_vars=['survey_type', 'wave_study_date_bin'],  value_vars=['longstring_count_norm_engage', \n",
    "                        'longstring_count_norm_ave', \n",
    "                        'longstring_count_norm_pf',\n",
    "                        'longstring_count_norm_affect', \n",
    "                        'longstring_count_norm_irbd',\n",
    "                        'longstring_count_norm_dalal',\n",
    "                        'longstring_count_norm_personality'])\n",
    "survey_CR_normls.head()\n"
   ]
  },
  {
   "cell_type": "code",
   "execution_count": null,
   "metadata": {
    "scrolled": true
   },
   "outputs": [],
   "source": [
    "plt.figure(figsize=(30,30))\n",
    "sns.catplot(x=\"wave_study_date_bin\", y=\"value\", hue='variable', data=survey_CR_normls, kind='bar', height=7, col='survey_type')"
   ]
  },
  {
   "cell_type": "code",
   "execution_count": null,
   "metadata": {
    "scrolled": true
   },
   "outputs": [],
   "source": [
    "participants = full_data['MitreID'].unique()\n",
    "\n",
    "for part in participants:\n",
    "    data_part = full_data[full_data['MitreID'] == part]\n",
    "    sns.catplot(x='wave_study_date_bin', y='longstring_count_norm_ave', data=data_part, ci=None, col='survey_type', kind='bar')\n",
    "    plt.show()"
   ]
  },
  {
   "cell_type": "code",
   "execution_count": null,
   "metadata": {
    "scrolled": true
   },
   "outputs": [],
   "source": [
    "participants = full_data['MitreID'].unique()\n",
    "\n",
    "for part in participants:\n",
    "    data_part = full_data[full_data['MitreID'] == part]\n",
    "    sns.catplot(x='wave_study_day', y='mean_diff_ave', data=data_part, ci=None, col='survey_type', kind='bar')\n",
    "    plt.show()"
   ]
  },
  {
   "cell_type": "code",
   "execution_count": null,
   "metadata": {
    "scrolled": true
   },
   "outputs": [],
   "source": [
    "sns.catplot(x='MitreID', y='mean_diff_ave', data=full_data, col='wave_study_date_bin', kind='bar', col_wrap=2, height=10, ci=None)"
   ]
  },
  {
   "cell_type": "code",
   "execution_count": null,
   "metadata": {
    "scrolled": true
   },
   "outputs": [],
   "source": [
    "sns.catplot(x='MitreID', y='longstring_count_norm_ave', data=full_data, col='wave_study_date_bin', kind='bar', col_wrap=2, height=10, ci=None)"
   ]
  },
  {
   "cell_type": "code",
   "execution_count": null,
   "metadata": {
    "scrolled": true
   },
   "outputs": [],
   "source": [
    "plt.figure(figsize=(20,10))\n",
    "sns.lineplot(x='wave_study_day', y='mean_diff_affect_posneg', data=full_data, hue='survey_type', ci=None)"
   ]
  },
  {
   "cell_type": "code",
   "execution_count": null,
   "metadata": {
    "scrolled": true
   },
   "outputs": [],
   "source": [
    "plt.figure(figsize=(20,10))\n",
    "sns.lineplot(x='wave_study_day', y='mean_diff_nervous_anxiety', data=full_data, hue='survey_type', ci=None)"
   ]
  },
  {
   "cell_type": "code",
   "execution_count": null,
   "metadata": {
    "scrolled": true
   },
   "outputs": [],
   "source": [
    "plt.figure(figsize=(20,10))\n",
    "sns.lineplot(x='wave_study_day', y='longstring_count_norm_affect', data=full_data, hue='survey_type', ci=None)"
   ]
  },
  {
   "cell_type": "code",
   "execution_count": null,
   "metadata": {},
   "outputs": [],
   "source": [
    "full_data.head()"
   ]
  },
  {
   "cell_type": "code",
   "execution_count": null,
   "metadata": {
    "scrolled": true
   },
   "outputs": [],
   "source": [
    "engage_CRs = ['mean_diff_hinderance_vs_support', 'time_to_complete',\n",
    "       'longstring_count_engage', 'longstring_answer_engage',\n",
    "       'longstring_count_norm_engage', 'longstring_mult_engage',\n",
    "       'ls_auc_engage', 'ls_std_engage', 'ls_skew_engage',\n",
    "       'ls_kurt_engage', 'ls_auc_seeded_engage', 'ls_std_seeded_engage',\n",
    "       'ls_skew_seeded_engage', 'ls_kurt_seeded_engage', 'context_homevsworking',\n",
    "       'context_workvsactivities', 'context_workvswork',\n",
    "       'context_drivevsdrive']\n",
    "\n",
    "psych_flex_CRs = ['longstring_count_pf',\n",
    "       'longstring_answer_pf', 'longstring_count_norm_pf',\n",
    "       'longstring_mult_pf', 'ls_auc_pf', 'ls_std_pf', 'ls_skew_pf',\n",
    "       'ls_kurt_pf', 'ls_auc_seeded_pf', 'ls_std_seeded_pf',\n",
    "       'ls_skew_seeded_pf', 'ls_kurt_seeded_pf', 'time_to_complete']\n",
    "\n",
    "jobsatwork_CRs = ['mean_diff_ave',\n",
    "       'mean_diff_affect_posneg', 'mean_diff_nervous_anxiety',\n",
    "       'mean_diff_irb_irb', 'mean_diff_dalal_posneg', \n",
    "                  'longstring_count_norm_ave', 'longstring_count_norm_affect', 'longstring_count_norm_irbd', 'longstring_count_norm_dalal',\n",
    "                  'time_to_complete',\n",
    "       'longstring_count_affect', 'longstring_answer_affect',\n",
    "        'longstring_mult_affect',\n",
    "       'ls_auc_affect', 'ls_std_affect', 'ls_skew_affect',\n",
    "       'ls_kurt_affect', 'ls_auc_seeded_affect', 'ls_std_seeded_affect',\n",
    "       'ls_skew_seeded_affect', 'ls_kurt_seeded_affect',\n",
    "       'longstring_count_irbd', 'longstring_answer_irbd',\n",
    "       'longstring_mult_irbd',\n",
    "       'ls_auc_irbd', 'ls_std_irbd', 'ls_skew_irbd', 'ls_kurt_irbd',\n",
    "       'ls_auc_seeded_irbd', 'ls_std_seeded_irbd', 'ls_skew_seeded_irbd',\n",
    "       'ls_kurt_seeded_irbd', 'longstring_count_dalal',\n",
    "       'longstring_answer_dalal', \n",
    "       'longstring_mult_dalal', 'ls_auc_dalal', 'ls_std_dalal',\n",
    "       'ls_skew_dalal', 'ls_kurt_dalal', 'ls_auc_seeded_dalal',\n",
    "       'ls_std_seeded_dalal', 'ls_skew_seeded_dalal',\n",
    "       'ls_kurt_seeded_dalal', 'context_homevsworking',\n",
    "       'context_workvsactivities', 'context_workvswork',\n",
    "       'context_drivevsdrive']\n",
    "\n",
    "jobsnotatwork_CRs = ['mean_diff_ave',\n",
    "       'mean_diff_affect_posneg', 'mean_diff_nervous_anxiety',\n",
    "       'longstring_count_affect', 'longstring_answer_affect',\n",
    "       'longstring_count_norm_affect', 'longstring_mult_affect',\n",
    "       'ls_auc_affect', 'ls_std_affect', 'ls_skew_affect',\n",
    "       'ls_kurt_affect', 'ls_auc_seeded_affect', 'ls_std_seeded_affect',\n",
    "       'ls_skew_seeded_affect', 'ls_kurt_seeded_affect', 'time_to_complete', 'context_homevsworking',\n",
    "       'context_workvsactivities', 'context_workvswork',\n",
    "       'context_drivevsdrive']\n",
    "\n",
    "health_CRs = ['mean_diff_ave',\n",
    "       'mean_diff_affect_posneg', 'mean_diff_nervous_anxiety', 'intake_check_alc',\n",
    "       'intake_check_nic', 'time_to_complete',\n",
    "       'longstring_count_affect', 'longstring_answer_affect',\n",
    "       'longstring_count_norm_affect', 'longstring_mult_affect',\n",
    "       'ls_auc_affect', 'ls_std_affect', 'ls_skew_affect',\n",
    "       'ls_kurt_affect', 'ls_auc_seeded_affect', 'ls_std_seeded_affect',\n",
    "       'ls_skew_seeded_affect', 'ls_kurt_seeded_affect', 'context_homevsworking',\n",
    "       'context_workvsactivities', 'context_workvswork',\n",
    "       'context_drivevsdrive']\n",
    "\n",
    "personality_CRs = ['mean_diff_ave',\n",
    "       'mean_diff_affect_posneg', 'mean_diff_nervous_anxiety', 'mean_diff_extraversion',\n",
    "       'mean_diff_agreeableness', 'mean_diff_conscientiousness',\n",
    "       'mean_diff_neuroticism', 'mean_diff_openness', \n",
    "                   'longstring_count_norm_ave', 'longstring_count_norm_affect', 'longstring_count_norm_personality',\n",
    "                   'time_to_complete', \n",
    "       'longstring_count_affect', 'longstring_answer_affect',\n",
    "       'longstring_mult_affect',\n",
    "       'ls_auc_affect', 'ls_std_affect', 'ls_skew_affect',\n",
    "       'ls_kurt_affect', 'ls_auc_seeded_affect', 'ls_std_seeded_affect',\n",
    "       'ls_skew_seeded_affect', 'ls_kurt_seeded_affect', \n",
    "       'longstring_count_personality', 'longstring_answer_personality',\n",
    "        'longstring_mult_personality',\n",
    "       'ls_auc_personality', 'ls_std_personality', 'ls_skew_personality',\n",
    "       'ls_kurt_personality', 'ls_auc_seeded_personality',\n",
    "       'ls_std_seeded_personality', 'ls_skew_seeded_personality',\n",
    "       'ls_kurt_seeded_personality', 'context_homevsworking',\n",
    "       'context_workvsactivities', 'context_workvswork',\n",
    "       'context_drivevsdrive']"
   ]
  },
  {
   "cell_type": "code",
   "execution_count": null,
   "metadata": {
    "scrolled": true
   },
   "outputs": [],
   "source": [
    "engage = full_data[full_data['survey_type'] == 'engage_psycap'][engage_CRs]\n",
    "\n",
    "print(engage.isna().sum())\n",
    "\n",
    "engage_CRs_corr = engage.corr()\n",
    "engage_CRs_corr.to_csv('engage_corr.csv')\n",
    "engage_CRs_corr\n",
    "#sns.pairplot(engage, kind='reg', diag_kind=\"kde\")"
   ]
  },
  {
   "cell_type": "code",
   "execution_count": null,
   "metadata": {
    "scrolled": true
   },
   "outputs": [],
   "source": [
    "psych_flex = full_data[full_data['survey_type'] == 'psych_flex'][psych_flex_CRs]\n",
    "\n",
    "print(psych_flex.isna().sum())\n",
    "\n",
    "#sns.pairplot(psych_flex, kind='reg', diag_kind=\"kde\")\n",
    "\n",
    "pf_CRs_corr = psych_flex.corr()\n",
    "pf_CRs_corr.to_csv('pf_CRs_corr.csv')\n",
    "pf_CRs_corr"
   ]
  },
  {
   "cell_type": "code",
   "execution_count": null,
   "metadata": {
    "scrolled": true
   },
   "outputs": [],
   "source": [
    "jobs_atwork = full_data[full_data['survey_type'] == 'jobs_atwork'][jobsatwork_CRs]\n",
    "\n",
    "print(jobs_atwork.isna().sum())\n",
    "\n",
    "#sns.pairplot(jobs_atwork, kind='reg', diag_kind=\"kde\")\n",
    "\n",
    "jobs_atwork_corr = jobs_atwork.corr()\n",
    "jobs_atwork_corr.to_csv('jobs_atwork_corr.csv')\n",
    "jobs_atwork_corr"
   ]
  },
  {
   "cell_type": "code",
   "execution_count": null,
   "metadata": {
    "scrolled": true
   },
   "outputs": [],
   "source": [
    "jobs_notatwork = full_data[full_data['survey_type'] == 'jobs_notatwork'][jobsnotatwork_CRs]\n",
    "\n",
    "print(jobs_notatwork.isna().sum())\n",
    "\n",
    "#sns.pairplot(jobs_atwork, kind='reg', diag_kind=\"kde\")\n",
    "\n",
    "jobs_notatwork_corr = jobs_notatwork.corr()\n",
    "jobs_notatwork_corr.to_csv('jobs_notatwork_corr.csv')\n",
    "jobs_notatwork_corr"
   ]
  },
  {
   "cell_type": "code",
   "execution_count": null,
   "metadata": {
    "scrolled": true
   },
   "outputs": [],
   "source": [
    "health = full_data[full_data['survey_type'] == 'health'][health_CRs]\n",
    "\n",
    "print(health.isna().sum())\n",
    "\n",
    "#sns.pairplot(jobs_atwork, kind='reg', diag_kind=\"kde\")\n",
    "\n",
    "health_corr = health.corr()\n",
    "health_corr.to_csv('health_corr.csv')\n",
    "health_corr"
   ]
  },
  {
   "cell_type": "code",
   "execution_count": null,
   "metadata": {
    "scrolled": true
   },
   "outputs": [],
   "source": [
    "personality = full_data[full_data['survey_type'] == 'personality'][personality_CRs]\n",
    "\n",
    "print(personality.isna().sum())\n",
    "\n",
    "#sns.pairplot(jobs_atwork, kind='reg', diag_kind=\"kde\")\n",
    "\n",
    "personality_corr = personality.corr()\n",
    "personality_corr.to_csv('personality_corr.csv')\n",
    "personality_corr"
   ]
  },
  {
   "cell_type": "code",
   "execution_count": null,
   "metadata": {
    "scrolled": true
   },
   "outputs": [],
   "source": [
    "i=1\n",
    "plt.figure(figsize=(30,20))\n",
    "grid_size = math.ceil(np.sqrt(len(engage_CRs)))\n",
    "for feature in engage_CRs:\n",
    "    plt.subplot(grid_size, grid_size, i)\n",
    "    sns.distplot(engage[feature].dropna(axis=0))\n",
    "    i = i + 1\n"
   ]
  },
  {
   "cell_type": "code",
   "execution_count": null,
   "metadata": {
    "scrolled": true
   },
   "outputs": [],
   "source": [
    "i=1\n",
    "plt.figure(figsize=(30,20))\n",
    "grid_size = math.ceil(np.sqrt(len(psych_flex_CRs)))\n",
    "for feature in psych_CRs[1:]:\n",
    "    plt.subplot(grid_size, grid_size, i)\n",
    "    sns.distplot(psych_flex[feature].dropna())\n",
    "    i = i + 1\n"
   ]
  },
  {
   "cell_type": "code",
   "execution_count": null,
   "metadata": {
    "scrolled": true
   },
   "outputs": [],
   "source": [
    "i=1\n",
    "plt.figure(figsize=(30,30))\n",
    "grid_size = math.ceil(np.sqrt(len(jobsatwork_CRs)))\n",
    "for feature in jobsatwork_CRs[1:]:\n",
    "    plt.subplot(grid_size, grid_size, i)\n",
    "    sns.distplot(jobs_atwork[feature].dropna())\n",
    "    i = i + 1\n"
   ]
  },
  {
   "cell_type": "code",
   "execution_count": null,
   "metadata": {
    "scrolled": true
   },
   "outputs": [],
   "source": [
    "i=1\n",
    "plt.figure(figsize=(30,30))\n",
    "grid_size = math.ceil(np.sqrt(len(health_CRs)))\n",
    "for feature in health_CRs[1:]:\n",
    "    plt.subplot(grid_size, grid_size, i)\n",
    "    sns.distplot(health[feature].dropna())\n",
    "    i = i + 1\n"
   ]
  },
  {
   "cell_type": "code",
   "execution_count": null,
   "metadata": {
    "scrolled": true
   },
   "outputs": [],
   "source": [
    "i=1\n",
    "plt.figure(figsize=(30,30))\n",
    "grid_size = math.ceil(np.sqrt(len(personality_CRs)))\n",
    "for feature in personality_CRs[1:]:\n",
    "    plt.subplot(grid_size, grid_size, i)\n",
    "    sns.distplot(personality[feature].dropna())\n",
    "    i = i + 1\n"
   ]
  },
  {
   "cell_type": "code",
   "execution_count": null,
   "metadata": {},
   "outputs": [],
   "source": []
  },
  {
   "cell_type": "code",
   "execution_count": null,
   "metadata": {},
   "outputs": [],
   "source": []
  },
  {
   "cell_type": "code",
   "execution_count": null,
   "metadata": {},
   "outputs": [],
   "source": []
  }
 ],
 "metadata": {
  "kernelspec": {
   "display_name": "Python 3",
   "language": "python",
   "name": "python3"
  },
  "language_info": {
   "codemirror_mode": {
    "name": "ipython",
    "version": 3
   },
   "file_extension": ".py",
   "mimetype": "text/x-python",
   "name": "python",
   "nbconvert_exporter": "python",
   "pygments_lexer": "ipython3",
   "version": "3.6.7"
  }
 },
 "nbformat": 4,
 "nbformat_minor": 2
}
