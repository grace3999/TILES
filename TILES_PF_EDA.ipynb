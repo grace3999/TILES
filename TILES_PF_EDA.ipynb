{
 "cells": [
  {
   "cell_type": "markdown",
   "metadata": {},
   "source": [
    "Explore psychological flexibility EMA data after preprocessing (see other NBs for preprocessing code), determine outliers and careless responding among participants and across survey admin dates"
   ]
  },
  {
   "cell_type": "code",
   "execution_count": null,
   "metadata": {},
   "outputs": [],
   "source": [
    "#getting and working with data\n",
    "import pandas as pd\n",
    "import numpy as np\n",
    "import re\n",
    "import os\n",
    "from itertools import groupby\n",
    "\n",
    "#visualizing results\n",
    "%matplotlib inline\n",
    "import seaborn as sns\n",
    "import matplotlib.pyplot as plt\n",
    "#import yellowbrick as yb\n",
    "\n",
    "pd.set_option('display.max_rows', 500)\n",
    "pd.set_option('display.max_columns', 500)\n",
    "pd.set_option('display.width', 1000)\n",
    "\n",
    "import warnings; warnings.simplefilter('ignore')\n",
    "np.set_printoptions(suppress=True)"
   ]
  },
  {
   "cell_type": "code",
   "execution_count": null,
   "metadata": {},
   "outputs": [],
   "source": [
    "path_PF_clean = 'C:/Users/Schindler/Documents/Schindler_Lab/Data/Clinical projects/TILES/final_data/pf_final.csv'\n",
    "path_part_info = 'C:/Users/Schindler/Documents/Schindler_Lab/Data/Clinical projects/TILES/final_data/participant_info.csv'"
   ]
  },
  {
   "cell_type": "code",
   "execution_count": null,
   "metadata": {},
   "outputs": [],
   "source": [
    "#read in csv containing participant info\n",
    "data_part_info = pd.read_csv(path_part_info)\n",
    "data_part_info = pd.DataFrame(data = data_part_info)\n",
    "#data_PF.reset_index(inplace=True)\n",
    "\n",
    "print('Original data_part_info shape:\\n', data_part_info.shape, '\\n')\n",
    "#ensure no replicate ID (211 participants in study)\n",
    "print('Original data_part_info unique IDs:\\n', data_part_info['ParticipantID'].unique().shape, '\\n')\n",
    "#how much missing data is there?\n",
    "print('Original data_part_info missing value counts:\\n', data_part_info.isnull().sum(), '\\n')\n",
    "#what is the data type of each column?\n",
    "print('Original data_part_info data types:\\n', data_part_info.info(), '\\n')\n",
    "\n",
    "data_part_info.head()"
   ]
  },
  {
   "cell_type": "code",
   "execution_count": null,
   "metadata": {},
   "outputs": [],
   "source": [
    "#there should only be a single entry for each of the 212 participants but data frame is 213 rows, find duplicate ParticipantIDs\n",
    "print(data_part_info['ParticipantID'].value_counts())\n",
    "#examine duplicate\n",
    "print(data_part_info[data_part_info['ParticipantID'] == '5dc874cc-0b53-449b-bfa9-57fb665f388b'])\n",
    "#duplicate entry confirmed, delete duplicate \n",
    "data_part_info.drop_duplicates(subset='ParticipantID', keep='first', inplace=True)\n",
    "print(data_part_info['ParticipantID'].shape)"
   ]
  },
  {
   "cell_type": "code",
   "execution_count": null,
   "metadata": {},
   "outputs": [],
   "source": [
    "#read in csv from preprocessed psychologial felxibility EMAs \n",
    "data_PF = pd.read_csv(path_PF_clean)\n",
    "data_PF = pd.DataFrame(data = data_PF)\n",
    "#data_PF.reset_index(inplace=True)\n",
    "\n",
    "print('Original data_PF_S3 shape:\\n', data_PF.shape, '\\n')\n",
    "#ensure no replicate ID (211 participants in study)\n",
    "print('Original data_PF_S3 unique IDs:\\n', data_PF['participant_id'].unique().shape, '\\n')\n",
    "#how much missing data is there?\n",
    "print('Original data_PF_S3 missing value counts:\\n', data_PF.isnull().sum(), '\\n')\n",
    "#what is the data type of each column?\n",
    "print('Original data_PF_S3 data types:\\n', data_PF.info(), '\\n')\n",
    "#what is the participant response rate across the entire study?\n",
    "print('Non-response rate for PF survey:\\n', data_PF['completed_ts_utc'].isnull().sum() / data_PF.shape[0] * 100, '%')\n",
    "#add a binary column for if survey was completed (1) or not (0)\n",
    "data_PF['completed'] = np.where(data_PF['results_updated'].isnull(), 0, 1)"
   ]
  },
  {
   "cell_type": "code",
   "execution_count": null,
   "metadata": {},
   "outputs": [],
   "source": [
    "#add the information contained in data_part_info to data_PF\n",
    "#first create new data table of data_part_info that contains the same number of rows for each participant in that is in data_PF\n",
    "#(e.g. replicate data_part_info so same length as data_PF for each participant)\n",
    "\n",
    "participants = data_PF['participant_id'].unique()\n",
    "\n",
    "data_part_info_long = pd.DataFrame()\n",
    "\n",
    "for part in participants:\n",
    "    df_part_long = pd.concat([data_part_info[data_part_info['ParticipantID'] == part]]*len(data_PF[data_PF['participant_id'] ==  part]), ignore_index=True)\n",
    "    data_part_info_long = data_part_info_long.append(df_part_long)\n",
    "\n",
    "#confirm the two data tables are now the same lenght\n",
    "print('data_PF and data_part_info_long are the same length:', data_PF.shape[0] == data_part_info_long.shape[0])\n",
    "print(data_PF.shape[0])\n",
    "print(data_part_info_long.shape[0])"
   ]
  },
  {
   "cell_type": "code",
   "execution_count": null,
   "metadata": {},
   "outputs": [],
   "source": [
    "#merge data tables\n",
    "data_PF.reset_index(inplace=True)\n",
    "data_part_info_long.reset_index(inplace=True)\n",
    "data_PF_final = pd.concat([data_PF, data_part_info_long], axis = 1)\n",
    "#data_PF_final = pd.merge(data_PF, data_part_info_long, left_on='participant_id', right_on='ParticipantID')\n",
    "print(data_PF_final.shape)\n",
    "data_PF_final.head()"
   ]
  },
  {
   "cell_type": "code",
   "execution_count": null,
   "metadata": {},
   "outputs": [],
   "source": [
    "#make new column corresponding to the number in series of survey sent for each participant\n",
    "part_id = data_PF_final['participant_id'].unique()\n",
    "for participant in part_id:\n",
    "    surveys = data_PF_final[data_PF_final['participant_id'] == participant]\n",
    "    data_PF_final.loc[data_PF_final['participant_id'] == participant, 'survey_count'] = np.arange(surveys.shape[0])"
   ]
  },
  {
   "cell_type": "code",
   "execution_count": null,
   "metadata": {},
   "outputs": [],
   "source": [
    "#change dates from objects to datetimes\n",
    "data_PF_final['survey_dt'] = data_PF_final['survey_dt'].astype('datetime64')\n",
    "data_PF_final['delivered_ts_utc'] = data_PF_final['delivered_ts_utc'].astype('datetime64[ns]')\n",
    "data_PF_final['started_ts_utc'] = data_PF_final['started_ts_utc'].astype('datetime64[ns]')\n",
    "data_PF_final['completed_ts_utc'] = data_PF_final['completed_ts_utc'].astype('datetime64[ns]')\n",
    "data_PF_final['ingested_ts_utc'] = data_PF_final['ingested_ts_utc'].astype('datetime64[ns]')\n",
    "\n",
    "#confirm change \n",
    "print(data_PF_final.info())"
   ]
  },
  {
   "cell_type": "code",
   "execution_count": null,
   "metadata": {},
   "outputs": [],
   "source": [
    "#make new column of only numeric corresponding to activity questions (code -1 for write in responses)\n",
    "activity_num = []\n",
    "for index, row in data_PF_final.iterrows():\n",
    "    try:\n",
    "        num = float(row['activity'])\n",
    "        activity_num.append(num)\n",
    "    except:\n",
    "        activity_num.append(-1)\n",
    "\n",
    "data_PF_final['activity_num'] = activity_num"
   ]
  },
  {
   "cell_type": "code",
   "execution_count": null,
   "metadata": {},
   "outputs": [],
   "source": [
    "#compute time between when survey is sent and when participant starts the survey\n",
    "data_PF_final['start_delay'] = (data_PF_final['started_ts_utc'] - data_PF_final['delivered_ts_utc']).astype('timedelta64[s]')\n",
    "#compute time between when survey is sent and when participant starts the survey\n",
    "data_PF_final['time_to_complete'] = (data_PF_final['completed_ts_utc'] - data_PF_final['started_ts_utc']).astype('timedelta64[s]')"
   ]
  },
  {
   "cell_type": "code",
   "execution_count": null,
   "metadata": {},
   "outputs": [],
   "source": [
    "#each participant should have 50 survey entries\n",
    "data_PF_final['participant_id'].value_counts()"
   ]
  },
  {
   "cell_type": "code",
   "execution_count": null,
   "metadata": {},
   "outputs": [],
   "source": [
    "#number of participants sent surveys across time\n",
    "ax = data_PF_final.groupby('survey_count')['participant_id'].count().plot()\n",
    "#number of participants completed surveys across time\n",
    "ax = data_PF_final[data_PF_final['completed'] == 1].groupby('survey_count')['completed'].count().plot()\n",
    "plt.legend(('sent', 'completed'))\n",
    "plt.title('Surveys sent vs completed across time')\n",
    "ax.set_ylabel('Count')\n",
    "plt.show"
   ]
  },
  {
   "cell_type": "code",
   "execution_count": null,
   "metadata": {},
   "outputs": [],
   "source": [
    "#number of participants sent surveys across time\n",
    "ax = data_PF_final.groupby('survey_dt')['participant_id'].count().plot()\n",
    "#number of participants completed surveys across time\n",
    "ax = data_PF_final[data_PF_final['completed'] == 1].groupby('survey_dt')['completed'].count().plot()\n",
    "plt.legend(('sent', 'completed'))\n",
    "plt.title('Surveys sent vs completed across time')\n",
    "ax.set_ylabel('Count')\n",
    "plt.show"
   ]
  },
  {
   "cell_type": "code",
   "execution_count": null,
   "metadata": {},
   "outputs": [],
   "source": [
    "#split off data for surveys that were completed\n",
    "data_PF_completed = data_PF_final[data_PF_final['completed'] == 1]\n",
    "#data_PF_completed.reset_index(inplace=True)\n",
    "print(data_PF_completed.shape)\n",
    "#null survey questions for surveys that were completed\n",
    "data_PF_completed.isnull().sum()"
   ]
  },
  {
   "cell_type": "code",
   "execution_count": null,
   "metadata": {},
   "outputs": [],
   "source": [
    "#there should be no nans in columns 'activity' and 'pf_3' to 'pf_mgt', find these rows\n",
    "pf_no_comp = data_PF_completed.loc[data_PF_completed.loc[:, 'activity':'pf_mgt'].isnull().sum(axis=1) > 0]\n",
    "print(pf_no_comp.shape)\n",
    "pf_no_comp.to_csv('pf_no_comp.csv')\n",
    "#participants did not have to answer 'exp_0' to 'exp_13', so no missing values"
   ]
  },
  {
   "cell_type": "code",
   "execution_count": null,
   "metadata": {},
   "outputs": [],
   "source": [
    "#compute new column containing long string analysis results (e.g. max length of same number answered for pf_03:pf_15)\n",
    "max_string = []\n",
    "for index, row in data_PF_completed.iterrows():\n",
    "    repeats = []\n",
    "    for k, g in groupby(row.loc['pf_03':'pf_15']):\n",
    "        repeats.append(sum(1 for i in g))\n",
    "    max_string.append(max(repeats))\n",
    "\n",
    "data_PF_completed['longest_string_pf'] = max_string"
   ]
  },
  {
   "cell_type": "code",
   "execution_count": null,
   "metadata": {},
   "outputs": [],
   "source": []
  },
  {
   "cell_type": "code",
   "execution_count": null,
   "metadata": {},
   "outputs": [],
   "source": [
    "#new data frame of only first 50 surveys\n",
    "data_PF_completed_first50 = data_PF_completed[data_PF_completed['survey_count'] < 50]"
   ]
  },
  {
   "cell_type": "code",
   "execution_count": null,
   "metadata": {},
   "outputs": [],
   "source": [
    "data_PF_completed_first50['time_to_complete'].plot(kind='hist', bins=50)"
   ]
  },
  {
   "cell_type": "code",
   "execution_count": null,
   "metadata": {},
   "outputs": [],
   "source": [
    "#create bins of 5 surveys across time\n",
    "data_PF_completed_first50['survey_count_by5'] = pd.cut(data_PF_completed['survey_count'], 10, labels=False)\n",
    "#create bins of start_delay\n",
    "data_PF_completed_first50['start_delay_3'] = pd.cut(data_PF_completed['start_delay'], 10, labels=False)\n",
    "#create bins of time_to_complete\n",
    "data_PF_completed_first50['time_to_complete_3'] = pd.cut(data_PF_completed['time_to_complete'], 3, labels=False)\n",
    "#create bins of time_to_complete\n",
    "data_PF_completed_first50['longest_string_pf_3'] = pd.cut(data_PF_completed['longest_string_pf'], 3, labels=False)"
   ]
  },
  {
   "cell_type": "code",
   "execution_count": null,
   "metadata": {},
   "outputs": [],
   "source": []
  },
  {
   "cell_type": "code",
   "execution_count": null,
   "metadata": {},
   "outputs": [],
   "source": []
  },
  {
   "cell_type": "code",
   "execution_count": null,
   "metadata": {},
   "outputs": [],
   "source": []
  },
  {
   "cell_type": "code",
   "execution_count": null,
   "metadata": {},
   "outputs": [],
   "source": [
    "ax = (data_PF[data_PF['completed'] == 1].groupby('survey_count')['participant_id'].count() /\n",
    "data_PF.groupby('survey_count')['participant_id'].count()*100).plot()\n",
    "\n",
    "ax.set_ylabel('Response rate (%)')\n",
    "plt.title('Survey response rate across time')\n",
    "plt.show"
   ]
  },
  {
   "cell_type": "code",
   "execution_count": null,
   "metadata": {},
   "outputs": [],
   "source": [
    "#delay to starting survey across survey dates\n",
    "ax = data_PF_completed.groupby('survey_count')['start_delay'].mean().plot()\n",
    "\n",
    "plt.title('Delay to starting survey across survey dates')\n",
    "ax.set_ylabel('Min')\n",
    "plt.show"
   ]
  },
  {
   "cell_type": "code",
   "execution_count": null,
   "metadata": {},
   "outputs": [],
   "source": [
    "#time to complete survey across survey dates\n",
    "ax = data_PF_completed.groupby('survey_count')['time_to_complete'].mean().plot()\n",
    "\n",
    "plt.title('Time to complete survey across survey dates')\n",
    "ax.set_ylabel('Min')\n",
    "plt.show"
   ]
  },
  {
   "cell_type": "code",
   "execution_count": null,
   "metadata": {},
   "outputs": [],
   "source": [
    "data_PF_completed.head()"
   ]
  },
  {
   "cell_type": "code",
   "execution_count": null,
   "metadata": {},
   "outputs": [],
   "source": [
    "#time to complete survey across participants\n",
    "ax = data_PF_completed.groupby(['participant_id'])['time_to_complete'].mean().plot(kind='hist', bins = 75)\n",
    "\n",
    "plt.title('Time to complete survey across participants')\n",
    "ax.set_ylabel('Number of participants')\n",
    "plt.show"
   ]
  },
  {
   "cell_type": "code",
   "execution_count": null,
   "metadata": {
    "scrolled": true
   },
   "outputs": [],
   "source": [
    "#pf_mgt across survey dates\n",
    "ax = data_PF_completed.groupby(['survey_count'])['pf_mgt'].mean().plot()\n",
    "\n",
    "plt.title('pf_mgt across survey dates')\n",
    "ax.set_ylabel('pf_mgt')\n",
    "plt.show"
   ]
  },
  {
   "cell_type": "code",
   "execution_count": null,
   "metadata": {},
   "outputs": [],
   "source": [
    "#delay to starting survey across survey dates\n",
    "ax = data_PF_completed.groupby('survey_count')['longest_string_pf'].mean().plot()\n",
    "\n",
    "plt.title('Longest string across survey dates')\n",
    "ax.set_ylabel('Longest string')\n",
    "plt.show"
   ]
  },
  {
   "cell_type": "code",
   "execution_count": null,
   "metadata": {},
   "outputs": [],
   "source": [
    "dep_vars = ['pf_mgt', 'exp_neg', 'exp_pos', 'exp_neut', 'survey_count', 'start_delay', 'time_to_complete', 'longest_string_pf']\n",
    "sns.pairplot(data_PF_completed[dep_vars].dropna(), kind='reg')"
   ]
  },
  {
   "cell_type": "code",
   "execution_count": null,
   "metadata": {},
   "outputs": [],
   "source": [
    "data_PF_completed[dep_vars].corr()"
   ]
  },
  {
   "cell_type": "code",
   "execution_count": null,
   "metadata": {},
   "outputs": [],
   "source": [
    "for param in dep_vars:\n",
    "    plt.figure(figsize=(10,5))\n",
    "    data_PF_completed.groupby(['activity_num'])[param].mean().plot(kind='bar', yerr=data_PF_completed.groupby(['activity_num'])[param].sem())\n",
    "    plt.ylabel([param])\n",
    "    plt.show()"
   ]
  },
  {
   "cell_type": "code",
   "execution_count": null,
   "metadata": {},
   "outputs": [],
   "source": [
    "for param in dep_vars:\n",
    "    plt.figure(figsize=(10,5))\n",
    "    data_PF_completed.groupby(['longest_string_pf'])[param].mean().plot(kind='bar', yerr=data_PF_completed.groupby(['longest_string_pf'])[param].sem())\n",
    "    plt.ylabel([param])\n",
    "    plt.show()"
   ]
  },
  {
   "cell_type": "code",
   "execution_count": null,
   "metadata": {},
   "outputs": [],
   "source": [
    "data_PF_completed[data_PF_completed['time_to_complete'] <= 600]['time_to_complete'].plot(kind='hist', bins=50)"
   ]
  },
  {
   "cell_type": "code",
   "execution_count": null,
   "metadata": {},
   "outputs": [],
   "source": [
    "data_PF_completed['time_to_complete'].value_counts()"
   ]
  },
  {
   "cell_type": "code",
   "execution_count": null,
   "metadata": {},
   "outputs": [],
   "source": []
  },
  {
   "cell_type": "code",
   "execution_count": null,
   "metadata": {},
   "outputs": [],
   "source": []
  },
  {
   "cell_type": "code",
   "execution_count": null,
   "metadata": {},
   "outputs": [],
   "source": []
  },
  {
   "cell_type": "code",
   "execution_count": null,
   "metadata": {},
   "outputs": [],
   "source": []
  },
  {
   "cell_type": "code",
   "execution_count": null,
   "metadata": {},
   "outputs": [],
   "source": []
  },
  {
   "cell_type": "code",
   "execution_count": null,
   "metadata": {},
   "outputs": [],
   "source": []
  },
  {
   "cell_type": "code",
   "execution_count": null,
   "metadata": {},
   "outputs": [],
   "source": []
  },
  {
   "cell_type": "code",
   "execution_count": null,
   "metadata": {},
   "outputs": [],
   "source": []
  },
  {
   "cell_type": "code",
   "execution_count": null,
   "metadata": {},
   "outputs": [],
   "source": []
  },
  {
   "cell_type": "code",
   "execution_count": null,
   "metadata": {},
   "outputs": [],
   "source": [
    "data_PF_completed[data_PF_completed['time_to_complete'] <= 5]['time_to_complete'].shape"
   ]
  }
 ],
 "metadata": {
  "kernelspec": {
   "display_name": "Python 3",
   "language": "python",
   "name": "python3"
  },
  "language_info": {
   "codemirror_mode": {
    "name": "ipython",
    "version": 3
   },
   "file_extension": ".py",
   "mimetype": "text/x-python",
   "name": "python",
   "nbconvert_exporter": "python",
   "pygments_lexer": "ipython3",
   "version": "3.6.7"
  }
 },
 "nbformat": 4,
 "nbformat_minor": 2
}
