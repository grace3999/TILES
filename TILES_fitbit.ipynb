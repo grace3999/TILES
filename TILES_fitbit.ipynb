{
 "cells": [
  {
   "cell_type": "code",
   "execution_count": null,
   "metadata": {},
   "outputs": [],
   "source": [
    "#getting and working with data\n",
    "import pandas as pd\n",
    "import numpy as np\n",
    "import re\n",
    "import os\n",
    "\n",
    "#visualizing results\n",
    "%matplotlib inline\n",
    "import seaborn as sns\n",
    "import matplotlib.pyplot as plt\n",
    "#import yellowbrick as yb\n",
    "\n",
    "pd.set_option('display.max_rows', 500)\n",
    "pd.set_option('display.max_columns', 500)\n",
    "pd.set_option('display.width', 1000)\n",
    "\n",
    "import warnings; warnings.simplefilter('ignore')\n",
    "np.set_printoptions(suppress=True)"
   ]
  },
  {
   "cell_type": "code",
   "execution_count": null,
   "metadata": {},
   "outputs": [],
   "source": [
    "path_participant_info = 'C:/Users/Schindler/Documents/Schindler_Lab/Data/Clinical projects/TILES/Data_googledrive/S3participant_info.csv'\n",
    "path_fitbit = 'C:/Users/Schindler/Documents/Schindler_Lab/Data/Clinical projects/TILES/f9264a9d-99d8-4937-8bda-eb620c0c1ed7_dailySummary.csv'\n",
    "path_EMA_MOSAIC = 'C:/Users/Schindler/Documents/Schindler_Lab/Data/Clinical projects/TILES/Data_googledrive/EMA surveys -MOSAIC.csv'"
   ]
  },
  {
   "cell_type": "code",
   "execution_count": null,
   "metadata": {},
   "outputs": [],
   "source": [
    "data_info = pd.read_csv(path_participant_info)\n",
    "data_info = pd.DataFrame(data = data_info)\n",
    "data_info.head()"
   ]
  },
  {
   "cell_type": "code",
   "execution_count": null,
   "metadata": {},
   "outputs": [],
   "source": [
    "#read in csv from S3 bucket containing participant info\n",
    "data_info = pd.read_csv(path_participant_info)\n",
    "data_info = pd.DataFrame(data = data_info)\n",
    "print('Original data_info shape:\\n', data_info.shape, '\\n')\n",
    "#ensure no replicate ID (211 participants in study)\n",
    "print('Original data_info unique participant IDs:\\n', data_info['ParticipantID'].unique().shape, '\\n')\n",
    "#ensure no replicate ID (211 participants in study)\n",
    "print('Original data_info unique MitreID:\\n', data_info['MitreID'].unique().shape, '\\n')\n",
    "#how much missing data is there?\n",
    "print('Original data_info missing value counts:\\n', data_info.isnull().sum(), '\\n')\n",
    "#what is the data type of each column?\n",
    "print('Original data_info data types:\\n', data_info.info(), '\\n')"
   ]
  },
  {
   "cell_type": "code",
   "execution_count": null,
   "metadata": {},
   "outputs": [],
   "source": [
    "data_info['MitreID'].value_counts()"
   ]
  },
  {
   "cell_type": "code",
   "execution_count": null,
   "metadata": {},
   "outputs": [],
   "source": [
    "data_info[data_info['MitreID'] == 'SD1042']"
   ]
  },
  {
   "cell_type": "code",
   "execution_count": null,
   "metadata": {},
   "outputs": [],
   "source": [
    "#read in csv from S3 bucket containing example fitbit data from a single participant\n",
    "data_fitbit = pd.read_csv(path_fitbit)\n",
    "data_fitbit = pd.DataFrame(data = data_fitbit)\n",
    "print('Original data_fitbit shape:\\n', data_fitbit.shape, '\\n')\n",
    "#ensure no replicate ID (211 participants in study)\n",
    "print('Original data_fitbit unique timestamps:\\n', data_fitbit['Timestamp'].unique().shape, '\\n')\n",
    "#how much missing data is there?\n",
    "print('Original data_fitbit missing value counts:\\n', data_fitbit.isnull().sum(), '\\n')\n",
    "#what is the data type of each column?\n",
    "print('Original data_fitbit data types:\\n', data_fitbit.info(), '\\n')"
   ]
  },
  {
   "cell_type": "code",
   "execution_count": null,
   "metadata": {},
   "outputs": [],
   "source": [
    "#change dates from objects to datetimes\n",
    "data_fitbit['Timestamp'] = data_fitbit['Timestamp'].astype('datetime64')\n",
    "data_fitbit['Sleep1BeginTimestamp'] = data_fitbit['Sleep1BeginTimestamp'].astype('datetime64')\n",
    "data_fitbit['Sleep1EndTimestamp'] = data_fitbit['Sleep1EndTimestamp'].astype('datetime64')\n",
    "data_fitbit['Sleep2BeginTimestamp'] = data_fitbit['Sleep2BeginTimestamp'].astype('datetime64')\n",
    "data_fitbit['Sleep2EndTimestamp'] = data_fitbit['Sleep2EndTimestamp'].astype('datetime64')\n",
    "data_fitbit['Sleep3BeginTimestamp'] = data_fitbit['Sleep3BeginTimestamp'].astype('datetime64')\n",
    "data_fitbit['Sleep3EndTimestamp'] = data_fitbit['Sleep3EndTimestamp'].astype('datetime64')\n",
    "\n",
    "#confirm change \n",
    "print(data_fitbit.info())"
   ]
  },
  {
   "cell_type": "code",
   "execution_count": null,
   "metadata": {
    "scrolled": true
   },
   "outputs": [],
   "source": [
    "#read in MOSAIC EMA \n",
    "data_EMA = pd.read_csv(path_EMA_MOSAIC)\n",
    "data_EMA = pd.DataFrame(data = data_EMA)\n",
    "print('Original MOSAIC EMA shape:\\n', data_EMA.shape, '\\n')\n",
    "print('Original MOSAIC EMA survey type counts:\\n', data_EMA['survey_type'].value_counts(), '\\n')\n",
    "print('Original MOSAIC EMA missing value couts:\\n', data_EMA.isnull().sum(), '\\n')\n",
    "print('Original MOSAIC EMA data types:\\n', data_EMA.info(), '\\n')"
   ]
  },
  {
   "cell_type": "code",
   "execution_count": null,
   "metadata": {},
   "outputs": [],
   "source": [
    "#change dates from objects to datetimes\n",
    "data_EMA['timestamp'] = data_EMA['timestamp'].str.split(' ', expand=True)[0]\n",
    "data_EMA['timestamp'] = data_EMA['timestamp'].astype('datetime64')\n",
    "#confirm change \n",
    "print(data_EMA.info())"
   ]
  },
  {
   "cell_type": "code",
   "execution_count": null,
   "metadata": {},
   "outputs": [],
   "source": [
    "participant_ID = 'f9264a9d-99d8-4937-8bda-eb620c0c1ed7'\n",
    "participant_mitID = data_info[data_info['ParticipantID'] == participant_ID]['MitreID'].values[0]"
   ]
  },
  {
   "cell_type": "code",
   "execution_count": null,
   "metadata": {},
   "outputs": [],
   "source": [
    "#select entries corresponding to participant ID\n",
    "data_part = data_EMA[data_EMA['uid'] == participant_mitID]\n",
    "\n",
    "#stress high and low dfs\n",
    "stress_high = data_part[data_part['stress_mgt'] == 2]\n",
    "stress_low = data_part[data_part['stress_mgt'] == 1]"
   ]
  },
  {
   "cell_type": "code",
   "execution_count": null,
   "metadata": {},
   "outputs": [],
   "source": [
    "stress_high_ts = list(stress_high['timestamp'])\n",
    "stress_low_ts = list(stress_low['timestamp'])\n",
    "\n",
    "steps_high = []\n",
    "steps_low = []\n",
    "\n",
    "for ts in stress_high_ts:\n",
    "    steps_high.append(data_fitbit[data_fitbit['Timestamp'] == ts]['NumberSteps'].values)\n",
    "\n",
    "for ts in stress_low_ts:\n",
    "    steps_low.append(data_fitbit[data_fitbit['Timestamp'] == ts]['NumberSteps'].values)"
   ]
  },
  {
   "cell_type": "code",
   "execution_count": null,
   "metadata": {},
   "outputs": [],
   "source": [
    "print(np.array(steps_high).mean())\n",
    "print(np.array(steps_low).mean())"
   ]
  },
  {
   "cell_type": "code",
   "execution_count": null,
   "metadata": {},
   "outputs": [],
   "source": []
  },
  {
   "cell_type": "code",
   "execution_count": null,
   "metadata": {},
   "outputs": [],
   "source": []
  },
  {
   "cell_type": "code",
   "execution_count": null,
   "metadata": {},
   "outputs": [],
   "source": []
  },
  {
   "cell_type": "code",
   "execution_count": null,
   "metadata": {},
   "outputs": [],
   "source": []
  },
  {
   "cell_type": "code",
   "execution_count": null,
   "metadata": {},
   "outputs": [],
   "source": []
  },
  {
   "cell_type": "code",
   "execution_count": null,
   "metadata": {},
   "outputs": [],
   "source": []
  },
  {
   "cell_type": "code",
   "execution_count": null,
   "metadata": {},
   "outputs": [],
   "source": []
  }
 ],
 "metadata": {
  "kernelspec": {
   "display_name": "Python 3",
   "language": "python",
   "name": "python3"
  },
  "language_info": {
   "codemirror_mode": {
    "name": "ipython",
    "version": 3
   },
   "file_extension": ".py",
   "mimetype": "text/x-python",
   "name": "python",
   "nbconvert_exporter": "python",
   "pygments_lexer": "ipython3",
   "version": "3.6.7"
  }
 },
 "nbformat": 4,
 "nbformat_minor": 2
}
